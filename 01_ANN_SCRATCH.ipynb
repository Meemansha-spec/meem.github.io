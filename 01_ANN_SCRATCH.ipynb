{
  "nbformat": 4,
  "nbformat_minor": 0,
  "metadata": {
    "colab": {
      "name": "01_ANN_SCRATCH.ipynb",
      "provenance": [],
      "collapsed_sections": [],
      "mount_file_id": "1EoKKa2vHrFtHP85BW13wcMIfhzyWOwao",
      "authorship_tag": "ABX9TyPDzjPW60658inhvAJLOnFL",
      "include_colab_link": true
    },
    "kernelspec": {
      "name": "python3",
      "display_name": "Python 3"
    },
    "accelerator": "GPU"
  },
  "cells": [
    {
      "cell_type": "markdown",
      "metadata": {
        "id": "view-in-github",
        "colab_type": "text"
      },
      "source": [
        "<a href=\"https://colab.research.google.com/github/Meemansha-spec/meem.github.io/blob/master/01_ANN_SCRATCH.ipynb\" target=\"_parent\"><img src=\"https://colab.research.google.com/assets/colab-badge.svg\" alt=\"Open In Colab\"/></a>"
      ]
    },
    {
      "cell_type": "markdown",
      "metadata": {
        "id": "PKkP9NYSRK1H"
      },
      "source": [
        "## Lets build ANN using Python from scratch\n",
        "- Single layer perceptron\n"
      ]
    },
    {
      "cell_type": "code",
      "metadata": {
        "colab": {
          "base_uri": "https://localhost:8080/"
        },
        "id": "CquRmqhR7VZ5",
        "outputId": "81d2fc6c-f531-477b-df33-16de2ed7d09b"
      },
      "source": [
        "import tensorflow as tf\n",
        "print(tf.__version__)"
      ],
      "execution_count": null,
      "outputs": [
        {
          "output_type": "stream",
          "text": [
            "2.4.1\n"
          ],
          "name": "stdout"
        }
      ]
    },
    {
      "cell_type": "code",
      "metadata": {
        "id": "VdmpgmTzzCrV"
      },
      "source": [
        "import numpy as np"
      ],
      "execution_count": null,
      "outputs": []
    },
    {
      "cell_type": "code",
      "metadata": {
        "id": "cwlvBc-a1mRO"
      },
      "source": [
        "inputs = np.array([35,25])"
      ],
      "execution_count": null,
      "outputs": []
    },
    {
      "cell_type": "code",
      "metadata": {
        "colab": {
          "base_uri": "https://localhost:8080/"
        },
        "id": "1GceUuwd7Kg7",
        "outputId": "ae34b472-9851-45ff-a9c7-ce93a05973aa"
      },
      "source": [
        "type(inputs)"
      ],
      "execution_count": null,
      "outputs": [
        {
          "output_type": "execute_result",
          "data": {
            "text/plain": [
              "numpy.ndarray"
            ]
          },
          "metadata": {
            "tags": []
          },
          "execution_count": 12
        }
      ]
    },
    {
      "cell_type": "code",
      "metadata": {
        "id": "-Y6ej2ga7rok"
      },
      "source": [
        "weights = np.array([0.8,0.1])"
      ],
      "execution_count": null,
      "outputs": []
    },
    {
      "cell_type": "markdown",
      "metadata": {
        "id": "LoK5sUu670wE"
      },
      "source": [
        "### sum function"
      ]
    },
    {
      "cell_type": "code",
      "metadata": {
        "id": "DjKnq0Iw7y4s"
      },
      "source": [
        "def sum(inputs , weights):\n",
        "  return inputs.dot(weights)"
      ],
      "execution_count": null,
      "outputs": []
    },
    {
      "cell_type": "code",
      "metadata": {
        "id": "JkHGnyaK8qFV"
      },
      "source": [
        "s = sum(inputs , weights)"
      ],
      "execution_count": null,
      "outputs": []
    },
    {
      "cell_type": "code",
      "metadata": {
        "colab": {
          "base_uri": "https://localhost:8080/"
        },
        "id": "kXYhSL7Z_4YM",
        "outputId": "bc779a9b-3ed3-466d-dd47-c343d9b2bf0d"
      },
      "source": [
        "s"
      ],
      "execution_count": null,
      "outputs": [
        {
          "output_type": "execute_result",
          "data": {
            "text/plain": [
              "30.5"
            ]
          },
          "metadata": {
            "tags": []
          },
          "execution_count": 17
        }
      ]
    },
    {
      "cell_type": "markdown",
      "metadata": {
        "id": "L8--_-kqxt3K"
      },
      "source": [
        "## step function"
      ]
    },
    {
      "cell_type": "code",
      "metadata": {
        "id": "US5GAc6fA8I8"
      },
      "source": [
        "def step_function(sum):\n",
        "  if (sum>=1):\n",
        "    return 1\n",
        "  return 0"
      ],
      "execution_count": null,
      "outputs": []
    },
    {
      "cell_type": "code",
      "metadata": {
        "colab": {
          "base_uri": "https://localhost:8080/"
        },
        "id": "BUgecKntx44i",
        "outputId": "dd42e7c3-7752-42df-fa88-51be09edf690"
      },
      "source": [
        "step_function(s)"
      ],
      "execution_count": null,
      "outputs": [
        {
          "output_type": "execute_result",
          "data": {
            "text/plain": [
              "1"
            ]
          },
          "metadata": {
            "tags": []
          },
          "execution_count": 19
        }
      ]
    },
    {
      "cell_type": "markdown",
      "metadata": {
        "id": "cnMs9qlO-jNz"
      },
      "source": [
        "## Make `AND` gate"
      ]
    },
    {
      "cell_type": "markdown",
      "metadata": {
        "id": "7Hrjp0l31qdk"
      },
      "source": [
        "## update weight\n",
        "* weight(n+1) = weight(n) + (learning_rate * input * error)\n",
        "* weight(n+1) = 0 + (0.1 * 1 * 1)\n",
        "* weight(n+1) = 0.1"
      ]
    },
    {
      "cell_type": "code",
      "metadata": {
        "id": "0Z8Jx60iyvds"
      },
      "source": [
        "inputs = np.array([[0,0],[0,1],[1,0],[1,1]])"
      ],
      "execution_count": null,
      "outputs": []
    },
    {
      "cell_type": "code",
      "metadata": {
        "colab": {
          "base_uri": "https://localhost:8080/"
        },
        "id": "hS8HZL2S34AI",
        "outputId": "00729105-cf56-48e8-b0c5-672f2df54b08"
      },
      "source": [
        "inputs.shape"
      ],
      "execution_count": null,
      "outputs": [
        {
          "output_type": "execute_result",
          "data": {
            "text/plain": [
              "(4, 2)"
            ]
          },
          "metadata": {
            "tags": []
          },
          "execution_count": 35
        }
      ]
    },
    {
      "cell_type": "code",
      "metadata": {
        "colab": {
          "base_uri": "https://localhost:8080/"
        },
        "id": "WMNmOs31ApiO",
        "outputId": "1ad3d87d-392a-49f5-d860-2a73d75491a0"
      },
      "source": [
        "inputs"
      ],
      "execution_count": null,
      "outputs": [
        {
          "output_type": "execute_result",
          "data": {
            "text/plain": [
              "array([[0, 0],\n",
              "       [0, 1],\n",
              "       [1, 0],\n",
              "       [1, 1]])"
            ]
          },
          "metadata": {
            "tags": []
          },
          "execution_count": 36
        }
      ]
    },
    {
      "cell_type": "code",
      "metadata": {
        "id": "rd8Ny15X383S"
      },
      "source": [
        "outputs = np.array([0,0,0,1])"
      ],
      "execution_count": null,
      "outputs": []
    },
    {
      "cell_type": "code",
      "metadata": {
        "colab": {
          "base_uri": "https://localhost:8080/"
        },
        "id": "FeVlFDDM4CSS",
        "outputId": "a060d38e-6f49-4097-baba-b65de0e12458"
      },
      "source": [
        "outputs"
      ],
      "execution_count": null,
      "outputs": [
        {
          "output_type": "execute_result",
          "data": {
            "text/plain": [
              "array([0, 0, 0, 1])"
            ]
          },
          "metadata": {
            "tags": []
          },
          "execution_count": 24
        }
      ]
    },
    {
      "cell_type": "code",
      "metadata": {
        "colab": {
          "base_uri": "https://localhost:8080/"
        },
        "id": "hr1mDFtc4fQk",
        "outputId": "2b24526b-70fb-4bbe-8dc0-074ec76a9271"
      },
      "source": [
        "outputs.shape"
      ],
      "execution_count": null,
      "outputs": [
        {
          "output_type": "execute_result",
          "data": {
            "text/plain": [
              "(4,)"
            ]
          },
          "metadata": {
            "tags": []
          },
          "execution_count": 25
        }
      ]
    },
    {
      "cell_type": "code",
      "metadata": {
        "id": "X09lMoIy4D6b"
      },
      "source": [
        "weights = np.array([0.0 , 0.0 ])"
      ],
      "execution_count": null,
      "outputs": []
    },
    {
      "cell_type": "code",
      "metadata": {
        "colab": {
          "base_uri": "https://localhost:8080/"
        },
        "id": "mqLq_ztXAuWZ",
        "outputId": "603b36da-ec10-4f9e-c23f-918f4dc664fc"
      },
      "source": [
        "weights"
      ],
      "execution_count": null,
      "outputs": [
        {
          "output_type": "execute_result",
          "data": {
            "text/plain": [
              "array([0., 0.])"
            ]
          },
          "metadata": {
            "tags": []
          },
          "execution_count": 37
        }
      ]
    },
    {
      "cell_type": "code",
      "metadata": {
        "id": "G0D7ZVCR4p4D"
      },
      "source": [
        "learning_rate = 0.1"
      ],
      "execution_count": null,
      "outputs": []
    },
    {
      "cell_type": "markdown",
      "metadata": {
        "id": "s5O5JUMU4w5q"
      },
      "source": [
        "## step function"
      ]
    },
    {
      "cell_type": "code",
      "metadata": {
        "id": "btn0ZiNQ4r-S"
      },
      "source": [
        "def step_function(sum):\n",
        "  if (sum>=1):\n",
        "    return 1\n",
        "  return 0"
      ],
      "execution_count": null,
      "outputs": []
    },
    {
      "cell_type": "code",
      "metadata": {
        "id": "wmOiQyhZ-ydm"
      },
      "source": [
        "def calculate_output(instance):\n",
        "  s  = instance.dot(weights)\n",
        "  return step_function(s)"
      ],
      "execution_count": null,
      "outputs": []
    },
    {
      "cell_type": "code",
      "metadata": {
        "colab": {
          "base_uri": "https://localhost:8080/"
        },
        "id": "1awBc5lO-_O4",
        "outputId": "feae21de-a7e6-4493-ef8c-c66b4e14ed2c"
      },
      "source": [
        "calculate_output(np.array(([1,1])))"
      ],
      "execution_count": null,
      "outputs": [
        {
          "output_type": "execute_result",
          "data": {
            "text/plain": [
              "0"
            ]
          },
          "metadata": {
            "tags": []
          },
          "execution_count": 68
        }
      ]
    },
    {
      "cell_type": "code",
      "metadata": {
        "colab": {
          "base_uri": "https://localhost:8080/"
        },
        "id": "cQe-LhROBCha",
        "outputId": "1027871a-b650-4d55-a155-11eb60bc7f59"
      },
      "source": [
        "len(outputs)"
      ],
      "execution_count": null,
      "outputs": [
        {
          "output_type": "execute_result",
          "data": {
            "text/plain": [
              "4"
            ]
          },
          "metadata": {
            "tags": []
          },
          "execution_count": 41
        }
      ]
    },
    {
      "cell_type": "code",
      "metadata": {
        "colab": {
          "base_uri": "https://localhost:8080/"
        },
        "id": "ZM-o9eylBE1l",
        "outputId": "74fa7037-3bfd-4fa3-d501-31b3ccd99a5c"
      },
      "source": [
        "inputs[3]"
      ],
      "execution_count": null,
      "outputs": [
        {
          "output_type": "execute_result",
          "data": {
            "text/plain": [
              "array([1, 1])"
            ]
          },
          "metadata": {
            "tags": []
          },
          "execution_count": 43
        }
      ]
    },
    {
      "cell_type": "code",
      "metadata": {
        "colab": {
          "base_uri": "https://localhost:8080/"
        },
        "id": "LMSPXWQ4BJ7c",
        "outputId": "83a771c3-6115-4780-c44c-e2366f608fed"
      },
      "source": [
        "inputs[1][1]"
      ],
      "execution_count": null,
      "outputs": [
        {
          "output_type": "execute_result",
          "data": {
            "text/plain": [
              "1"
            ]
          },
          "metadata": {
            "tags": []
          },
          "execution_count": 44
        }
      ]
    },
    {
      "cell_type": "code",
      "metadata": {
        "colab": {
          "base_uri": "https://localhost:8080/"
        },
        "id": "W2fRoEzMBm_a",
        "outputId": "b5a1be35-1884-481e-8be1-f586f752f588"
      },
      "source": [
        "len(weights)"
      ],
      "execution_count": null,
      "outputs": [
        {
          "output_type": "execute_result",
          "data": {
            "text/plain": [
              "2"
            ]
          },
          "metadata": {
            "tags": []
          },
          "execution_count": 45
        }
      ]
    },
    {
      "cell_type": "code",
      "metadata": {
        "id": "Mblh5k-s_OvY"
      },
      "source": [
        "def train():\n",
        "  total_error = 1 \n",
        "  while (total_error !=0):\n",
        "    total_error = 0\n",
        "    for i in range(len(outputs)):\n",
        "      prediction = calculate_output(inputs[i])\n",
        "      error = abs(outputs[i] - prediction)\n",
        "      total_error += error\n",
        "      if error>0:\n",
        "        for j in range(len(weights)):\n",
        "          weights[j] =  weights[j] + (learning_rate * inputs[i][j] * error)\n",
        "          print(\"weight updated:\" + str(weights[j]))\n",
        "      print('total error:' + str(total_error))\n"
      ],
      "execution_count": null,
      "outputs": []
    },
    {
      "cell_type": "code",
      "metadata": {
        "colab": {
          "base_uri": "https://localhost:8080/"
        },
        "id": "iXupXdkcCCmI",
        "outputId": "a8c95993-e737-49c7-f370-5403ab981e63"
      },
      "source": [
        "train()"
      ],
      "execution_count": null,
      "outputs": [
        {
          "output_type": "stream",
          "text": [
            "total error:0\n",
            "total error:0\n",
            "total error:0\n",
            "weight updated:0.1\n",
            "weight updated:0.1\n",
            "total error:1\n",
            "total error:0\n",
            "total error:0\n",
            "total error:0\n",
            "weight updated:0.2\n",
            "weight updated:0.2\n",
            "total error:1\n",
            "total error:0\n",
            "total error:0\n",
            "total error:0\n",
            "weight updated:0.30000000000000004\n",
            "weight updated:0.30000000000000004\n",
            "total error:1\n",
            "total error:0\n",
            "total error:0\n",
            "total error:0\n",
            "weight updated:0.4\n",
            "weight updated:0.4\n",
            "total error:1\n",
            "total error:0\n",
            "total error:0\n",
            "total error:0\n",
            "weight updated:0.5\n",
            "weight updated:0.5\n",
            "total error:1\n",
            "total error:0\n",
            "total error:0\n",
            "total error:0\n",
            "total error:0\n"
          ],
          "name": "stdout"
        }
      ]
    },
    {
      "cell_type": "markdown",
      "metadata": {
        "id": "OXV3UXqxDVtw"
      },
      "source": [
        "## classification"
      ]
    },
    {
      "cell_type": "code",
      "metadata": {
        "colab": {
          "base_uri": "https://localhost:8080/"
        },
        "id": "r1e42sPbCTLZ",
        "outputId": "d7dd0a5c-8d18-45bc-d12c-5ff9d82a22b4"
      },
      "source": [
        "weights"
      ],
      "execution_count": null,
      "outputs": [
        {
          "output_type": "execute_result",
          "data": {
            "text/plain": [
              "array([0.5, 0.5])"
            ]
          },
          "metadata": {
            "tags": []
          },
          "execution_count": 71
        }
      ]
    },
    {
      "cell_type": "code",
      "metadata": {
        "colab": {
          "base_uri": "https://localhost:8080/"
        },
        "id": "Q_hbOWG9DX1t",
        "outputId": "af9022c8-3881-4e75-b4ec-0629ec1cc5be"
      },
      "source": [
        "calculate_output(np.array([0,0]))"
      ],
      "execution_count": null,
      "outputs": [
        {
          "output_type": "execute_result",
          "data": {
            "text/plain": [
              "0"
            ]
          },
          "metadata": {
            "tags": []
          },
          "execution_count": 72
        }
      ]
    },
    {
      "cell_type": "code",
      "metadata": {
        "colab": {
          "base_uri": "https://localhost:8080/"
        },
        "id": "6-4J1PnPDavO",
        "outputId": "0eb986cb-5299-431e-93a3-b94772a83357"
      },
      "source": [
        "calculate_output(np.array([0,1]))"
      ],
      "execution_count": null,
      "outputs": [
        {
          "output_type": "execute_result",
          "data": {
            "text/plain": [
              "0"
            ]
          },
          "metadata": {
            "tags": []
          },
          "execution_count": 73
        }
      ]
    },
    {
      "cell_type": "code",
      "metadata": {
        "colab": {
          "base_uri": "https://localhost:8080/"
        },
        "id": "P8BpSvYqDelW",
        "outputId": "32efbf93-a006-48c9-c6d3-203cb67327b8"
      },
      "source": [
        "calculate_output(np.array([1,0]))"
      ],
      "execution_count": null,
      "outputs": [
        {
          "output_type": "execute_result",
          "data": {
            "text/plain": [
              "0"
            ]
          },
          "metadata": {
            "tags": []
          },
          "execution_count": 74
        }
      ]
    },
    {
      "cell_type": "code",
      "metadata": {
        "colab": {
          "base_uri": "https://localhost:8080/"
        },
        "id": "A1xHdnxKDm6C",
        "outputId": "538ef8d0-ef85-46e0-9215-5d55d4b38c8f"
      },
      "source": [
        "calculate_output(np.array([1,1]))"
      ],
      "execution_count": null,
      "outputs": [
        {
          "output_type": "execute_result",
          "data": {
            "text/plain": [
              "1"
            ]
          },
          "metadata": {
            "tags": []
          },
          "execution_count": 75
        }
      ]
    },
    {
      "cell_type": "markdown",
      "metadata": {
        "id": "j9f24oZgD1Fn"
      },
      "source": [
        "## perceptron `OR` operator"
      ]
    },
    {
      "cell_type": "code",
      "metadata": {
        "id": "7STb0aeqDpnb"
      },
      "source": [
        "inputs1 = np.array([[0,0],[0,1],[1,0],[1,1]])"
      ],
      "execution_count": null,
      "outputs": []
    },
    {
      "cell_type": "code",
      "metadata": {
        "id": "JC8-m8V2FbWp"
      },
      "source": [
        "outputs1 = np.array([0,1,1,1])"
      ],
      "execution_count": null,
      "outputs": []
    },
    {
      "cell_type": "code",
      "metadata": {
        "id": "iSgh7gkSEKHY"
      },
      "source": [
        "weights1= np.array([0.0,0.0])"
      ],
      "execution_count": null,
      "outputs": []
    },
    {
      "cell_type": "code",
      "metadata": {
        "id": "97HzGMBEEYqw"
      },
      "source": [
        "learning_rate1 = 0.1"
      ],
      "execution_count": null,
      "outputs": []
    },
    {
      "cell_type": "markdown",
      "metadata": {
        "id": "_tNwVG6oEeGP"
      },
      "source": [
        "## step function"
      ]
    },
    {
      "cell_type": "code",
      "metadata": {
        "id": "N1yvHIiGEdZD"
      },
      "source": [
        "def step_function(sum):\n",
        "  if(sum>=1):\n",
        "    return 1\n",
        "  return 0\n"
      ],
      "execution_count": null,
      "outputs": []
    },
    {
      "cell_type": "code",
      "metadata": {
        "id": "uhSVX2RVEnqo"
      },
      "source": [
        "def calculate_output(instance):\n",
        "  s = instance.dot(weights1)\n",
        "  return step_function(s)"
      ],
      "execution_count": null,
      "outputs": []
    },
    {
      "cell_type": "code",
      "metadata": {
        "id": "EDA9guGBEwmW"
      },
      "source": [
        "def train():\n",
        "  total_error = 1\n",
        "  while(total_error!=0):\n",
        "    total_error = 0\n",
        "    for i in range(len(outputs1)):\n",
        "      prediction = calculate_output(inputs1[i])\n",
        "      error = abs(outputs1[i] - prediction)\n",
        "      total_error += error\n",
        "      if error > 0:\n",
        "        for j in range(len(weights1)):\n",
        "          weights1[j] = weights1[j] + (learning_rate1 * inputs1[i][j] * error)\n",
        "          print('Weight updated: ' + str(weights1[j]))  \n",
        "    print('Total error: ' + str(total_error))"
      ],
      "execution_count": null,
      "outputs": []
    },
    {
      "cell_type": "code",
      "metadata": {
        "colab": {
          "base_uri": "https://localhost:8080/"
        },
        "id": "xpVcu44DFDTQ",
        "outputId": "9c19efa0-3750-4a08-ecdf-18917f5eee80"
      },
      "source": [
        "train()"
      ],
      "execution_count": null,
      "outputs": [
        {
          "output_type": "stream",
          "text": [
            "Weight updated: 0.0\n",
            "Weight updated: 0.1\n",
            "Weight updated: 0.1\n",
            "Weight updated: 0.1\n",
            "Weight updated: 0.2\n",
            "Weight updated: 0.2\n",
            "Total error: 3\n",
            "Weight updated: 0.2\n",
            "Weight updated: 0.30000000000000004\n",
            "Weight updated: 0.30000000000000004\n",
            "Weight updated: 0.30000000000000004\n",
            "Weight updated: 0.4\n",
            "Weight updated: 0.4\n",
            "Total error: 3\n",
            "Weight updated: 0.4\n",
            "Weight updated: 0.5\n",
            "Weight updated: 0.5\n",
            "Weight updated: 0.5\n",
            "Total error: 2\n",
            "Weight updated: 0.5\n",
            "Weight updated: 0.6\n",
            "Weight updated: 0.6\n",
            "Weight updated: 0.6\n",
            "Total error: 2\n",
            "Weight updated: 0.6\n",
            "Weight updated: 0.7\n",
            "Weight updated: 0.7\n",
            "Weight updated: 0.7\n",
            "Total error: 2\n",
            "Weight updated: 0.7\n",
            "Weight updated: 0.7999999999999999\n",
            "Weight updated: 0.7999999999999999\n",
            "Weight updated: 0.7999999999999999\n",
            "Total error: 2\n",
            "Weight updated: 0.7999999999999999\n",
            "Weight updated: 0.8999999999999999\n",
            "Weight updated: 0.8999999999999999\n",
            "Weight updated: 0.8999999999999999\n",
            "Total error: 2\n",
            "Weight updated: 0.8999999999999999\n",
            "Weight updated: 0.9999999999999999\n",
            "Weight updated: 0.9999999999999999\n",
            "Weight updated: 0.9999999999999999\n",
            "Total error: 2\n",
            "Weight updated: 0.9999999999999999\n",
            "Weight updated: 1.0999999999999999\n",
            "Weight updated: 1.0999999999999999\n",
            "Weight updated: 1.0999999999999999\n",
            "Total error: 2\n",
            "Total error: 0\n"
          ],
          "name": "stdout"
        }
      ]
    },
    {
      "cell_type": "code",
      "metadata": {
        "id": "TD0OInQdFERl"
      },
      "source": [
        "new_weights = np.array([1.1,1.1])"
      ],
      "execution_count": null,
      "outputs": []
    },
    {
      "cell_type": "code",
      "metadata": {
        "colab": {
          "base_uri": "https://localhost:8080/"
        },
        "id": "Zn4BaNvkFuc8",
        "outputId": "53873fd8-4bcf-48f7-f47d-c04f7c98ba2b"
      },
      "source": [
        "calculate_output(np.array([1,0]))"
      ],
      "execution_count": null,
      "outputs": [
        {
          "output_type": "execute_result",
          "data": {
            "text/plain": [
              "1"
            ]
          },
          "metadata": {
            "tags": []
          },
          "execution_count": 104
        }
      ]
    },
    {
      "cell_type": "code",
      "metadata": {
        "id": "BGhOB_d2Fyue"
      },
      "source": [
        "weights = np.array([0.2 , 0.5 , 0.1 ])"
      ],
      "execution_count": null,
      "outputs": []
    },
    {
      "cell_type": "code",
      "metadata": {
        "id": "j1Ign2QbGnUL"
      },
      "source": [
        "inputs = np.array([5,2,1])"
      ],
      "execution_count": null,
      "outputs": []
    },
    {
      "cell_type": "code",
      "metadata": {
        "colab": {
          "base_uri": "https://localhost:8080/"
        },
        "id": "8J-_jKv7GulB",
        "outputId": "07d9deea-1d09-42eb-cc1c-afeb1b8fa7ee"
      },
      "source": [
        "inputs.dot(weights)"
      ],
      "execution_count": null,
      "outputs": [
        {
          "output_type": "execute_result",
          "data": {
            "text/plain": [
              "2.1"
            ]
          },
          "metadata": {
            "tags": []
          },
          "execution_count": 107
        }
      ]
    },
    {
      "cell_type": "markdown",
      "metadata": {
        "id": "h_Uh5fnsHF3K"
      },
      "source": [
        "## Homework"
      ]
    },
    {
      "cell_type": "code",
      "metadata": {
        "id": "bmK5o-ZrGxc5"
      },
      "source": [
        "inputs = np.array([[18,2], [20,3], [21, 4],  \n",
        "                   [35,15], [36,16], [38, 18]])\n",
        "outputs = np.array([0, 0, 0, 1, 1, 1])"
      ],
      "execution_count": null,
      "outputs": []
    },
    {
      "cell_type": "code",
      "metadata": {
        "colab": {
          "base_uri": "https://localhost:8080/"
        },
        "id": "nvDCOiTNN8fr",
        "outputId": "e91b07eb-a3f0-45a7-85b5-e3a1db14d033"
      },
      "source": [
        "inputs"
      ],
      "execution_count": null,
      "outputs": [
        {
          "output_type": "execute_result",
          "data": {
            "text/plain": [
              "array([[18,  2],\n",
              "       [20,  3],\n",
              "       [21,  4],\n",
              "       [35, 15],\n",
              "       [36, 16],\n",
              "       [38, 18]])"
            ]
          },
          "metadata": {
            "tags": []
          },
          "execution_count": 122
        }
      ]
    },
    {
      "cell_type": "code",
      "metadata": {
        "colab": {
          "base_uri": "https://localhost:8080/"
        },
        "id": "rUA-gtUTN9_D",
        "outputId": "1744ad47-a437-4c59-e1d9-b15995943780"
      },
      "source": [
        "outputs"
      ],
      "execution_count": null,
      "outputs": [
        {
          "output_type": "execute_result",
          "data": {
            "text/plain": [
              "array([0, 0, 0, 1, 1, 1])"
            ]
          },
          "metadata": {
            "tags": []
          },
          "execution_count": 123
        }
      ]
    },
    {
      "cell_type": "code",
      "metadata": {
        "id": "FiERY7CdN_z0"
      },
      "source": [
        "weights = np.array([0.0,0.0])"
      ],
      "execution_count": null,
      "outputs": []
    },
    {
      "cell_type": "code",
      "metadata": {
        "id": "YzGCXP9KOPoE"
      },
      "source": [
        "from sklearn.preprocessing import MinMaxScaler\n",
        "scaler = MinMaxScaler()\n",
        "input_scaled = scaler.fit_transform(inputs)"
      ],
      "execution_count": null,
      "outputs": []
    },
    {
      "cell_type": "code",
      "metadata": {
        "id": "orfT4AG3PFg6"
      },
      "source": [
        "learning_rate = 0.1"
      ],
      "execution_count": null,
      "outputs": []
    },
    {
      "cell_type": "code",
      "metadata": {
        "id": "y61Evli8PM1j"
      },
      "source": [
        "def step_function(sum):\n",
        "  if (sum >= 1):\n",
        "    return 1\n",
        "  return 0"
      ],
      "execution_count": null,
      "outputs": []
    },
    {
      "cell_type": "code",
      "metadata": {
        "id": "7OjhiqJ3PTVL"
      },
      "source": [
        "def calculate_output(instance):\n",
        "  s = instance.dot(weights)\n",
        "  return step_function(s)"
      ],
      "execution_count": null,
      "outputs": []
    },
    {
      "cell_type": "code",
      "metadata": {
        "id": "P6itnzYPPVZ7"
      },
      "source": [
        "def train():\n",
        "  total_error = 1\n",
        "  while (total_error != 0):\n",
        "    total_error = 0\n",
        "    for i in range(len(outputs)):\n",
        "      prediction = calculate_output(input_scaled[i])\n",
        "      error = abs(outputs[i] - prediction)\n",
        "      total_error += error\n",
        "      if error > 0:\n",
        "        for j in range(len(weights)):\n",
        "          weights[j] = weights[j] + (learning_rate * input_scaled[i][j] * error)\n",
        "          print('Weight updated: ' + str(weights[j]))\n",
        "    print('Total error: ' + str(total_error))"
      ],
      "execution_count": null,
      "outputs": []
    },
    {
      "cell_type": "code",
      "metadata": {
        "colab": {
          "base_uri": "https://localhost:8080/"
        },
        "id": "_-f3EpEdPYBP",
        "outputId": "1ac29719-073f-4c18-e32d-92797aee2909"
      },
      "source": [
        "train()"
      ],
      "execution_count": null,
      "outputs": [
        {
          "output_type": "stream",
          "text": [
            "Weight updated: 0.085\n",
            "Weight updated: 0.08125\n",
            "Weight updated: 0.17500000000000002\n",
            "Weight updated: 0.16875\n",
            "Weight updated: 0.275\n",
            "Weight updated: 0.26875000000000004\n",
            "Total error: 3\n",
            "Weight updated: 0.36000000000000004\n",
            "Weight updated: 0.35000000000000003\n",
            "Weight updated: 0.45000000000000007\n",
            "Weight updated: 0.43750000000000006\n",
            "Weight updated: 0.55\n",
            "Weight updated: 0.5375000000000001\n",
            "Total error: 3\n",
            "Weight updated: 0.635\n",
            "Weight updated: 0.6187500000000001\n",
            "Total error: 1\n",
            "Total error: 0\n"
          ],
          "name": "stdout"
        }
      ]
    },
    {
      "cell_type": "code",
      "metadata": {
        "colab": {
          "base_uri": "https://localhost:8080/",
          "height": 225
        },
        "id": "vzzoydFHPZNK",
        "outputId": "eba04b05-6bf4-4c7a-8133-18ffcccb5f24"
      },
      "source": [
        "import pandas as pd\n",
        "df1 = pd.DataFrame(data = inputs , columns = [\"age\",\"educational\"])\n",
        "df1"
      ],
      "execution_count": null,
      "outputs": [
        {
          "output_type": "execute_result",
          "data": {
            "text/html": [
              "<div>\n",
              "<style scoped>\n",
              "    .dataframe tbody tr th:only-of-type {\n",
              "        vertical-align: middle;\n",
              "    }\n",
              "\n",
              "    .dataframe tbody tr th {\n",
              "        vertical-align: top;\n",
              "    }\n",
              "\n",
              "    .dataframe thead th {\n",
              "        text-align: right;\n",
              "    }\n",
              "</style>\n",
              "<table border=\"1\" class=\"dataframe\">\n",
              "  <thead>\n",
              "    <tr style=\"text-align: right;\">\n",
              "      <th></th>\n",
              "      <th>age</th>\n",
              "      <th>educational</th>\n",
              "    </tr>\n",
              "  </thead>\n",
              "  <tbody>\n",
              "    <tr>\n",
              "      <th>0</th>\n",
              "      <td>18</td>\n",
              "      <td>2</td>\n",
              "    </tr>\n",
              "    <tr>\n",
              "      <th>1</th>\n",
              "      <td>20</td>\n",
              "      <td>3</td>\n",
              "    </tr>\n",
              "    <tr>\n",
              "      <th>2</th>\n",
              "      <td>21</td>\n",
              "      <td>4</td>\n",
              "    </tr>\n",
              "    <tr>\n",
              "      <th>3</th>\n",
              "      <td>35</td>\n",
              "      <td>15</td>\n",
              "    </tr>\n",
              "    <tr>\n",
              "      <th>4</th>\n",
              "      <td>36</td>\n",
              "      <td>16</td>\n",
              "    </tr>\n",
              "    <tr>\n",
              "      <th>5</th>\n",
              "      <td>38</td>\n",
              "      <td>18</td>\n",
              "    </tr>\n",
              "  </tbody>\n",
              "</table>\n",
              "</div>"
            ],
            "text/plain": [
              "   age  educational\n",
              "0   18            2\n",
              "1   20            3\n",
              "2   21            4\n",
              "3   35           15\n",
              "4   36           16\n",
              "5   38           18"
            ]
          },
          "metadata": {
            "tags": []
          },
          "execution_count": 132
        }
      ]
    },
    {
      "cell_type": "code",
      "metadata": {
        "colab": {
          "base_uri": "https://localhost:8080/",
          "height": 225
        },
        "id": "jf3M3CVAPlPW",
        "outputId": "69853c0c-2d64-4740-e25c-6254f6d49ace"
      },
      "source": [
        "df2 = pd.DataFrame(data = outputs , columns=[\"class\"])\n",
        "df2"
      ],
      "execution_count": null,
      "outputs": [
        {
          "output_type": "execute_result",
          "data": {
            "text/html": [
              "<div>\n",
              "<style scoped>\n",
              "    .dataframe tbody tr th:only-of-type {\n",
              "        vertical-align: middle;\n",
              "    }\n",
              "\n",
              "    .dataframe tbody tr th {\n",
              "        vertical-align: top;\n",
              "    }\n",
              "\n",
              "    .dataframe thead th {\n",
              "        text-align: right;\n",
              "    }\n",
              "</style>\n",
              "<table border=\"1\" class=\"dataframe\">\n",
              "  <thead>\n",
              "    <tr style=\"text-align: right;\">\n",
              "      <th></th>\n",
              "      <th>class</th>\n",
              "    </tr>\n",
              "  </thead>\n",
              "  <tbody>\n",
              "    <tr>\n",
              "      <th>0</th>\n",
              "      <td>0</td>\n",
              "    </tr>\n",
              "    <tr>\n",
              "      <th>1</th>\n",
              "      <td>0</td>\n",
              "    </tr>\n",
              "    <tr>\n",
              "      <th>2</th>\n",
              "      <td>0</td>\n",
              "    </tr>\n",
              "    <tr>\n",
              "      <th>3</th>\n",
              "      <td>1</td>\n",
              "    </tr>\n",
              "    <tr>\n",
              "      <th>4</th>\n",
              "      <td>1</td>\n",
              "    </tr>\n",
              "    <tr>\n",
              "      <th>5</th>\n",
              "      <td>1</td>\n",
              "    </tr>\n",
              "  </tbody>\n",
              "</table>\n",
              "</div>"
            ],
            "text/plain": [
              "   class\n",
              "0      0\n",
              "1      0\n",
              "2      0\n",
              "3      1\n",
              "4      1\n",
              "5      1"
            ]
          },
          "metadata": {
            "tags": []
          },
          "execution_count": 134
        }
      ]
    },
    {
      "cell_type": "code",
      "metadata": {
        "colab": {
          "base_uri": "https://localhost:8080/",
          "height": 225
        },
        "id": "JybzjXybP9km",
        "outputId": "1b5c7e71-af16-4eb7-8a1a-932d05aafccb"
      },
      "source": [
        "df = pd.concat([df1,df2],axis = 1)\n",
        "df"
      ],
      "execution_count": null,
      "outputs": [
        {
          "output_type": "execute_result",
          "data": {
            "text/html": [
              "<div>\n",
              "<style scoped>\n",
              "    .dataframe tbody tr th:only-of-type {\n",
              "        vertical-align: middle;\n",
              "    }\n",
              "\n",
              "    .dataframe tbody tr th {\n",
              "        vertical-align: top;\n",
              "    }\n",
              "\n",
              "    .dataframe thead th {\n",
              "        text-align: right;\n",
              "    }\n",
              "</style>\n",
              "<table border=\"1\" class=\"dataframe\">\n",
              "  <thead>\n",
              "    <tr style=\"text-align: right;\">\n",
              "      <th></th>\n",
              "      <th>age</th>\n",
              "      <th>educational</th>\n",
              "      <th>class</th>\n",
              "    </tr>\n",
              "  </thead>\n",
              "  <tbody>\n",
              "    <tr>\n",
              "      <th>0</th>\n",
              "      <td>18</td>\n",
              "      <td>2</td>\n",
              "      <td>0</td>\n",
              "    </tr>\n",
              "    <tr>\n",
              "      <th>1</th>\n",
              "      <td>20</td>\n",
              "      <td>3</td>\n",
              "      <td>0</td>\n",
              "    </tr>\n",
              "    <tr>\n",
              "      <th>2</th>\n",
              "      <td>21</td>\n",
              "      <td>4</td>\n",
              "      <td>0</td>\n",
              "    </tr>\n",
              "    <tr>\n",
              "      <th>3</th>\n",
              "      <td>35</td>\n",
              "      <td>15</td>\n",
              "      <td>1</td>\n",
              "    </tr>\n",
              "    <tr>\n",
              "      <th>4</th>\n",
              "      <td>36</td>\n",
              "      <td>16</td>\n",
              "      <td>1</td>\n",
              "    </tr>\n",
              "    <tr>\n",
              "      <th>5</th>\n",
              "      <td>38</td>\n",
              "      <td>18</td>\n",
              "      <td>1</td>\n",
              "    </tr>\n",
              "  </tbody>\n",
              "</table>\n",
              "</div>"
            ],
            "text/plain": [
              "   age  educational  class\n",
              "0   18            2      0\n",
              "1   20            3      0\n",
              "2   21            4      0\n",
              "3   35           15      1\n",
              "4   36           16      1\n",
              "5   38           18      1"
            ]
          },
          "metadata": {
            "tags": []
          },
          "execution_count": 137
        }
      ]
    },
    {
      "cell_type": "code",
      "metadata": {
        "colab": {
          "base_uri": "https://localhost:8080/",
          "height": 400
        },
        "id": "K-3wbiWZQEwp",
        "outputId": "a03d9a3e-daf7-4302-9cf3-2b6d88c8a7f7"
      },
      "source": [
        "import seaborn as sns\n",
        "sns.relplot(x = 'age' , y = 'educational' , data = df , hue = 'class')"
      ],
      "execution_count": null,
      "outputs": [
        {
          "output_type": "execute_result",
          "data": {
            "text/plain": [
              "<seaborn.axisgrid.FacetGrid at 0x7ff7ed5d6910>"
            ]
          },
          "metadata": {
            "tags": []
          },
          "execution_count": 138
        },
        {
          "output_type": "display_data",
          "data": {
            "image/png": "[encoded data removed]",
            "text/plain": [
              "<Figure size 402.375x360 with 1 Axes>"
            ]
          },
          "metadata": {
            "tags": [],
            "needs_background": "light"
          }
        }
      ]
    },
    {
      "cell_type": "code",
      "metadata": {
        "colab": {
          "base_uri": "https://localhost:8080/"
        },
        "id": "jxsPoHIRQTY2",
        "outputId": "271b55dd-5088-47c5-fb9f-93344ea8af98"
      },
      "source": [
        "input_scaled"
      ],
      "execution_count": null,
      "outputs": [
        {
          "output_type": "execute_result",
          "data": {
            "text/plain": [
              "array([[0.    , 0.    ],\n",
              "       [0.1   , 0.0625],\n",
              "       [0.15  , 0.125 ],\n",
              "       [0.85  , 0.8125],\n",
              "       [0.9   , 0.875 ],\n",
              "       [1.    , 1.    ]])"
            ]
          },
          "metadata": {
            "tags": []
          },
          "execution_count": 139
        }
      ]
    },
    {
      "cell_type": "code",
      "metadata": {
        "colab": {
          "base_uri": "https://localhost:8080/"
        },
        "id": "uEnWyxv5QYzM",
        "outputId": "3c29574d-a753-4079-8911-c885c1fe2d40"
      },
      "source": [
        "weights"
      ],
      "execution_count": null,
      "outputs": [
        {
          "output_type": "execute_result",
          "data": {
            "text/plain": [
              "array([0.635  , 0.61875])"
            ]
          },
          "metadata": {
            "tags": []
          },
          "execution_count": 140
        }
      ]
    },
    {
      "cell_type": "code",
      "metadata": {
        "colab": {
          "base_uri": "https://localhost:8080/"
        },
        "id": "pw9NpssQQZ1A",
        "outputId": "2e9c8ce3-735e-43bc-84c2-8a1f266a1846"
      },
      "source": [
        "calculate_output(np.array([0.,0.]))"
      ],
      "execution_count": null,
      "outputs": [
        {
          "output_type": "execute_result",
          "data": {
            "text/plain": [
              "0"
            ]
          },
          "metadata": {
            "tags": []
          },
          "execution_count": 141
        }
      ]
    },
    {
      "cell_type": "code",
      "metadata": {
        "colab": {
          "base_uri": "https://localhost:8080/"
        },
        "id": "zZZA8vmdQdoe",
        "outputId": "6fafc574-ab54-4ad7-cfce-ba237a9ef4c7"
      },
      "source": [
        "calculate_output(np.array([1.,1.]))"
      ],
      "execution_count": null,
      "outputs": [
        {
          "output_type": "execute_result",
          "data": {
            "text/plain": [
              "1"
            ]
          },
          "metadata": {
            "tags": []
          },
          "execution_count": 142
        }
      ]
    },
    {
      "cell_type": "code",
      "metadata": {
        "id": "xEBN8c5jQqO7"
      },
      "source": [
        "test_inputs = np.array([[17,5], [25,8],  \n",
        "                        [45,10], [31,20]])"
      ],
      "execution_count": null,
      "outputs": []
    },
    {
      "cell_type": "code",
      "metadata": {
        "colab": {
          "base_uri": "https://localhost:8080/"
        },
        "id": "Enwpks-zQtam",
        "outputId": "1c6664db-16fa-49e8-aec9-6faab9b62194"
      },
      "source": [
        "test_inputs_scaled = scaler.transform(test_inputs)\n",
        "test_inputs_scaled"
      ],
      "execution_count": null,
      "outputs": [
        {
          "output_type": "execute_result",
          "data": {
            "text/plain": [
              "array([[-0.05  ,  0.1875],\n",
              "       [ 0.35  ,  0.375 ],\n",
              "       [ 1.35  ,  0.5   ],\n",
              "       [ 0.65  ,  1.125 ]])"
            ]
          },
          "metadata": {
            "tags": []
          },
          "execution_count": 144
        }
      ]
    },
    {
      "cell_type": "markdown",
      "metadata": {
        "id": "BdmAX8IVRCtp"
      },
      "source": [
        "### When we scaled the test_set we got the better prediction"
      ]
    },
    {
      "cell_type": "code",
      "metadata": {
        "colab": {
          "base_uri": "https://localhost:8080/"
        },
        "id": "vtrWq92KQ0Yt",
        "outputId": "d48e0ed2-20ce-4ace-9ab3-8b5f74c5086d"
      },
      "source": [
        "for i in range(len(test_inputs_scaled)):\n",
        "  print(calculate_output(test_inputs_scaled[i]))"
      ],
      "execution_count": null,
      "outputs": [
        {
          "output_type": "stream",
          "text": [
            "0\n",
            "0\n",
            "1\n",
            "1\n"
          ],
          "name": "stdout"
        }
      ]
    },
    {
      "cell_type": "code",
      "metadata": {
        "colab": {
          "base_uri": "https://localhost:8080/"
        },
        "id": "jSInbkOyQ7yj",
        "outputId": "38acb897-7d63-41ca-a6b5-ed335da688f7"
      },
      "source": [
        "outputs"
      ],
      "execution_count": null,
      "outputs": [
        {
          "output_type": "execute_result",
          "data": {
            "text/plain": [
              "array([0, 0, 0, 1, 1, 1])"
            ]
          },
          "metadata": {
            "tags": []
          },
          "execution_count": 147
        }
      ]
    },
    {
      "cell_type": "markdown",
      "metadata": {
        "id": "ZqgEFEbARI2c"
      },
      "source": [
        "# Multilayer perceptron"
      ]
    },
    {
      "cell_type": "markdown",
      "metadata": {
        "id": "QPwvWtHvRRH1"
      },
      "source": [
        "## Make a sigmoid function"
      ]
    },
    {
      "cell_type": "code",
      "metadata": {
        "id": "MyuMKwoPS6Hi"
      },
      "source": [
        "import numpy as np\n"
      ],
      "execution_count": null,
      "outputs": []
    },
    {
      "cell_type": "code",
      "metadata": {
        "id": "gmIcZHtvS9uh"
      },
      "source": [
        "def sigmoid(sum):\n",
        "  return 1/(1+np.exp(-sum))"
      ],
      "execution_count": null,
      "outputs": []
    },
    {
      "cell_type": "code",
      "metadata": {
        "colab": {
          "base_uri": "https://localhost:8080/"
        },
        "id": "qtkltBP2TGIl",
        "outputId": "c461e125-a499-494b-bc66-22801f08c7ec"
      },
      "source": [
        "np.exp(1)"
      ],
      "execution_count": null,
      "outputs": [
        {
          "output_type": "execute_result",
          "data": {
            "text/plain": [
              "2.718281828459045"
            ]
          },
          "metadata": {
            "tags": []
          },
          "execution_count": 152
        }
      ]
    },
    {
      "cell_type": "code",
      "metadata": {
        "colab": {
          "base_uri": "https://localhost:8080/"
        },
        "id": "jSpD055jTI4T",
        "outputId": "606b5090-3d40-43f2-ecb3-26f9c6e5a96e"
      },
      "source": [
        "np.exp(2)"
      ],
      "execution_count": null,
      "outputs": [
        {
          "output_type": "execute_result",
          "data": {
            "text/plain": [
              "7.38905609893065"
            ]
          },
          "metadata": {
            "tags": []
          },
          "execution_count": 153
        }
      ]
    },
    {
      "cell_type": "code",
      "metadata": {
        "colab": {
          "base_uri": "https://localhost:8080/"
        },
        "id": "Dl68286dTK52",
        "outputId": "c4218cb9-05d6-488c-ccdc-d39ca321f82b"
      },
      "source": [
        "1 / np.exp(1)"
      ],
      "execution_count": null,
      "outputs": [
        {
          "output_type": "execute_result",
          "data": {
            "text/plain": [
              "0.36787944117144233"
            ]
          },
          "metadata": {
            "tags": []
          },
          "execution_count": 154
        }
      ]
    },
    {
      "cell_type": "code",
      "metadata": {
        "colab": {
          "base_uri": "https://localhost:8080/"
        },
        "id": "e5ZwY87kTOC_",
        "outputId": "bfc2984d-3efe-4623-a560-d9be7601c0b9"
      },
      "source": [
        "sigmoid(50)"
      ],
      "execution_count": null,
      "outputs": [
        {
          "output_type": "execute_result",
          "data": {
            "text/plain": [
              "1.0"
            ]
          },
          "metadata": {
            "tags": []
          },
          "execution_count": 155
        }
      ]
    },
    {
      "cell_type": "code",
      "metadata": {
        "colab": {
          "base_uri": "https://localhost:8080/"
        },
        "id": "h0wepYIXTSiQ",
        "outputId": "4da616ce-dbf8-40a4-de71-5a6725bb25ab"
      },
      "source": [
        "sigmoid(30.5)"
      ],
      "execution_count": null,
      "outputs": [
        {
          "output_type": "execute_result",
          "data": {
            "text/plain": [
              "0.9999999999999432"
            ]
          },
          "metadata": {
            "tags": []
          },
          "execution_count": 156
        }
      ]
    },
    {
      "cell_type": "markdown",
      "metadata": {
        "id": "0OX8gJ-ITZsw"
      },
      "source": [
        "### sigmoid will always return positive value"
      ]
    },
    {
      "cell_type": "code",
      "metadata": {
        "colab": {
          "base_uri": "https://localhost:8080/"
        },
        "id": "DNViCsSgTVcM",
        "outputId": "66de2cfd-17ca-48ed-83d0-36b118e121a1"
      },
      "source": [
        "sigmoid(-25.5)  "
      ],
      "execution_count": null,
      "outputs": [
        {
          "output_type": "execute_result",
          "data": {
            "text/plain": [
              "8.423463754397692e-12"
            ]
          },
          "metadata": {
            "tags": []
          },
          "execution_count": 157
        }
      ]
    },
    {
      "cell_type": "code",
      "metadata": {
        "id": "oYwhzQoKTYg6"
      },
      "source": [
        "inputs = np.array([[0,0],[0,1],[1,0],[1,1]])"
      ],
      "execution_count": null,
      "outputs": []
    },
    {
      "cell_type": "code",
      "metadata": {
        "colab": {
          "base_uri": "https://localhost:8080/"
        },
        "id": "d8tlS5CFTpY5",
        "outputId": "d70e58e9-554b-48ee-8396-c08a633439a8"
      },
      "source": [
        "inputs.shape"
      ],
      "execution_count": null,
      "outputs": [
        {
          "output_type": "execute_result",
          "data": {
            "text/plain": [
              "(4, 2)"
            ]
          },
          "metadata": {
            "tags": []
          },
          "execution_count": 160
        }
      ]
    },
    {
      "cell_type": "code",
      "metadata": {
        "colab": {
          "base_uri": "https://localhost:8080/"
        },
        "id": "Qz_rR8Y6T8Kf",
        "outputId": "6237c9e3-2ede-4fb8-9dff-2c59372c1ec9"
      },
      "source": [
        "inputs"
      ],
      "execution_count": null,
      "outputs": [
        {
          "output_type": "execute_result",
          "data": {
            "text/plain": [
              "array([[0, 0],\n",
              "       [0, 1],\n",
              "       [1, 0],\n",
              "       [1, 1]])"
            ]
          },
          "metadata": {
            "tags": []
          },
          "execution_count": 164
        }
      ]
    },
    {
      "cell_type": "code",
      "metadata": {
        "id": "lgIrzsuaTt0c"
      },
      "source": [
        "outputs = np.array([[0],[1],[1],[0]])"
      ],
      "execution_count": null,
      "outputs": []
    },
    {
      "cell_type": "code",
      "metadata": {
        "colab": {
          "base_uri": "https://localhost:8080/"
        },
        "id": "DLqM7Ot7T1hb",
        "outputId": "d8723bf6-ce3a-4471-ff4e-52b9d1a427d0"
      },
      "source": [
        "outputs.shape"
      ],
      "execution_count": null,
      "outputs": [
        {
          "output_type": "execute_result",
          "data": {
            "text/plain": [
              "(4, 1)"
            ]
          },
          "metadata": {
            "tags": []
          },
          "execution_count": 162
        }
      ]
    },
    {
      "cell_type": "code",
      "metadata": {
        "colab": {
          "base_uri": "https://localhost:8080/"
        },
        "id": "a8I1HwonT3OO",
        "outputId": "76f6a138-12ee-4853-cdbd-9202ff4b0af2"
      },
      "source": [
        "outputs"
      ],
      "execution_count": null,
      "outputs": [
        {
          "output_type": "execute_result",
          "data": {
            "text/plain": [
              "array([[0],\n",
              "       [1],\n",
              "       [1],\n",
              "       [0]])"
            ]
          },
          "metadata": {
            "tags": []
          },
          "execution_count": 163
        }
      ]
    },
    {
      "cell_type": "code",
      "metadata": {
        "colab": {
          "base_uri": "https://localhost:8080/"
        },
        "id": "LZCkxxk0T6Iz",
        "outputId": "4508e248-ef09-4b92-8f44-077ee31580a4"
      },
      "source": [
        "weights0 = np.array([[-0.424, -0.740, -0.961],\n",
        "                     [0.358, -0.577, -0.469]])\n",
        "weights0.shape"
      ],
      "execution_count": null,
      "outputs": [
        {
          "output_type": "execute_result",
          "data": {
            "text/plain": [
              "(2, 3)"
            ]
          },
          "metadata": {
            "tags": []
          },
          "execution_count": 5
        }
      ]
    },
    {
      "cell_type": "code",
      "metadata": {
        "colab": {
          "base_uri": "https://localhost:8080/"
        },
        "id": "_uUzEw3MUIRs",
        "outputId": "10caa57c-b885-4cdd-d76c-6762424e7be5"
      },
      "source": [
        "type(weights0)"
      ],
      "execution_count": null,
      "outputs": [
        {
          "output_type": "execute_result",
          "data": {
            "text/plain": [
              "numpy.ndarray"
            ]
          },
          "metadata": {
            "tags": []
          },
          "execution_count": 166
        }
      ]
    },
    {
      "cell_type": "code",
      "metadata": {
        "colab": {
          "base_uri": "https://localhost:8080/"
        },
        "id": "wXbduWhCUKny",
        "outputId": "9c354164-da9a-4aa7-fb1b-dbcfb11670b6"
      },
      "source": [
        "weights1 = np.array([[-0.017],\n",
        "                     [-0.893],\n",
        "                     [0.148]])\n",
        "weights1.shape"
      ],
      "execution_count": null,
      "outputs": [
        {
          "output_type": "execute_result",
          "data": {
            "text/plain": [
              "(3, 1)"
            ]
          },
          "metadata": {
            "tags": []
          },
          "execution_count": 6
        }
      ]
    },
    {
      "cell_type": "code",
      "metadata": {
        "id": "Uv3ayZcXUNZl"
      },
      "source": [
        "input_layer = inputs"
      ],
      "execution_count": null,
      "outputs": []
    },
    {
      "cell_type": "code",
      "metadata": {
        "colab": {
          "base_uri": "https://localhost:8080/"
        },
        "id": "AwliJXyZUQBd",
        "outputId": "f68b8f3b-6117-4cf6-db8a-c7c7d8f2f952"
      },
      "source": [
        "sum_synapse0 = np.dot(input_layer,weights0)\n",
        "sum_synapse0"
      ],
      "execution_count": null,
      "outputs": [
        {
          "output_type": "execute_result",
          "data": {
            "text/plain": [
              "array([[ 0.   ,  0.   ,  0.   ],\n",
              "       [ 0.358, -0.577, -0.469],\n",
              "       [-0.424, -0.74 , -0.961],\n",
              "       [-0.066, -1.317, -1.43 ]])"
            ]
          },
          "metadata": {
            "tags": []
          },
          "execution_count": 8
        }
      ]
    },
    {
      "cell_type": "code",
      "metadata": {
        "colab": {
          "base_uri": "https://localhost:8080/"
        },
        "id": "YXwhr4DQUWpD",
        "outputId": "26a05dd9-ca71-4220-a5bc-6afb89f3d731"
      },
      "source": [
        "hidden_layer = sigmoid(sum_synapse0)\n",
        "hidden_layer"
      ],
      "execution_count": null,
      "outputs": [
        {
          "output_type": "execute_result",
          "data": {
            "text/plain": [
              "array([[0.5       , 0.5       , 0.5       ],\n",
              "       [0.5885562 , 0.35962319, 0.38485296],\n",
              "       [0.39555998, 0.32300414, 0.27667802],\n",
              "       [0.48350599, 0.21131785, 0.19309868]])"
            ]
          },
          "metadata": {
            "tags": []
          },
          "execution_count": 9
        }
      ]
    },
    {
      "cell_type": "code",
      "metadata": {
        "colab": {
          "base_uri": "https://localhost:8080/"
        },
        "id": "jW5WRfqWUcl1",
        "outputId": "850d9169-3638-4778-f801-fe2ab6d62666"
      },
      "source": [
        "weights1"
      ],
      "execution_count": null,
      "outputs": [
        {
          "output_type": "execute_result",
          "data": {
            "text/plain": [
              "array([[-0.017],\n",
              "       [-0.893],\n",
              "       [ 0.148]])"
            ]
          },
          "metadata": {
            "tags": []
          },
          "execution_count": 10
        }
      ]
    },
    {
      "cell_type": "code",
      "metadata": {
        "colab": {
          "base_uri": "https://localhost:8080/"
        },
        "id": "P7zkvL4xW4pi",
        "outputId": "56f1aec9-d3ec-4404-b519-692620c450d7"
      },
      "source": [
        "sum_synapse1 = np.dot(hidden_layer , weights1)\n",
        "sum_synapse1"
      ],
      "execution_count": null,
      "outputs": [
        {
          "output_type": "execute_result",
          "data": {
            "text/plain": [
              "array([[-0.381     ],\n",
              "       [-0.27419072],\n",
              "       [-0.25421887],\n",
              "       [-0.16834784]])"
            ]
          },
          "metadata": {
            "tags": []
          },
          "execution_count": 11
        }
      ]
    },
    {
      "cell_type": "code",
      "metadata": {
        "colab": {
          "base_uri": "https://localhost:8080/"
        },
        "id": "_A54eQT4XC2l",
        "outputId": "acc204e0-7fdf-4e2a-db5a-85fb1dc01145"
      },
      "source": [
        "output_layer = sigmoid(sum_synapse1)\n",
        "output_layer"
      ],
      "execution_count": null,
      "outputs": [
        {
          "output_type": "execute_result",
          "data": {
            "text/plain": [
              "array([[0.40588573],\n",
              "       [0.43187857],\n",
              "       [0.43678536],\n",
              "       [0.45801216]])"
            ]
          },
          "metadata": {
            "tags": []
          },
          "execution_count": 12
        }
      ]
    },
    {
      "cell_type": "markdown",
      "metadata": {
        "id": "GHMfTxdbXRgL"
      },
      "source": [
        "## `error = correct - prediction` "
      ]
    },
    {
      "cell_type": "code",
      "metadata": {
        "id": "T4zCBgdEXb0k"
      },
      "source": [
        "error_output_layer = outputs - output_layer"
      ],
      "execution_count": null,
      "outputs": []
    },
    {
      "cell_type": "code",
      "metadata": {
        "colab": {
          "base_uri": "https://localhost:8080/"
        },
        "id": "1CRYlGx6XqnB",
        "outputId": "88edba6e-3a66-4fc0-fd19-550a7bf442da"
      },
      "source": [
        "error_output_layer"
      ],
      "execution_count": null,
      "outputs": [
        {
          "output_type": "execute_result",
          "data": {
            "text/plain": [
              "array([[-0.40588573],\n",
              "       [ 0.56812143],\n",
              "       [ 0.56321464],\n",
              "       [-0.45801216]])"
            ]
          },
          "metadata": {
            "tags": []
          },
          "execution_count": 14
        }
      ]
    },
    {
      "cell_type": "code",
      "metadata": {
        "colab": {
          "base_uri": "https://localhost:8080/"
        },
        "id": "xtJAYD5PXuA5",
        "outputId": "874f3655-cfc9-4a26-b774-a26e986e1258"
      },
      "source": [
        "average = np.mean(abs(error_output_layer))\n",
        "average"
      ],
      "execution_count": null,
      "outputs": [
        {
          "output_type": "execute_result",
          "data": {
            "text/plain": [
              "0.49880848923713045"
            ]
          },
          "metadata": {
            "tags": []
          },
          "execution_count": 15
        }
      ]
    },
    {
      "cell_type": "markdown",
      "metadata": {
        "id": "qqbxsiVSZANZ"
      },
      "source": [
        "### differentiate the output_layer by making a sigmoid derivative function"
      ]
    },
    {
      "cell_type": "code",
      "metadata": {
        "id": "8ajY7yv6X33x"
      },
      "source": [
        "def sigmoid_derivative(sigmoid):\n",
        "  return sigmoid * (1-sigmoid)"
      ],
      "execution_count": null,
      "outputs": []
    },
    {
      "cell_type": "markdown",
      "metadata": {
        "id": "Z68kb-yaZevM"
      },
      "source": [
        "## take the derivative of sigmoid function"
      ]
    },
    {
      "cell_type": "code",
      "metadata": {
        "id": "Fabay46EYDag"
      },
      "source": [
        "s = sigmoid(0.5)"
      ],
      "execution_count": null,
      "outputs": []
    },
    {
      "cell_type": "code",
      "metadata": {
        "colab": {
          "base_uri": "https://localhost:8080/"
        },
        "id": "6_QXP2owYFzS",
        "outputId": "4c73fe5d-a16e-4073-86d9-f8bcc0ebf428"
      },
      "source": [
        "d = sigmoid_derivative(s)\n",
        "d"
      ],
      "execution_count": null,
      "outputs": [
        {
          "output_type": "execute_result",
          "data": {
            "text/plain": [
              "0.2350037122015945"
            ]
          },
          "metadata": {
            "tags": []
          },
          "execution_count": 18
        }
      ]
    },
    {
      "cell_type": "code",
      "metadata": {
        "colab": {
          "base_uri": "https://localhost:8080/"
        },
        "id": "Q5r7LCAmYXTB",
        "outputId": "71176377-ab7b-463d-e93a-8adaee396271"
      },
      "source": [
        "sigmoid_derivative(0.405)"
      ],
      "execution_count": null,
      "outputs": [
        {
          "output_type": "execute_result",
          "data": {
            "text/plain": [
              "0.240975"
            ]
          },
          "metadata": {
            "tags": []
          },
          "execution_count": 19
        }
      ]
    },
    {
      "cell_type": "code",
      "metadata": {
        "colab": {
          "base_uri": "https://localhost:8080/"
        },
        "id": "HLYV0pa4YeDM",
        "outputId": "951e98ff-b175-4732-ccc3-df0f5d9bfaa2"
      },
      "source": [
        "output_layer"
      ],
      "execution_count": null,
      "outputs": [
        {
          "output_type": "execute_result",
          "data": {
            "text/plain": [
              "array([[0.40588573],\n",
              "       [0.43187857],\n",
              "       [0.43678536],\n",
              "       [0.45801216]])"
            ]
          },
          "metadata": {
            "tags": []
          },
          "execution_count": 20
        }
      ]
    },
    {
      "cell_type": "code",
      "metadata": {
        "colab": {
          "base_uri": "https://localhost:8080/"
        },
        "id": "NCrG2a7xYluc",
        "outputId": "6dcb2f52-733e-4a74-8317-7d167530570b"
      },
      "source": [
        "derivative_output = sigmoid_derivative(output_layer)\n",
        "derivative_output"
      ],
      "execution_count": null,
      "outputs": [
        {
          "output_type": "execute_result",
          "data": {
            "text/plain": [
              "array([[0.2411425 ],\n",
              "       [0.24535947],\n",
              "       [0.24600391],\n",
              "       [0.24823702]])"
            ]
          },
          "metadata": {
            "tags": []
          },
          "execution_count": 21
        }
      ]
    },
    {
      "cell_type": "code",
      "metadata": {
        "colab": {
          "base_uri": "https://localhost:8080/"
        },
        "id": "yRae6xqEYur8",
        "outputId": "488735d0-ab65-4182-fb44-132c4536a97c"
      },
      "source": [
        "error_output_layer"
      ],
      "execution_count": null,
      "outputs": [
        {
          "output_type": "execute_result",
          "data": {
            "text/plain": [
              "array([[-0.40588573],\n",
              "       [ 0.56812143],\n",
              "       [ 0.56321464],\n",
              "       [-0.45801216]])"
            ]
          },
          "metadata": {
            "tags": []
          },
          "execution_count": 22
        }
      ]
    },
    {
      "cell_type": "code",
      "metadata": {
        "colab": {
          "base_uri": "https://localhost:8080/"
        },
        "id": "7kL2GZ0EY5HT",
        "outputId": "7c46bc50-3ca3-420d-8b2b-ef11089eea86"
      },
      "source": [
        "delta_output = error_output_layer * derivative_output\n",
        "delta_output"
      ],
      "execution_count": null,
      "outputs": [
        {
          "output_type": "execute_result",
          "data": {
            "text/plain": [
              "array([[-0.0978763 ],\n",
              "       [ 0.13939397],\n",
              "       [ 0.138553  ],\n",
              "       [-0.11369557]])"
            ]
          },
          "metadata": {
            "tags": []
          },
          "execution_count": 23
        }
      ]
    },
    {
      "cell_type": "code",
      "metadata": {
        "colab": {
          "base_uri": "https://localhost:8080/"
        },
        "id": "LcBpHgIBZ7CR",
        "outputId": "1beb9158-2427-4ce9-c2c1-1f93c5023d7e"
      },
      "source": [
        "weights1"
      ],
      "execution_count": null,
      "outputs": [
        {
          "output_type": "execute_result",
          "data": {
            "text/plain": [
              "array([[-0.017],\n",
              "       [-0.893],\n",
              "       [ 0.148]])"
            ]
          },
          "metadata": {
            "tags": []
          },
          "execution_count": 191
        }
      ]
    },
    {
      "cell_type": "markdown",
      "metadata": {
        "id": "AmybApmd5x0H"
      },
      "source": [
        "##Back propagation"
      ]
    },
    {
      "cell_type": "code",
      "metadata": {
        "id": "yA2SbZ8_ZwD4"
      },
      "source": [
        "weights1T = weights1.T"
      ],
      "execution_count": null,
      "outputs": []
    },
    {
      "cell_type": "code",
      "metadata": {
        "colab": {
          "base_uri": "https://localhost:8080/"
        },
        "id": "RGdCDdlqZ4dS",
        "outputId": "76992f05-e3d3-43ad-c079-6c5525285e99"
      },
      "source": [
        "weights1.shape , weights1T.shape"
      ],
      "execution_count": null,
      "outputs": [
        {
          "output_type": "execute_result",
          "data": {
            "text/plain": [
              "((3, 1), (1, 3))"
            ]
          },
          "metadata": {
            "tags": []
          },
          "execution_count": 28
        }
      ]
    },
    {
      "cell_type": "code",
      "metadata": {
        "colab": {
          "base_uri": "https://localhost:8080/"
        },
        "id": "xiJL9XGLaC4R",
        "outputId": "8900538c-5d4e-4d1a-a2a9-f9bd00be22d5"
      },
      "source": [
        "delta_output"
      ],
      "execution_count": null,
      "outputs": [
        {
          "output_type": "execute_result",
          "data": {
            "text/plain": [
              "array([[-0.0978763 ],\n",
              "       [ 0.13939397],\n",
              "       [ 0.138553  ],\n",
              "       [-0.11369557]])"
            ]
          },
          "metadata": {
            "tags": []
          },
          "execution_count": 29
        }
      ]
    },
    {
      "cell_type": "code",
      "metadata": {
        "colab": {
          "base_uri": "https://localhost:8080/"
        },
        "id": "A17s1UdKaE2e",
        "outputId": "d00668f3-d83a-4d97-d92b-8d1ca48ecd80"
      },
      "source": [
        "delta_output_x_weight = delta_output.dot(weights1T)\n",
        "delta_output_x_weight"
      ],
      "execution_count": null,
      "outputs": [
        {
          "output_type": "execute_result",
          "data": {
            "text/plain": [
              "array([[ 0.0016639 ,  0.08740354, -0.01448569],\n",
              "       [-0.0023697 , -0.12447882,  0.02063031],\n",
              "       [-0.0023554 , -0.12372783,  0.02050584],\n",
              "       [ 0.00193282,  0.10153015, -0.01682694]])"
            ]
          },
          "metadata": {
            "tags": []
          },
          "execution_count": 30
        }
      ]
    },
    {
      "cell_type": "code",
      "metadata": {
        "colab": {
          "base_uri": "https://localhost:8080/"
        },
        "id": "WP4KAy8_aOhF",
        "outputId": "4261b796-47cd-4f39-a439-f6b0246018d5"
      },
      "source": [
        "hidden_layer "
      ],
      "execution_count": null,
      "outputs": [
        {
          "output_type": "execute_result",
          "data": {
            "text/plain": [
              "array([[0.5       , 0.5       , 0.5       ],\n",
              "       [0.5885562 , 0.35962319, 0.38485296],\n",
              "       [0.39555998, 0.32300414, 0.27667802],\n",
              "       [0.48350599, 0.21131785, 0.19309868]])"
            ]
          },
          "metadata": {
            "tags": []
          },
          "execution_count": 24
        }
      ]
    },
    {
      "cell_type": "code",
      "metadata": {
        "colab": {
          "base_uri": "https://localhost:8080/"
        },
        "id": "yNatzxzc59Iv",
        "outputId": "b534d826-07e9-4808-f7eb-84bbeb580d14"
      },
      "source": [
        "delta_hidden_layer = delta_output_x_weight * sigmoid_derivative(hidden_layer)\n",
        "delta_hidden_layer"
      ],
      "execution_count": null,
      "outputs": [
        {
          "output_type": "execute_result",
          "data": {
            "text/plain": [
              "array([[ 0.00041597,  0.02185088, -0.00362142],\n",
              "       [-0.00057384, -0.02866677,  0.00488404],\n",
              "       [-0.00056316, -0.02705587,  0.00410378],\n",
              "       [ 0.00048268,  0.01692128, -0.00262183]])"
            ]
          },
          "metadata": {
            "tags": []
          },
          "execution_count": 31
        }
      ]
    },
    {
      "cell_type": "code",
      "metadata": {
        "colab": {
          "base_uri": "https://localhost:8080/"
        },
        "id": "ynnv08Y36PLk",
        "outputId": "1ca7ee1e-b2d0-4eb0-821e-4946fae1b807"
      },
      "source": [
        "hidden_layer"
      ],
      "execution_count": null,
      "outputs": [
        {
          "output_type": "execute_result",
          "data": {
            "text/plain": [
              "array([[0.5       , 0.5       , 0.5       ],\n",
              "       [0.5885562 , 0.35962319, 0.38485296],\n",
              "       [0.39555998, 0.32300414, 0.27667802],\n",
              "       [0.48350599, 0.21131785, 0.19309868]])"
            ]
          },
          "metadata": {
            "tags": []
          },
          "execution_count": 32
        }
      ]
    },
    {
      "cell_type": "code",
      "metadata": {
        "colab": {
          "base_uri": "https://localhost:8080/"
        },
        "id": "7y8zU8LH6Zni",
        "outputId": "786eb60d-3009-43f4-c875-f3ad3f31650e"
      },
      "source": [
        "delta_output"
      ],
      "execution_count": null,
      "outputs": [
        {
          "output_type": "execute_result",
          "data": {
            "text/plain": [
              "array([[-0.0978763 ],\n",
              "       [ 0.13939397],\n",
              "       [ 0.138553  ],\n",
              "       [-0.11369557]])"
            ]
          },
          "metadata": {
            "tags": []
          },
          "execution_count": 33
        }
      ]
    },
    {
      "cell_type": "code",
      "metadata": {
        "colab": {
          "base_uri": "https://localhost:8080/"
        },
        "id": "43h5wcY_6hus",
        "outputId": "e537a8e3-06eb-4a5b-f5a8-64943c5fb724"
      },
      "source": [
        "hidden_layerT = hidden_layer.T\n",
        "hidden_layerT"
      ],
      "execution_count": null,
      "outputs": [
        {
          "output_type": "execute_result",
          "data": {
            "text/plain": [
              "array([[0.5       , 0.5885562 , 0.39555998, 0.48350599],\n",
              "       [0.5       , 0.35962319, 0.32300414, 0.21131785],\n",
              "       [0.5       , 0.38485296, 0.27667802, 0.19309868]])"
            ]
          },
          "metadata": {
            "tags": []
          },
          "execution_count": 34
        }
      ]
    },
    {
      "cell_type": "code",
      "metadata": {
        "id": "mpSxStmA6pxe"
      },
      "source": [
        "input_x_delta1 = hidden_layerT.dot(delta_output)"
      ],
      "execution_count": null,
      "outputs": []
    },
    {
      "cell_type": "code",
      "metadata": {
        "id": "g1QAphilACv6"
      },
      "source": [
        "input_x_delta0 = input_layerT.dot(delta_hidden_layer)"
      ],
      "execution_count": null,
      "outputs": []
    },
    {
      "cell_type": "code",
      "metadata": {
        "colab": {
          "base_uri": "https://localhost:8080/"
        },
        "id": "uBjmmQuqAm1R",
        "outputId": "abffb0eb-9b29-4f94-c970-92ac1f1b1cb9"
      },
      "source": [
        "input_x_delta0"
      ],
      "execution_count": null,
      "outputs": [
        {
          "output_type": "execute_result",
          "data": {
            "text/plain": [
              "array([[ 0.00449734, -0.00250532, -0.00070753],\n",
              "       [ 0.003424  , -0.00155538, -0.00176443]])"
            ]
          },
          "metadata": {
            "tags": []
          },
          "execution_count": 59
        }
      ]
    },
    {
      "cell_type": "code",
      "metadata": {
        "colab": {
          "base_uri": "https://localhost:8080/"
        },
        "id": "aC_Z8NSB64FM",
        "outputId": "748156e8-d3cf-46f9-b2e5-14a80671356b"
      },
      "source": [
        "weights1 = weights1 + (input_x_delta1 * learning_rate)\n",
        "weights1"
      ],
      "execution_count": null,
      "outputs": [
        {
          "output_type": "execute_result",
          "data": {
            "text/plain": [
              "array([[-0.00382537],\n",
              "       [-0.88423262],\n",
              "       [ 0.15643525]])"
            ]
          },
          "metadata": {
            "tags": []
          },
          "execution_count": 42
        }
      ]
    },
    {
      "cell_type": "code",
      "metadata": {
        "id": "CFgJZX5Q7HZP"
      },
      "source": [
        "learning_rate = 0.3\n",
        "epochs = 100\n"
      ],
      "execution_count": null,
      "outputs": []
    },
    {
      "cell_type": "markdown",
      "metadata": {
        "id": "nTC9V1Wr7KaB"
      },
      "source": [
        "## complete neural network"
      ]
    },
    {
      "cell_type": "code",
      "metadata": {
        "id": "h_nQiQeB7cS9"
      },
      "source": [
        "import numpy as np\n",
        "def sigmoid(sum):\n",
        "  return 1/(1+np.exp(-sum))\n",
        "\n",
        "def sigmoid_derivative(sigmoid):\n",
        "  return sigmoid * (1-sigmoid)\n",
        "  "
      ],
      "execution_count": null,
      "outputs": []
    },
    {
      "cell_type": "code",
      "metadata": {
        "id": "flJZPt0s70hW"
      },
      "source": [
        "inputs = np.array([[0,0],[0,1],[1,0],[1,1]])"
      ],
      "execution_count": null,
      "outputs": []
    },
    {
      "cell_type": "code",
      "metadata": {
        "id": "Wu3rktRe77Vt"
      },
      "source": [
        "outputs = np.array([[0],[1],[1],[0]])"
      ],
      "execution_count": null,
      "outputs": []
    },
    {
      "cell_type": "code",
      "metadata": {
        "id": "78ZNVNUz8BHt"
      },
      "source": [
        "weights0 = 2 * np.random.random((2,3)) - 1\n",
        "weights1 = 2 * np.random.random((3,1)) - 1\n"
      ],
      "execution_count": null,
      "outputs": []
    },
    {
      "cell_type": "code",
      "metadata": {
        "colab": {
          "base_uri": "https://localhost:8080/"
        },
        "id": "8d93RTUr8NNF",
        "outputId": "18e4503b-d511-492a-e57a-85b8fb0ae23f"
      },
      "source": [
        "epochs = 100000\n",
        "learning_rate = 0.6\n",
        "error = []\n",
        "\n",
        "for epoch in range(epochs):\n",
        "\n",
        "  input_layer = inputs\n",
        "  sum_synapse0 = np.dot(input_layer,weights0)\n",
        "  hidden_layer = sigmoid(sum_synapse0)\n",
        "\n",
        "  sum_synapse1 = np.dot(hidden_layer , weights1)\n",
        "  output_layer = sigmoid(sum_synapse1)\n",
        "\n",
        "  error_output_layer = outputs - output_layer \n",
        "  average = np.mean(abs(error_output_layer))\n",
        "\n",
        "  if epoch % 10000 == 0:\n",
        "    print( \"epochs: \" + str(epoch +1 ) + ' error: ' + str(average))\n",
        "    error.append(average)\n",
        "# calculate derivative\n",
        "  derivative_output = sigmoid_derivative(output_layer)\n",
        "  delta_output = error_output_layer * derivative_output\n",
        "## back propagation\n",
        "  weights1T = weights1.T\n",
        "  delta_output_weight = delta_output.dot(weights1T)\n",
        "  delta_hidden_layer = delta_output_weight * sigmoid_derivative(hidden_layer)\n",
        "\n",
        "  hidden_layerT = hidden_layer.T\n",
        "  input_x_delta1 = hidden_layerT.dot(delta_output)\n",
        "  weights1 = weights1 + (input_x_delta1 * learning_rate)\n",
        "\n",
        "  input_layerT = input_layer.T\n",
        "  input_x_delta0 =  input_layerT.dot(delta_hidden_layer)\n",
        "  weights0 = weights0 + (input_x_delta0 * learning_rate)"
      ],
      "execution_count": null,
      "outputs": [
        {
          "output_type": "stream",
          "text": [
            "epochs: 1 error: 0.5000360583093459\n",
            "epochs: 10001 error: 0.0391504638214931\n",
            "epochs: 20001 error: 0.02655431002956466\n",
            "epochs: 30001 error: 0.021350673926527182\n",
            "epochs: 40001 error: 0.018335907027055474\n",
            "epochs: 50001 error: 0.016311757577797854\n",
            "epochs: 60001 error: 0.014833602939290001\n",
            "epochs: 70001 error: 0.013693662558162144\n",
            "epochs: 80001 error: 0.012780198186749542\n",
            "epochs: 90001 error: 0.01202709743338938\n"
          ],
          "name": "stdout"
        }
      ]
    },
    {
      "cell_type": "code",
      "metadata": {
        "colab": {
          "base_uri": "https://localhost:8080/",
          "height": 296
        },
        "id": "8TiGb1ED95O8",
        "outputId": "c1ab4ac8-c2a4-4756-9c14-29f02c9e0813"
      },
      "source": [
        "import matplotlib.pyplot as plt\n",
        "plt.xlabel('Epochs')\n",
        "plt.ylabel('Error')\n",
        "plt.plot(error)"
      ],
      "execution_count": null,
      "outputs": [
        {
          "output_type": "execute_result",
          "data": {
            "text/plain": [
              "[<matplotlib.lines.Line2D at 0x7fe357ff3450>]"
            ]
          },
          "metadata": {
            "tags": []
          },
          "execution_count": 75
        },
        {
          "output_type": "display_data",
          "data": {
            "image/png": "[encoded data removed]",
            "text/plain": [
              "<Figure size 432x288 with 1 Axes>"
            ]
          },
          "metadata": {
            "tags": [],
            "needs_background": "light"
          }
        }
      ]
    },
    {
      "cell_type": "code",
      "metadata": {
        "colab": {
          "base_uri": "https://localhost:8080/"
        },
        "id": "mSozoT6VBSbV",
        "outputId": "cdab1cc0-73e8-4d66-862b-ce0672c28410"
      },
      "source": [
        "outputs"
      ],
      "execution_count": null,
      "outputs": [
        {
          "output_type": "execute_result",
          "data": {
            "text/plain": [
              "array([[0],\n",
              "       [1],\n",
              "       [1],\n",
              "       [0]])"
            ]
          },
          "metadata": {
            "tags": []
          },
          "execution_count": 76
        }
      ]
    },
    {
      "cell_type": "code",
      "metadata": {
        "colab": {
          "base_uri": "https://localhost:8080/"
        },
        "id": "K79UL2pPBoSN",
        "outputId": "b04abc78-cb5c-4cbd-bfdb-d5a8f8220384"
      },
      "source": [
        "output_layer"
      ],
      "execution_count": null,
      "outputs": [
        {
          "output_type": "execute_result",
          "data": {
            "text/plain": [
              "array([[0.00885915],\n",
              "       [0.98835108],\n",
              "       [0.98609535],\n",
              "       [0.01115722]])"
            ]
          },
          "metadata": {
            "tags": []
          },
          "execution_count": 77
        }
      ]
    },
    {
      "cell_type": "code",
      "metadata": {
        "colab": {
          "base_uri": "https://localhost:8080/"
        },
        "id": "WD9_BJMWBpSU",
        "outputId": "29e67a84-f503-4084-ec91-b07cd7f0b75c"
      },
      "source": [
        "weights0"
      ],
      "execution_count": null,
      "outputs": [
        {
          "output_type": "execute_result",
          "data": {
            "text/plain": [
              "array([[-1.54036878, -5.18200561, -7.20769947],\n",
              "       [ 0.88669939, 10.33168629, -6.86074506]])"
            ]
          },
          "metadata": {
            "tags": []
          },
          "execution_count": 78
        }
      ]
    },
    {
      "cell_type": "code",
      "metadata": {
        "id": "jIRpa8pSBqjD"
      },
      "source": [
        "def calculate_output(instance):\n",
        "  hidden_layer = sigmoid(np.dot(instance , weights0))\n",
        "  output_layer = sigmoid(np.dot(hidden_layer , weights1))\n",
        "  return output_layer[0]"
      ],
      "execution_count": null,
      "outputs": []
    },
    {
      "cell_type": "code",
      "metadata": {
        "colab": {
          "base_uri": "https://localhost:8080/"
        },
        "id": "49TmMiNXB7aP",
        "outputId": "e781976f-028e-4791-c6d8-04accae21ff2"
      },
      "source": [
        "round(calculate_output(np.array([1,1])))"
      ],
      "execution_count": null,
      "outputs": [
        {
          "output_type": "execute_result",
          "data": {
            "text/plain": [
              "0"
            ]
          },
          "metadata": {
            "tags": []
          },
          "execution_count": 83
        }
      ]
    },
    {
      "cell_type": "markdown",
      "metadata": {
        "id": "JPJjpPcyDoPY"
      },
      "source": [
        "## Now lets perform the task on Original dataset\n",
        "- iris dataset\n",
        "P.S.\n",
        "-  This data contains 3 outputs  but we are using only two outputs because our neural network in designed in such a way"
      ]
    },
    {
      "cell_type": "markdown",
      "metadata": {
        "id": "4Oiyd1GYCAJs"
      },
      "source": [
        "##Load the dataset"
      ]
    },
    {
      "cell_type": "code",
      "metadata": {
        "id": "cABTat99D1Tg"
      },
      "source": [
        "from sklearn import datasets"
      ],
      "execution_count": null,
      "outputs": []
    },
    {
      "cell_type": "code",
      "metadata": {
        "id": "3pqhV3NmD3e9"
      },
      "source": [
        "iris = datasets.load_iris()"
      ],
      "execution_count": null,
      "outputs": []
    },
    {
      "cell_type": "code",
      "metadata": {
        "colab": {
          "base_uri": "https://localhost:8080/"
        },
        "id": "Tq_ZPkzPD7ML",
        "outputId": "9b9e7ecc-a14a-46ee-fdda-74e242d3c621"
      },
      "source": [
        "iris.feature_names"
      ],
      "execution_count": null,
      "outputs": [
        {
          "output_type": "execute_result",
          "data": {
            "text/plain": [
              "['sepal length (cm)',\n",
              " 'sepal width (cm)',\n",
              " 'petal length (cm)',\n",
              " 'petal width (cm)']"
            ]
          },
          "metadata": {
            "tags": []
          },
          "execution_count": 88
        }
      ]
    },
    {
      "cell_type": "code",
      "metadata": {
        "colab": {
          "base_uri": "https://localhost:8080/"
        },
        "id": "2P4zHHZjD8mV",
        "outputId": "3df2a549-bd02-4be8-ce36-134bfcb73794"
      },
      "source": [
        "iris.data.shape"
      ],
      "execution_count": null,
      "outputs": [
        {
          "output_type": "execute_result",
          "data": {
            "text/plain": [
              "(150, 4)"
            ]
          },
          "metadata": {
            "tags": []
          },
          "execution_count": 92
        }
      ]
    },
    {
      "cell_type": "code",
      "metadata": {
        "colab": {
          "base_uri": "https://localhost:8080/"
        },
        "id": "6rSfOPnREDn8",
        "outputId": "8a7a83bd-f00f-4de3-a163-c3e1a77da599"
      },
      "source": [
        "iris.data[:10]"
      ],
      "execution_count": null,
      "outputs": [
        {
          "output_type": "execute_result",
          "data": {
            "text/plain": [
              "array([[5.1, 3.5, 1.4, 0.2],\n",
              "       [4.9, 3. , 1.4, 0.2],\n",
              "       [4.7, 3.2, 1.3, 0.2],\n",
              "       [4.6, 3.1, 1.5, 0.2],\n",
              "       [5. , 3.6, 1.4, 0.2],\n",
              "       [5.4, 3.9, 1.7, 0.4],\n",
              "       [4.6, 3.4, 1.4, 0.3],\n",
              "       [5. , 3.4, 1.5, 0.2],\n",
              "       [4.4, 2.9, 1.4, 0.2],\n",
              "       [4.9, 3.1, 1.5, 0.1]])"
            ]
          },
          "metadata": {
            "tags": []
          },
          "execution_count": 93
        }
      ]
    },
    {
      "cell_type": "code",
      "metadata": {
        "colab": {
          "base_uri": "https://localhost:8080/"
        },
        "id": "3H6ALXxJEPDt",
        "outputId": "064407ee-b50d-4fb6-9f1f-4dbbb3bb5b22"
      },
      "source": [
        "iris.target_names "
      ],
      "execution_count": null,
      "outputs": [
        {
          "output_type": "execute_result",
          "data": {
            "text/plain": [
              "array(['setosa', 'versicolor', 'virginica'], dtype='<U10')"
            ]
          },
          "metadata": {
            "tags": []
          },
          "execution_count": 94
        }
      ]
    },
    {
      "cell_type": "code",
      "metadata": {
        "id": "itPXZwOzERDd"
      },
      "source": [
        "inputs = iris.data[0:100]"
      ],
      "execution_count": null,
      "outputs": []
    },
    {
      "cell_type": "code",
      "metadata": {
        "id": "wdiE1Y8UEXv3"
      },
      "source": [
        "outputs = iris.target[0:100]"
      ],
      "execution_count": null,
      "outputs": []
    },
    {
      "cell_type": "code",
      "metadata": {
        "colab": {
          "base_uri": "https://localhost:8080/"
        },
        "id": "kgOzbpOvEdqd",
        "outputId": "0f497201-7752-43f9-c9c0-9e9c8c5261b9"
      },
      "source": [
        "inputs.shape"
      ],
      "execution_count": null,
      "outputs": [
        {
          "output_type": "execute_result",
          "data": {
            "text/plain": [
              "(100, 4)"
            ]
          },
          "metadata": {
            "tags": []
          },
          "execution_count": 97
        }
      ]
    },
    {
      "cell_type": "code",
      "metadata": {
        "colab": {
          "base_uri": "https://localhost:8080/"
        },
        "id": "H-9d_TftEgtq",
        "outputId": "94ae1626-d206-4be5-9d40-70bb513a6954"
      },
      "source": [
        "outputs.shape"
      ],
      "execution_count": null,
      "outputs": [
        {
          "output_type": "execute_result",
          "data": {
            "text/plain": [
              "(100,)"
            ]
          },
          "metadata": {
            "tags": []
          },
          "execution_count": 98
        }
      ]
    },
    {
      "cell_type": "markdown",
      "metadata": {
        "id": "oFT0C_ZxEiNE"
      },
      "source": [
        "#### inputs and outputs should ne of same shape\n",
        "* reshape output"
      ]
    },
    {
      "cell_type": "code",
      "metadata": {
        "colab": {
          "base_uri": "https://localhost:8080/"
        },
        "id": "o7Km4v7eEl6U",
        "outputId": "44573729-71e7-4ec6-f3ff-9f7eb00b5d54"
      },
      "source": [
        "outputs = outputs.reshape(-1,1)\n",
        "outputs.shape"
      ],
      "execution_count": null,
      "outputs": [
        {
          "output_type": "execute_result",
          "data": {
            "text/plain": [
              "(100, 1)"
            ]
          },
          "metadata": {
            "tags": []
          },
          "execution_count": 100
        }
      ]
    },
    {
      "cell_type": "code",
      "metadata": {
        "colab": {
          "base_uri": "https://localhost:8080/"
        },
        "id": "11ZBipWhGPz2",
        "outputId": "e61ce48c-0401-4852-ca18-cfb263863b91"
      },
      "source": [
        "outputs"
      ],
      "execution_count": null,
      "outputs": [
        {
          "output_type": "execute_result",
          "data": {
            "text/plain": [
              "array([[0],\n",
              "       [0],\n",
              "       [0],\n",
              "       [0],\n",
              "       [0],\n",
              "       [0],\n",
              "       [0],\n",
              "       [0],\n",
              "       [0],\n",
              "       [0],\n",
              "       [0],\n",
              "       [0],\n",
              "       [0],\n",
              "       [0],\n",
              "       [0],\n",
              "       [0],\n",
              "       [0],\n",
              "       [0],\n",
              "       [0],\n",
              "       [0],\n",
              "       [0],\n",
              "       [0],\n",
              "       [0],\n",
              "       [0],\n",
              "       [0],\n",
              "       [0],\n",
              "       [0],\n",
              "       [0],\n",
              "       [0],\n",
              "       [0],\n",
              "       [0],\n",
              "       [0],\n",
              "       [0],\n",
              "       [0],\n",
              "       [0],\n",
              "       [0],\n",
              "       [0],\n",
              "       [0],\n",
              "       [0],\n",
              "       [0],\n",
              "       [0],\n",
              "       [0],\n",
              "       [0],\n",
              "       [0],\n",
              "       [0],\n",
              "       [0],\n",
              "       [0],\n",
              "       [0],\n",
              "       [0],\n",
              "       [0],\n",
              "       [1],\n",
              "       [1],\n",
              "       [1],\n",
              "       [1],\n",
              "       [1],\n",
              "       [1],\n",
              "       [1],\n",
              "       [1],\n",
              "       [1],\n",
              "       [1],\n",
              "       [1],\n",
              "       [1],\n",
              "       [1],\n",
              "       [1],\n",
              "       [1],\n",
              "       [1],\n",
              "       [1],\n",
              "       [1],\n",
              "       [1],\n",
              "       [1],\n",
              "       [1],\n",
              "       [1],\n",
              "       [1],\n",
              "       [1],\n",
              "       [1],\n",
              "       [1],\n",
              "       [1],\n",
              "       [1],\n",
              "       [1],\n",
              "       [1],\n",
              "       [1],\n",
              "       [1],\n",
              "       [1],\n",
              "       [1],\n",
              "       [1],\n",
              "       [1],\n",
              "       [1],\n",
              "       [1],\n",
              "       [1],\n",
              "       [1],\n",
              "       [1],\n",
              "       [1],\n",
              "       [1],\n",
              "       [1],\n",
              "       [1],\n",
              "       [1],\n",
              "       [1],\n",
              "       [1],\n",
              "       [1],\n",
              "       [1]])"
            ]
          },
          "metadata": {
            "tags": []
          },
          "execution_count": 135
        }
      ]
    },
    {
      "cell_type": "markdown",
      "metadata": {
        "id": "2A1jnUbCExRt"
      },
      "source": [
        "## Complete neural network"
      ]
    },
    {
      "cell_type": "code",
      "metadata": {
        "id": "BUoGuuImEvb6"
      },
      "source": [
        "import numpy as np\n",
        "\n",
        "## make a function for activation function\n",
        "\n",
        "def sigmoid(sum):\n",
        "  return 1/(1+np.exp(sum))\n",
        "\n",
        "## make a function for sigmoid derivative to perfrom back propagation\n",
        "\n",
        "def sigmoid_derivative(sigmoid):\n",
        "  return sigmoid * (1- sigmoid)\n",
        "\n",
        "weights0 = 2 * np.random.random((4,5)) - 1   \n",
        "weights1 = 2 * np.random.random((5,1)) - 1                           "
      ],
      "execution_count": null,
      "outputs": []
    },
    {
      "cell_type": "code",
      "metadata": {
        "colab": {
          "base_uri": "https://localhost:8080/"
        },
        "id": "5vuiHJHMFb0K",
        "outputId": "f75859ba-0d4c-4418-d90e-166a34668bbf"
      },
      "source": [
        "weights0"
      ],
      "execution_count": null,
      "outputs": [
        {
          "output_type": "execute_result",
          "data": {
            "text/plain": [
              "array([[-0.96089055,  0.92545244, -0.74346086,  0.8028149 ,  0.79090214],\n",
              "       [ 0.26389287, -0.91058414,  0.02684474,  0.90364451,  0.64218266],\n",
              "       [ 0.50121597,  0.90159403, -0.94909991,  0.89768012, -0.39118849],\n",
              "       [-0.50221583, -0.85173645,  0.97631071, -0.7307534 ,  0.12246367]])"
            ]
          },
          "metadata": {
            "tags": []
          },
          "execution_count": 104
        }
      ]
    },
    {
      "cell_type": "code",
      "metadata": {
        "colab": {
          "base_uri": "https://localhost:8080/"
        },
        "id": "wnPtBVDgFpOk",
        "outputId": "268864ff-6310-4076-e6bb-e3babe131598"
      },
      "source": [
        "weights1"
      ],
      "execution_count": null,
      "outputs": [
        {
          "output_type": "execute_result",
          "data": {
            "text/plain": [
              "array([[ 0.83823219],\n",
              "       [ 0.34702792],\n",
              "       [-0.22098201],\n",
              "       [ 0.93138497],\n",
              "       [ 0.72628026]])"
            ]
          },
          "metadata": {
            "tags": []
          },
          "execution_count": 106
        }
      ]
    },
    {
      "cell_type": "code",
      "metadata": {
        "colab": {
          "base_uri": "https://localhost:8080/"
        },
        "id": "UvVCafuzF2nY",
        "outputId": "3091629b-cd24-4c66-9b7d-6d6f73ea7f2f"
      },
      "source": [
        "epochs = 3000\n",
        "learning_rate = 0.01\n",
        "\n",
        "error = []\n",
        "\n",
        "for epoch in range(epochs):\n",
        "  input_layer = inputs\n",
        "  sum_synapse0 = np.dot(input_layer, weights0)\n",
        "  hidden_layer = sigmoid(sum_synapse0)\n",
        "\n",
        "  sum_synapse1 = np.dot(hidden_layer, weights1)\n",
        "  output_layer = sigmoid(sum_synapse1)\n",
        "\n",
        "  error_output_layer = outputs - output_layer\n",
        "  average = np.mean(abs(error_output_layer))\n",
        "  \n",
        "  if epoch % 1000 == 0:\n",
        "    print('Epoch: ' + str(epoch + 1) + ' Error: ' + str(average))\n",
        "    error.append(average)\n",
        "  \n",
        "  derivative_output = sigmoid_derivative(output_layer)\n",
        "  delta_output = error_output_layer * derivative_output\n",
        "  \n",
        "  weights1T = weights1.T\n",
        "  delta_output_weight = delta_output.dot(weights1T)\n",
        "  delta_hidden_layer = delta_output_weight * sigmoid_derivative(hidden_layer)\n",
        "  \n",
        "  hidden_layerT = hidden_layer.T\n",
        "  input_x_delta1 = hidden_layerT.dot(delta_output)\n",
        "  weights1 = weights1 + (input_x_delta1 * learning_rate)\n",
        "  \n",
        "  input_layerT = input_layer.T\n",
        "  input_x_delta0 = input_layerT.dot(delta_hidden_layer)\n",
        "  weights0 = weights0 + (input_x_delta0 * learning_rate)"
      ],
      "execution_count": null,
      "outputs": [
        {
          "output_type": "stream",
          "text": [
            "Epoch: 1 Error: 0.5028834145452096\n",
            "Epoch: 1001 Error: 0.5001270903769354\n",
            "Epoch: 2001 Error: 0.5000816783093086\n"
          ],
          "name": "stdout"
        }
      ]
    },
    {
      "cell_type": "code",
      "metadata": {
        "colab": {
          "base_uri": "https://localhost:8080/",
          "height": 299
        },
        "id": "pCdEhnohF668",
        "outputId": "2fbce192-c9a3-4a3e-ce0b-b2a56a6578bd"
      },
      "source": [
        "import matplotlib.pyplot as plt\n",
        "plt.xlabel('Epochs')\n",
        "plt.ylabel('Error')\n",
        "plt.plot(error)"
      ],
      "execution_count": null,
      "outputs": [
        {
          "output_type": "execute_result",
          "data": {
            "text/plain": [
              "[<matplotlib.lines.Line2D at 0x7fe348351390>]"
            ]
          },
          "metadata": {
            "tags": []
          },
          "execution_count": 127
        },
        {
          "output_type": "display_data",
          "data": {
            "image/png": "[encoded data removed]",
            "text/plain": [
              "<Figure size 432x288 with 1 Axes>"
            ]
          },
          "metadata": {
            "tags": [],
            "needs_background": "light"
          }
        }
      ]
    },
    {
      "cell_type": "code",
      "metadata": {
        "id": "6N2CvR4ZF-Qt"
      },
      "source": [
        "def calculate_output(instance):\n",
        "  hidden_layer = sigmoid(np.dot(instance, weights0))\n",
        "  output_layer = sigmoid(np.dot(hidden_layer, weights1))\n",
        "  return output_layer[0]"
      ],
      "execution_count": null,
      "outputs": []
    },
    {
      "cell_type": "code",
      "metadata": {
        "colab": {
          "base_uri": "https://localhost:8080/"
        },
        "id": "yZ9HV0uSGDRA",
        "outputId": "94bbdd9c-c326-427d-bc17-5d3b32e6258a"
      },
      "source": [
        "inputs[0], outputs[0]"
      ],
      "execution_count": null,
      "outputs": [
        {
          "output_type": "execute_result",
          "data": {
            "text/plain": [
              "(array([5.1, 3.5, 1.4, 0.2]), array([0]))"
            ]
          },
          "metadata": {
            "tags": []
          },
          "execution_count": 129
        }
      ]
    },
    {
      "cell_type": "code",
      "metadata": {
        "colab": {
          "base_uri": "https://localhost:8080/"
        },
        "id": "yvStzswYGFbM",
        "outputId": "0a6c7f28-cb02-4067-9553-d110089af207"
      },
      "source": [
        "round(calculate_output(inputs[0]))"
      ],
      "execution_count": null,
      "outputs": [
        {
          "output_type": "execute_result",
          "data": {
            "text/plain": [
              "1"
            ]
          },
          "metadata": {
            "tags": []
          },
          "execution_count": 130
        }
      ]
    },
    {
      "cell_type": "code",
      "metadata": {
        "colab": {
          "base_uri": "https://localhost:8080/"
        },
        "id": "VeQUko2pGKcJ",
        "outputId": "251d0a8d-abe3-4fa6-b52c-0a020489ff41"
      },
      "source": [
        "iris.target_names"
      ],
      "execution_count": null,
      "outputs": [
        {
          "output_type": "execute_result",
          "data": {
            "text/plain": [
              "array(['setosa', 'versicolor', 'virginica'], dtype='<U10')"
            ]
          },
          "metadata": {
            "tags": []
          },
          "execution_count": 131
        }
      ]
    },
    {
      "cell_type": "code",
      "metadata": {
        "colab": {
          "base_uri": "https://localhost:8080/",
          "height": 35
        },
        "id": "VkEVTw_HGYvn",
        "outputId": "12082225-becf-47b3-f4a8-3f2aa29a2e11"
      },
      "source": [
        "iris.target_names[int(round(calculate_output(inputs[0])))]"
      ],
      "execution_count": null,
      "outputs": [
        {
          "output_type": "execute_result",
          "data": {
            "application/vnd.google.colaboratory.intrinsic+json": {
              "type": "string"
            },
            "text/plain": [
              "'versicolor'"
            ]
          },
          "metadata": {
            "tags": []
          },
          "execution_count": 132
        }
      ]
    },
    {
      "cell_type": "code",
      "metadata": {
        "colab": {
          "base_uri": "https://localhost:8080/"
        },
        "id": "9ukZoyEqGdSt",
        "outputId": "d672eb01-0c82-49da-b764-0f42ddf8232d"
      },
      "source": [
        "inputs[99]"
      ],
      "execution_count": null,
      "outputs": [
        {
          "output_type": "execute_result",
          "data": {
            "text/plain": [
              "array([5.7, 2.8, 4.1, 1.3])"
            ]
          },
          "metadata": {
            "tags": []
          },
          "execution_count": 133
        }
      ]
    },
    {
      "cell_type": "code",
      "metadata": {
        "colab": {
          "base_uri": "https://localhost:8080/",
          "height": 35
        },
        "id": "e_Z1tUX3GjXt",
        "outputId": "55deedd5-3ed2-4e22-b762-f5bc340e8576"
      },
      "source": [
        "iris.target_names[int(round(calculate_output(inputs[99])))]"
      ],
      "execution_count": null,
      "outputs": [
        {
          "output_type": "execute_result",
          "data": {
            "application/vnd.google.colaboratory.intrinsic+json": {
              "type": "string"
            },
            "text/plain": [
              "'versicolor'"
            ]
          },
          "metadata": {
            "tags": []
          },
          "execution_count": 134
        }
      ]
    },
    {
      "cell_type": "code",
      "metadata": {
        "id": "5XSuOdmcGpav"
      },
      "source": [
        ""
      ],
      "execution_count": null,
      "outputs": []
    }
  ]
}