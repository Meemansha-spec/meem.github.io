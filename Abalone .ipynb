{
 "cells": [
  {
   "cell_type": "code",
   "execution_count": 38,
   "id": "95e8c9dd-725e-43bc-b67a-030e416c479f",
   "metadata": {},
   "outputs": [],
   "source": [
    "import pandas as pd\n",
    "import numpy as np\n",
    "import matplotlib.pyplot as plt\n",
    "import seaborn as sns\n",
    "from sklearn.preprocessing import StandardScaler"
   ]
  },
  {
   "cell_type": "code",
   "execution_count": 39,
   "id": "a43c4a32-a196-40a6-bf53-857d3447b930",
   "metadata": {},
   "outputs": [],
   "source": [
    "train_data = pd.read_csv('train.csv')\n",
    "test_data = pd.read_csv('test.csv')\n",
    "submission = pd.read_csv('sample_submission.csv')"
   ]
  },
  {
   "cell_type": "code",
   "execution_count": 40,
   "id": "6bfcee0b-0856-43b7-96b4-60e8d7bf65a6",
   "metadata": {},
   "outputs": [
    {
     "data": {
      "text/html": [
       "<div>\n",
       "<style scoped>\n",
       "    .dataframe tbody tr th:only-of-type {\n",
       "        vertical-align: middle;\n",
       "    }\n",
       "\n",
       "    .dataframe tbody tr th {\n",
       "        vertical-align: top;\n",
       "    }\n",
       "\n",
       "    .dataframe thead th {\n",
       "        text-align: right;\n",
       "    }\n",
       "</style>\n",
       "<table border=\"1\" class=\"dataframe\">\n",
       "  <thead>\n",
       "    <tr style=\"text-align: right;\">\n",
       "      <th></th>\n",
       "      <th>id</th>\n",
       "      <th>Sex</th>\n",
       "      <th>Length</th>\n",
       "      <th>Diameter</th>\n",
       "      <th>Height</th>\n",
       "      <th>Whole weight</th>\n",
       "      <th>Whole weight.1</th>\n",
       "      <th>Whole weight.2</th>\n",
       "      <th>Shell weight</th>\n",
       "      <th>Rings</th>\n",
       "    </tr>\n",
       "  </thead>\n",
       "  <tbody>\n",
       "    <tr>\n",
       "      <th>0</th>\n",
       "      <td>0</td>\n",
       "      <td>F</td>\n",
       "      <td>0.550</td>\n",
       "      <td>0.430</td>\n",
       "      <td>0.150</td>\n",
       "      <td>0.7715</td>\n",
       "      <td>0.3285</td>\n",
       "      <td>0.1465</td>\n",
       "      <td>0.2400</td>\n",
       "      <td>11</td>\n",
       "    </tr>\n",
       "    <tr>\n",
       "      <th>1</th>\n",
       "      <td>1</td>\n",
       "      <td>F</td>\n",
       "      <td>0.630</td>\n",
       "      <td>0.490</td>\n",
       "      <td>0.145</td>\n",
       "      <td>1.1300</td>\n",
       "      <td>0.4580</td>\n",
       "      <td>0.2765</td>\n",
       "      <td>0.3200</td>\n",
       "      <td>11</td>\n",
       "    </tr>\n",
       "    <tr>\n",
       "      <th>2</th>\n",
       "      <td>2</td>\n",
       "      <td>I</td>\n",
       "      <td>0.160</td>\n",
       "      <td>0.110</td>\n",
       "      <td>0.025</td>\n",
       "      <td>0.0210</td>\n",
       "      <td>0.0055</td>\n",
       "      <td>0.0030</td>\n",
       "      <td>0.0050</td>\n",
       "      <td>6</td>\n",
       "    </tr>\n",
       "    <tr>\n",
       "      <th>3</th>\n",
       "      <td>3</td>\n",
       "      <td>M</td>\n",
       "      <td>0.595</td>\n",
       "      <td>0.475</td>\n",
       "      <td>0.150</td>\n",
       "      <td>0.9145</td>\n",
       "      <td>0.3755</td>\n",
       "      <td>0.2055</td>\n",
       "      <td>0.2500</td>\n",
       "      <td>10</td>\n",
       "    </tr>\n",
       "    <tr>\n",
       "      <th>4</th>\n",
       "      <td>4</td>\n",
       "      <td>I</td>\n",
       "      <td>0.555</td>\n",
       "      <td>0.425</td>\n",
       "      <td>0.130</td>\n",
       "      <td>0.7820</td>\n",
       "      <td>0.3695</td>\n",
       "      <td>0.1600</td>\n",
       "      <td>0.1975</td>\n",
       "      <td>9</td>\n",
       "    </tr>\n",
       "  </tbody>\n",
       "</table>\n",
       "</div>"
      ],
      "text/plain": [
       "   id Sex  Length  Diameter  Height  Whole weight  Whole weight.1  \\\n",
       "0   0   F   0.550     0.430   0.150        0.7715          0.3285   \n",
       "1   1   F   0.630     0.490   0.145        1.1300          0.4580   \n",
       "2   2   I   0.160     0.110   0.025        0.0210          0.0055   \n",
       "3   3   M   0.595     0.475   0.150        0.9145          0.3755   \n",
       "4   4   I   0.555     0.425   0.130        0.7820          0.3695   \n",
       "\n",
       "   Whole weight.2  Shell weight  Rings  \n",
       "0          0.1465        0.2400     11  \n",
       "1          0.2765        0.3200     11  \n",
       "2          0.0030        0.0050      6  \n",
       "3          0.2055        0.2500     10  \n",
       "4          0.1600        0.1975      9  "
      ]
     },
     "execution_count": 40,
     "metadata": {},
     "output_type": "execute_result"
    }
   ],
   "source": [
    "train_data.head()"
   ]
  },
  {
   "cell_type": "code",
   "execution_count": 41,
   "id": "7f90b13f-f578-47a0-82a1-0c7375f9c840",
   "metadata": {},
   "outputs": [],
   "source": [
    "test_data.drop(columns = ['id'],inplace = True)\n"
   ]
  },
  {
   "cell_type": "code",
   "execution_count": 42,
   "id": "990e19c2-c688-4d3c-9354-c64fb17657b8",
   "metadata": {},
   "outputs": [],
   "source": [
    "from sklearn.preprocessing import LabelEncoder\n",
    "label_encoder = LabelEncoder()\n",
    "train_data['Sex'] = label_encoder.fit_transform(train_data['Sex'])\n",
    "test_data['Sex'] = label_encoder.fit_transform(test_data['Sex'])\n"
   ]
  },
  {
   "cell_type": "code",
   "execution_count": 44,
   "id": "a2f1aa1f-094b-4928-8f4f-8bf09b60b8b5",
   "metadata": {},
   "outputs": [
    {
     "data": {
      "text/html": [
       "<div>\n",
       "<style scoped>\n",
       "    .dataframe tbody tr th:only-of-type {\n",
       "        vertical-align: middle;\n",
       "    }\n",
       "\n",
       "    .dataframe tbody tr th {\n",
       "        vertical-align: top;\n",
       "    }\n",
       "\n",
       "    .dataframe thead th {\n",
       "        text-align: right;\n",
       "    }\n",
       "</style>\n",
       "<table border=\"1\" class=\"dataframe\">\n",
       "  <thead>\n",
       "    <tr style=\"text-align: right;\">\n",
       "      <th></th>\n",
       "      <th>Sex</th>\n",
       "      <th>Length</th>\n",
       "      <th>Diameter</th>\n",
       "      <th>Height</th>\n",
       "      <th>Whole weight</th>\n",
       "      <th>Whole weight.1</th>\n",
       "      <th>Whole weight.2</th>\n",
       "      <th>Shell weight</th>\n",
       "    </tr>\n",
       "  </thead>\n",
       "  <tbody>\n",
       "    <tr>\n",
       "      <th>0</th>\n",
       "      <td>2</td>\n",
       "      <td>0.645</td>\n",
       "      <td>0.475</td>\n",
       "      <td>0.155</td>\n",
       "      <td>1.2380</td>\n",
       "      <td>0.6185</td>\n",
       "      <td>0.3125</td>\n",
       "      <td>0.3005</td>\n",
       "    </tr>\n",
       "    <tr>\n",
       "      <th>1</th>\n",
       "      <td>2</td>\n",
       "      <td>0.580</td>\n",
       "      <td>0.460</td>\n",
       "      <td>0.160</td>\n",
       "      <td>0.9830</td>\n",
       "      <td>0.4785</td>\n",
       "      <td>0.2195</td>\n",
       "      <td>0.2750</td>\n",
       "    </tr>\n",
       "    <tr>\n",
       "      <th>2</th>\n",
       "      <td>2</td>\n",
       "      <td>0.560</td>\n",
       "      <td>0.420</td>\n",
       "      <td>0.140</td>\n",
       "      <td>0.8395</td>\n",
       "      <td>0.3525</td>\n",
       "      <td>0.1845</td>\n",
       "      <td>0.2405</td>\n",
       "    </tr>\n",
       "    <tr>\n",
       "      <th>3</th>\n",
       "      <td>2</td>\n",
       "      <td>0.570</td>\n",
       "      <td>0.490</td>\n",
       "      <td>0.145</td>\n",
       "      <td>0.8740</td>\n",
       "      <td>0.3525</td>\n",
       "      <td>0.1865</td>\n",
       "      <td>0.2350</td>\n",
       "    </tr>\n",
       "    <tr>\n",
       "      <th>4</th>\n",
       "      <td>1</td>\n",
       "      <td>0.415</td>\n",
       "      <td>0.325</td>\n",
       "      <td>0.110</td>\n",
       "      <td>0.3580</td>\n",
       "      <td>0.1575</td>\n",
       "      <td>0.0670</td>\n",
       "      <td>0.1050</td>\n",
       "    </tr>\n",
       "  </tbody>\n",
       "</table>\n",
       "</div>"
      ],
      "text/plain": [
       "   Sex  Length  Diameter  Height  Whole weight  Whole weight.1  \\\n",
       "0    2   0.645     0.475   0.155        1.2380          0.6185   \n",
       "1    2   0.580     0.460   0.160        0.9830          0.4785   \n",
       "2    2   0.560     0.420   0.140        0.8395          0.3525   \n",
       "3    2   0.570     0.490   0.145        0.8740          0.3525   \n",
       "4    1   0.415     0.325   0.110        0.3580          0.1575   \n",
       "\n",
       "   Whole weight.2  Shell weight  \n",
       "0          0.3125        0.3005  \n",
       "1          0.2195        0.2750  \n",
       "2          0.1845        0.2405  \n",
       "3          0.1865        0.2350  \n",
       "4          0.0670        0.1050  "
      ]
     },
     "execution_count": 44,
     "metadata": {},
     "output_type": "execute_result"
    }
   ],
   "source": [
    "test_data.head()"
   ]
  },
  {
   "cell_type": "code",
   "execution_count": 45,
   "id": "53ad4370-ea0e-4d2a-80d6-e94c44e749b5",
   "metadata": {},
   "outputs": [],
   "source": [
    "X = train_data.drop(columns = ['id','Rings'])\n",
    "y = train_data['Rings']"
   ]
  },
  {
   "cell_type": "code",
   "execution_count": 46,
   "id": "5c615aa1-4f39-451b-a5ed-f5642d545cd0",
   "metadata": {},
   "outputs": [],
   "source": [
    "from sklearn.model_selection import train_test_split\n",
    "X_train , X_valid , y_train , y_valid = train_test_split(X,y,test_size = 0.33 , random_state = 42)"
   ]
  },
  {
   "cell_type": "markdown",
   "id": "304af633-b46a-447e-94e9-dcf6e8b73d96",
   "metadata": {},
   "source": [
    "### Perform standard scaling to increase the accuracy"
   ]
  },
  {
   "cell_type": "code",
   "execution_count": 50,
   "id": "430e7450-2459-4540-af78-ae2cf1d7a3aa",
   "metadata": {},
   "outputs": [
    {
     "name": "stderr",
     "output_type": "stream",
     "text": [
      "C:\\ProgramData\\anaconda3\\Lib\\site-packages\\sklearn\\base.py:432: UserWarning: X has feature names, but StandardScaler was fitted without feature names\n",
      "  warnings.warn(\n"
     ]
    }
   ],
   "source": [
    "scaler = StandardScaler()\n",
    "X_train = scaler.fit_transform(X_train)\n",
    "X_valid = scaler.transform(X_valid)"
   ]
  },
  {
   "cell_type": "markdown",
   "id": "21d7d5f9-2315-4007-b2b0-ce2d9a9c106a",
   "metadata": {},
   "source": [
    "#### 1.Lasso Regression\n",
    "- The Lasso is a linear model that estimates sparse coefficients. It is useful in some contexts due to its tendency to prefer solutions with fewer non-zero coefficients, effectively reducing the number of features upon which the given solution is dependent. For this reason, Lasso and its variants are fundamental to the field of compressed sensing. Under certain conditions, it can recover the exact set of non-zero coefficients (see Compressive sensing: tomography reconstruction with L1 prior (Lasso))."
   ]
  },
  {
   "cell_type": "code",
   "execution_count": 62,
   "id": "8c1c0e6b-625a-44bf-9e6c-3fed3bae0958",
   "metadata": {},
   "outputs": [
    {
     "data": {
      "text/html": [
       "<style>#sk-container-id-5 {color: black;background-color: white;}#sk-container-id-5 pre{padding: 0;}#sk-container-id-5 div.sk-toggleable {background-color: white;}#sk-container-id-5 label.sk-toggleable__label {cursor: pointer;display: block;width: 100%;margin-bottom: 0;padding: 0.3em;box-sizing: border-box;text-align: center;}#sk-container-id-5 label.sk-toggleable__label-arrow:before {content: \"▸\";float: left;margin-right: 0.25em;color: #696969;}#sk-container-id-5 label.sk-toggleable__label-arrow:hover:before {color: black;}#sk-container-id-5 div.sk-estimator:hover label.sk-toggleable__label-arrow:before {color: black;}#sk-container-id-5 div.sk-toggleable__content {max-height: 0;max-width: 0;overflow: hidden;text-align: left;background-color: #f0f8ff;}#sk-container-id-5 div.sk-toggleable__content pre {margin: 0.2em;color: black;border-radius: 0.25em;background-color: #f0f8ff;}#sk-container-id-5 input.sk-toggleable__control:checked~div.sk-toggleable__content {max-height: 200px;max-width: 100%;overflow: auto;}#sk-container-id-5 input.sk-toggleable__control:checked~label.sk-toggleable__label-arrow:before {content: \"▾\";}#sk-container-id-5 div.sk-estimator input.sk-toggleable__control:checked~label.sk-toggleable__label {background-color: #d4ebff;}#sk-container-id-5 div.sk-label input.sk-toggleable__control:checked~label.sk-toggleable__label {background-color: #d4ebff;}#sk-container-id-5 input.sk-hidden--visually {border: 0;clip: rect(1px 1px 1px 1px);clip: rect(1px, 1px, 1px, 1px);height: 1px;margin: -1px;overflow: hidden;padding: 0;position: absolute;width: 1px;}#sk-container-id-5 div.sk-estimator {font-family: monospace;background-color: #f0f8ff;border: 1px dotted black;border-radius: 0.25em;box-sizing: border-box;margin-bottom: 0.5em;}#sk-container-id-5 div.sk-estimator:hover {background-color: #d4ebff;}#sk-container-id-5 div.sk-parallel-item::after {content: \"\";width: 100%;border-bottom: 1px solid gray;flex-grow: 1;}#sk-container-id-5 div.sk-label:hover label.sk-toggleable__label {background-color: #d4ebff;}#sk-container-id-5 div.sk-serial::before {content: \"\";position: absolute;border-left: 1px solid gray;box-sizing: border-box;top: 0;bottom: 0;left: 50%;z-index: 0;}#sk-container-id-5 div.sk-serial {display: flex;flex-direction: column;align-items: center;background-color: white;padding-right: 0.2em;padding-left: 0.2em;position: relative;}#sk-container-id-5 div.sk-item {position: relative;z-index: 1;}#sk-container-id-5 div.sk-parallel {display: flex;align-items: stretch;justify-content: center;background-color: white;position: relative;}#sk-container-id-5 div.sk-item::before, #sk-container-id-5 div.sk-parallel-item::before {content: \"\";position: absolute;border-left: 1px solid gray;box-sizing: border-box;top: 0;bottom: 0;left: 50%;z-index: -1;}#sk-container-id-5 div.sk-parallel-item {display: flex;flex-direction: column;z-index: 1;position: relative;background-color: white;}#sk-container-id-5 div.sk-parallel-item:first-child::after {align-self: flex-end;width: 50%;}#sk-container-id-5 div.sk-parallel-item:last-child::after {align-self: flex-start;width: 50%;}#sk-container-id-5 div.sk-parallel-item:only-child::after {width: 0;}#sk-container-id-5 div.sk-dashed-wrapped {border: 1px dashed gray;margin: 0 0.4em 0.5em 0.4em;box-sizing: border-box;padding-bottom: 0.4em;background-color: white;}#sk-container-id-5 div.sk-label label {font-family: monospace;font-weight: bold;display: inline-block;line-height: 1.2em;}#sk-container-id-5 div.sk-label-container {text-align: center;}#sk-container-id-5 div.sk-container {/* jupyter's `normalize.less` sets `[hidden] { display: none; }` but bootstrap.min.css set `[hidden] { display: none !important; }` so we also need the `!important` here to be able to override the default hidden behavior on the sphinx rendered scikit-learn.org. See: https://github.com/scikit-learn/scikit-learn/issues/21755 */display: inline-block !important;position: relative;}#sk-container-id-5 div.sk-text-repr-fallback {display: none;}</style><div id=\"sk-container-id-5\" class=\"sk-top-container\"><div class=\"sk-text-repr-fallback\"><pre>Lasso(alpha=0.01)</pre><b>In a Jupyter environment, please rerun this cell to show the HTML representation or trust the notebook. <br />On GitHub, the HTML representation is unable to render, please try loading this page with nbviewer.org.</b></div><div class=\"sk-container\" hidden><div class=\"sk-item\"><div class=\"sk-estimator sk-toggleable\"><input class=\"sk-toggleable__control sk-hidden--visually\" id=\"sk-estimator-id-5\" type=\"checkbox\" checked><label for=\"sk-estimator-id-5\" class=\"sk-toggleable__label sk-toggleable__label-arrow\">Lasso</label><div class=\"sk-toggleable__content\"><pre>Lasso(alpha=0.01)</pre></div></div></div></div></div>"
      ],
      "text/plain": [
       "Lasso(alpha=0.01)"
      ]
     },
     "execution_count": 62,
     "metadata": {},
     "output_type": "execute_result"
    }
   ],
   "source": [
    "from sklearn import linear_model\n",
    "model_1 = linear_model.Lasso(alpha=0.01)\n",
    "model_1.fit(X_train,y_train)"
   ]
  },
  {
   "cell_type": "code",
   "execution_count": 63,
   "id": "704d497f-ac81-425b-bc1e-c7244c5d1794",
   "metadata": {},
   "outputs": [
    {
     "name": "stdout",
     "output_type": "stream",
     "text": [
      "Training score: 0.5989265859163799\n",
      "Validation score: 0.09326674589000694\n"
     ]
    }
   ],
   "source": [
    "train_score1 = model_1.score(X_train,y_train)\n",
    "val_score1 = model_1.score(X_valid , y_valid)\n",
    "print(\"Training score:\" , train_score1)\n",
    "print(\"Validation score:\" , val_score1)"
   ]
  },
  {
   "cell_type": "code",
   "execution_count": 64,
   "id": "0d95a5b2-6597-4a0f-bd4b-281056f452b3",
   "metadata": {},
   "outputs": [
    {
     "name": "stderr",
     "output_type": "stream",
     "text": [
      "C:\\ProgramData\\anaconda3\\Lib\\site-packages\\sklearn\\base.py:432: UserWarning: X has feature names, but Lasso was fitted without feature names\n",
      "  warnings.warn(\n"
     ]
    }
   ],
   "source": [
    "y_pred_1 = model_1.predict(test_data)"
   ]
  },
  {
   "cell_type": "code",
   "execution_count": 55,
   "id": "434fdfd3-8f26-4692-931d-8fc1d3a14fbd",
   "metadata": {},
   "outputs": [
    {
     "data": {
      "text/html": [
       "<div>\n",
       "<style scoped>\n",
       "    .dataframe tbody tr th:only-of-type {\n",
       "        vertical-align: middle;\n",
       "    }\n",
       "\n",
       "    .dataframe tbody tr th {\n",
       "        vertical-align: top;\n",
       "    }\n",
       "\n",
       "    .dataframe thead th {\n",
       "        text-align: right;\n",
       "    }\n",
       "</style>\n",
       "<table border=\"1\" class=\"dataframe\">\n",
       "  <thead>\n",
       "    <tr style=\"text-align: right;\">\n",
       "      <th></th>\n",
       "      <th>id</th>\n",
       "      <th>Rings</th>\n",
       "    </tr>\n",
       "  </thead>\n",
       "  <tbody>\n",
       "    <tr>\n",
       "      <th>0</th>\n",
       "      <td>90615</td>\n",
       "      <td>10</td>\n",
       "    </tr>\n",
       "    <tr>\n",
       "      <th>1</th>\n",
       "      <td>90616</td>\n",
       "      <td>10</td>\n",
       "    </tr>\n",
       "    <tr>\n",
       "      <th>2</th>\n",
       "      <td>90617</td>\n",
       "      <td>10</td>\n",
       "    </tr>\n",
       "    <tr>\n",
       "      <th>3</th>\n",
       "      <td>90618</td>\n",
       "      <td>10</td>\n",
       "    </tr>\n",
       "    <tr>\n",
       "      <th>4</th>\n",
       "      <td>90619</td>\n",
       "      <td>10</td>\n",
       "    </tr>\n",
       "  </tbody>\n",
       "</table>\n",
       "</div>"
      ],
      "text/plain": [
       "      id  Rings\n",
       "0  90615     10\n",
       "1  90616     10\n",
       "2  90617     10\n",
       "3  90618     10\n",
       "4  90619     10"
      ]
     },
     "execution_count": 55,
     "metadata": {},
     "output_type": "execute_result"
    }
   ],
   "source": [
    "submission.head()"
   ]
  },
  {
   "cell_type": "code",
   "execution_count": 65,
   "id": "1c7c7cf0-ec8b-4b5e-b0ad-6dbde13009e3",
   "metadata": {},
   "outputs": [
    {
     "name": "stdout",
     "output_type": "stream",
     "text": [
      "Root Mean Squared Log Error: 0.3044\n"
     ]
    }
   ],
   "source": [
    "from sklearn.metrics import mean_squared_log_error\n",
    "rmsle_1 = np.sqrt(mean_squared_log_error(y[:60411], np.maximum(y_pred_1, 0)))  # Taking maximum to avoid negative predictions\n",
    "\n",
    "print(f\"Root Mean Squared Log Error: {rmsle_1:.4f}\")"
   ]
  },
  {
   "cell_type": "code",
   "execution_count": 66,
   "id": "d4c2a2e9-b30c-42d6-a3ad-736db0d9356b",
   "metadata": {},
   "outputs": [
    {
     "data": {
      "text/plain": [
       "array([10.15682053, 10.29882707, 10.41149183, ..., 10.61451666,\n",
       "       10.89341671, 10.16129586])"
      ]
     },
     "execution_count": 66,
     "metadata": {},
     "output_type": "execute_result"
    }
   ],
   "source": [
    "y_pred_1"
   ]
  },
  {
   "cell_type": "markdown",
   "id": "fafc45bd-b144-44f3-8e71-d0439cd064f8",
   "metadata": {},
   "source": [
    "### Submission data to save"
   ]
  },
  {
   "cell_type": "code",
   "execution_count": 67,
   "id": "4df1ed8a-9b86-4e4d-a125-3a4a66aab7f6",
   "metadata": {},
   "outputs": [],
   "source": [
    "lasso = pd.DataFrame({'id': submission.id, 'Rings': y_pred_1})\n",
    "lasso.to_csv('lasso.csv', index = False)"
   ]
  },
  {
   "cell_type": "code",
   "execution_count": 68,
   "id": "08990d89-ac7c-4cfd-8826-7bc8cf062cbe",
   "metadata": {},
   "outputs": [
    {
     "data": {
      "text/html": [
       "<div>\n",
       "<style scoped>\n",
       "    .dataframe tbody tr th:only-of-type {\n",
       "        vertical-align: middle;\n",
       "    }\n",
       "\n",
       "    .dataframe tbody tr th {\n",
       "        vertical-align: top;\n",
       "    }\n",
       "\n",
       "    .dataframe thead th {\n",
       "        text-align: right;\n",
       "    }\n",
       "</style>\n",
       "<table border=\"1\" class=\"dataframe\">\n",
       "  <thead>\n",
       "    <tr style=\"text-align: right;\">\n",
       "      <th></th>\n",
       "      <th>id</th>\n",
       "      <th>Rings</th>\n",
       "    </tr>\n",
       "  </thead>\n",
       "  <tbody>\n",
       "    <tr>\n",
       "      <th>0</th>\n",
       "      <td>90615</td>\n",
       "      <td>10.156821</td>\n",
       "    </tr>\n",
       "    <tr>\n",
       "      <th>1</th>\n",
       "      <td>90616</td>\n",
       "      <td>10.298827</td>\n",
       "    </tr>\n",
       "    <tr>\n",
       "      <th>2</th>\n",
       "      <td>90617</td>\n",
       "      <td>10.411492</td>\n",
       "    </tr>\n",
       "    <tr>\n",
       "      <th>3</th>\n",
       "      <td>90618</td>\n",
       "      <td>10.471027</td>\n",
       "    </tr>\n",
       "    <tr>\n",
       "      <th>4</th>\n",
       "      <td>90619</td>\n",
       "      <td>10.132370</td>\n",
       "    </tr>\n",
       "  </tbody>\n",
       "</table>\n",
       "</div>"
      ],
      "text/plain": [
       "      id      Rings\n",
       "0  90615  10.156821\n",
       "1  90616  10.298827\n",
       "2  90617  10.411492\n",
       "3  90618  10.471027\n",
       "4  90619  10.132370"
      ]
     },
     "execution_count": 68,
     "metadata": {},
     "output_type": "execute_result"
    }
   ],
   "source": [
    "lasso.head()"
   ]
  },
  {
   "cell_type": "markdown",
   "id": "4a9bddf1-cceb-43ff-8154-94817d1a3231",
   "metadata": {},
   "source": [
    "### 2. Linear Regression model"
   ]
  },
  {
   "cell_type": "code",
   "execution_count": 70,
   "id": "a0db458c-ac5d-48a0-b62c-356b2066445c",
   "metadata": {},
   "outputs": [
    {
     "name": "stdout",
     "output_type": "stream",
     "text": [
      "Root Mean Squared Log Error: 0.3214\n"
     ]
    },
    {
     "name": "stderr",
     "output_type": "stream",
     "text": [
      "C:\\ProgramData\\anaconda3\\Lib\\site-packages\\sklearn\\base.py:432: UserWarning: X has feature names, but LinearRegression was fitted without feature names\n",
      "  warnings.warn(\n"
     ]
    }
   ],
   "source": [
    "from sklearn.linear_model import LinearRegression\n",
    "\n",
    "# Create a linear regression model\n",
    "model_2 = LinearRegression()\n",
    "\n",
    "# Train the model\n",
    "model_2.fit(X_train, y_train)\n",
    "\n",
    "# Make predictions on the testing set\n",
    "y_pred_2 = model_2.predict(test_data)\n",
    "\n",
    "# Calculate RMSLE\n",
    "rmsle_2 = np.sqrt(mean_squared_log_error(y[:60411], np.maximum(y_pred_2, 0)))  # Taking maximum to avoid negative predictions\n",
    "\n",
    "print(f\"Root Mean Squared Log Error: {rmsle_2:.4f}\")"
   ]
  },
  {
   "cell_type": "code",
   "execution_count": 71,
   "id": "8149a848-95b4-49bc-b81f-13627f984aa1",
   "metadata": {},
   "outputs": [
    {
     "name": "stdout",
     "output_type": "stream",
     "text": [
      "Training score: 0.6006659695414169\n",
      "Validation score: 0.1007898872781392\n"
     ]
    }
   ],
   "source": [
    "train_score2 = model_2.score(X_train,y_train)\n",
    "val_score2 = model_2.score(X_valid , y_valid)\n",
    "print(\"Training score:\" , train_score2)\n",
    "print(\"Validation score:\" , val_score2)"
   ]
  },
  {
   "cell_type": "code",
   "execution_count": 72,
   "id": "1096964b-cf39-4d78-9476-c8f63aaf4c0e",
   "metadata": {},
   "outputs": [],
   "source": [
    "submit_2 = pd.DataFrame({'id': submission.id, 'Rings': y_pred_2})\n",
    "submit_2.to_csv('submit_2.csv', index = False)"
   ]
  },
  {
   "cell_type": "markdown",
   "id": "c7d0eb06-b4fd-40ae-b5cc-cf10d0585773",
   "metadata": {},
   "source": [
    "### 3. Ridge Regression"
   ]
  },
  {
   "cell_type": "code",
   "execution_count": 73,
   "id": "8dbd8012-674c-41e1-93ac-2695b12eb7c5",
   "metadata": {},
   "outputs": [
    {
     "data": {
      "text/html": [
       "<style>#sk-container-id-6 {color: black;background-color: white;}#sk-container-id-6 pre{padding: 0;}#sk-container-id-6 div.sk-toggleable {background-color: white;}#sk-container-id-6 label.sk-toggleable__label {cursor: pointer;display: block;width: 100%;margin-bottom: 0;padding: 0.3em;box-sizing: border-box;text-align: center;}#sk-container-id-6 label.sk-toggleable__label-arrow:before {content: \"▸\";float: left;margin-right: 0.25em;color: #696969;}#sk-container-id-6 label.sk-toggleable__label-arrow:hover:before {color: black;}#sk-container-id-6 div.sk-estimator:hover label.sk-toggleable__label-arrow:before {color: black;}#sk-container-id-6 div.sk-toggleable__content {max-height: 0;max-width: 0;overflow: hidden;text-align: left;background-color: #f0f8ff;}#sk-container-id-6 div.sk-toggleable__content pre {margin: 0.2em;color: black;border-radius: 0.25em;background-color: #f0f8ff;}#sk-container-id-6 input.sk-toggleable__control:checked~div.sk-toggleable__content {max-height: 200px;max-width: 100%;overflow: auto;}#sk-container-id-6 input.sk-toggleable__control:checked~label.sk-toggleable__label-arrow:before {content: \"▾\";}#sk-container-id-6 div.sk-estimator input.sk-toggleable__control:checked~label.sk-toggleable__label {background-color: #d4ebff;}#sk-container-id-6 div.sk-label input.sk-toggleable__control:checked~label.sk-toggleable__label {background-color: #d4ebff;}#sk-container-id-6 input.sk-hidden--visually {border: 0;clip: rect(1px 1px 1px 1px);clip: rect(1px, 1px, 1px, 1px);height: 1px;margin: -1px;overflow: hidden;padding: 0;position: absolute;width: 1px;}#sk-container-id-6 div.sk-estimator {font-family: monospace;background-color: #f0f8ff;border: 1px dotted black;border-radius: 0.25em;box-sizing: border-box;margin-bottom: 0.5em;}#sk-container-id-6 div.sk-estimator:hover {background-color: #d4ebff;}#sk-container-id-6 div.sk-parallel-item::after {content: \"\";width: 100%;border-bottom: 1px solid gray;flex-grow: 1;}#sk-container-id-6 div.sk-label:hover label.sk-toggleable__label {background-color: #d4ebff;}#sk-container-id-6 div.sk-serial::before {content: \"\";position: absolute;border-left: 1px solid gray;box-sizing: border-box;top: 0;bottom: 0;left: 50%;z-index: 0;}#sk-container-id-6 div.sk-serial {display: flex;flex-direction: column;align-items: center;background-color: white;padding-right: 0.2em;padding-left: 0.2em;position: relative;}#sk-container-id-6 div.sk-item {position: relative;z-index: 1;}#sk-container-id-6 div.sk-parallel {display: flex;align-items: stretch;justify-content: center;background-color: white;position: relative;}#sk-container-id-6 div.sk-item::before, #sk-container-id-6 div.sk-parallel-item::before {content: \"\";position: absolute;border-left: 1px solid gray;box-sizing: border-box;top: 0;bottom: 0;left: 50%;z-index: -1;}#sk-container-id-6 div.sk-parallel-item {display: flex;flex-direction: column;z-index: 1;position: relative;background-color: white;}#sk-container-id-6 div.sk-parallel-item:first-child::after {align-self: flex-end;width: 50%;}#sk-container-id-6 div.sk-parallel-item:last-child::after {align-self: flex-start;width: 50%;}#sk-container-id-6 div.sk-parallel-item:only-child::after {width: 0;}#sk-container-id-6 div.sk-dashed-wrapped {border: 1px dashed gray;margin: 0 0.4em 0.5em 0.4em;box-sizing: border-box;padding-bottom: 0.4em;background-color: white;}#sk-container-id-6 div.sk-label label {font-family: monospace;font-weight: bold;display: inline-block;line-height: 1.2em;}#sk-container-id-6 div.sk-label-container {text-align: center;}#sk-container-id-6 div.sk-container {/* jupyter's `normalize.less` sets `[hidden] { display: none; }` but bootstrap.min.css set `[hidden] { display: none !important; }` so we also need the `!important` here to be able to override the default hidden behavior on the sphinx rendered scikit-learn.org. See: https://github.com/scikit-learn/scikit-learn/issues/21755 */display: inline-block !important;position: relative;}#sk-container-id-6 div.sk-text-repr-fallback {display: none;}</style><div id=\"sk-container-id-6\" class=\"sk-top-container\"><div class=\"sk-text-repr-fallback\"><pre>RidgeCV(alphas=array([1.e-06, 1.e-05, 1.e-04, 1.e-03, 1.e-02, 1.e-01, 1.e+00, 1.e+01,\n",
       "       1.e+02, 1.e+03, 1.e+04, 1.e+05, 1.e+06]))</pre><b>In a Jupyter environment, please rerun this cell to show the HTML representation or trust the notebook. <br />On GitHub, the HTML representation is unable to render, please try loading this page with nbviewer.org.</b></div><div class=\"sk-container\" hidden><div class=\"sk-item\"><div class=\"sk-estimator sk-toggleable\"><input class=\"sk-toggleable__control sk-hidden--visually\" id=\"sk-estimator-id-6\" type=\"checkbox\" checked><label for=\"sk-estimator-id-6\" class=\"sk-toggleable__label sk-toggleable__label-arrow\">RidgeCV</label><div class=\"sk-toggleable__content\"><pre>RidgeCV(alphas=array([1.e-06, 1.e-05, 1.e-04, 1.e-03, 1.e-02, 1.e-01, 1.e+00, 1.e+01,\n",
       "       1.e+02, 1.e+03, 1.e+04, 1.e+05, 1.e+06]))</pre></div></div></div></div></div>"
      ],
      "text/plain": [
       "RidgeCV(alphas=array([1.e-06, 1.e-05, 1.e-04, 1.e-03, 1.e-02, 1.e-01, 1.e+00, 1.e+01,\n",
       "       1.e+02, 1.e+03, 1.e+04, 1.e+05, 1.e+06]))"
      ]
     },
     "execution_count": 73,
     "metadata": {},
     "output_type": "execute_result"
    }
   ],
   "source": [
    "model_3 = linear_model.RidgeCV(alphas=np.logspace(-6, 6, 13))\n",
    "model_3.fit(X_train,y_train)"
   ]
  },
  {
   "cell_type": "code",
   "execution_count": 74,
   "id": "923105be-a7cf-4828-a189-297ce74d7a8f",
   "metadata": {},
   "outputs": [
    {
     "name": "stderr",
     "output_type": "stream",
     "text": [
      "C:\\ProgramData\\anaconda3\\Lib\\site-packages\\sklearn\\base.py:432: UserWarning: X has feature names, but RidgeCV was fitted without feature names\n",
      "  warnings.warn(\n"
     ]
    }
   ],
   "source": [
    "y_pred_3 = model_3.predict(test_data)"
   ]
  },
  {
   "cell_type": "code",
   "execution_count": 75,
   "id": "644f7609-3aeb-43cd-9a05-f1e6e9d3cfcf",
   "metadata": {},
   "outputs": [
    {
     "name": "stdout",
     "output_type": "stream",
     "text": [
      "Root Mean Squared Log Error: 0.3214\n"
     ]
    }
   ],
   "source": [
    "rmsle_3 = np.sqrt(mean_squared_log_error(y[:60411], np.maximum(y_pred_3, 0)))  # Taking maximum to avoid negative predictions\n",
    "\n",
    "print(f\"Root Mean Squared Log Error: {rmsle_3:.4f}\")"
   ]
  },
  {
   "cell_type": "code",
   "execution_count": 76,
   "id": "b7182223-5ffa-43c5-904e-152cdbb79c8d",
   "metadata": {},
   "outputs": [
    {
     "name": "stdout",
     "output_type": "stream",
     "text": [
      "Training score: 0.6006659537976673\n",
      "Validation score: 0.10083084605140469\n"
     ]
    }
   ],
   "source": [
    "train_score3 = model_3.score(X_train,y_train)\n",
    "val_score3 = model_3.score(X_valid , y_valid)\n",
    "print(\"Training score:\" , train_score3)\n",
    "print(\"Validation score:\" , val_score3)"
   ]
  },
  {
   "cell_type": "code",
   "execution_count": 77,
   "id": "6f154f58-bd1c-4a6c-9616-4edd723ac15e",
   "metadata": {},
   "outputs": [],
   "source": [
    "submit_3 = pd.DataFrame({'id': submission.id, 'Rings': y_pred_1})\n",
    "submit_3.to_csv('submit_3.csv', index = False)"
   ]
  },
  {
   "cell_type": "markdown",
   "id": "f0499b09-ebf6-4522-a86e-a13c4f5e148f",
   "metadata": {},
   "source": [
    "#### 4. Ridge Regression"
   ]
  },
  {
   "cell_type": "markdown",
   "id": "5742665c-b9c9-40c2-8658-591bae511cdd",
   "metadata": {},
   "source": [
    "- Ridge regression addresses some of the problems of Ordinary Least Squares by imposing a penalty on the size of the coefficients. The ridge coefficients minimize a penalized residual sum of squares."
   ]
  },
  {
   "cell_type": "code",
   "execution_count": 91,
   "id": "72bd29f5-b685-4f69-9815-a902008cf36f",
   "metadata": {},
   "outputs": [
    {
     "data": {
      "text/html": [
       "<style>#sk-container-id-10 {color: black;background-color: white;}#sk-container-id-10 pre{padding: 0;}#sk-container-id-10 div.sk-toggleable {background-color: white;}#sk-container-id-10 label.sk-toggleable__label {cursor: pointer;display: block;width: 100%;margin-bottom: 0;padding: 0.3em;box-sizing: border-box;text-align: center;}#sk-container-id-10 label.sk-toggleable__label-arrow:before {content: \"▸\";float: left;margin-right: 0.25em;color: #696969;}#sk-container-id-10 label.sk-toggleable__label-arrow:hover:before {color: black;}#sk-container-id-10 div.sk-estimator:hover label.sk-toggleable__label-arrow:before {color: black;}#sk-container-id-10 div.sk-toggleable__content {max-height: 0;max-width: 0;overflow: hidden;text-align: left;background-color: #f0f8ff;}#sk-container-id-10 div.sk-toggleable__content pre {margin: 0.2em;color: black;border-radius: 0.25em;background-color: #f0f8ff;}#sk-container-id-10 input.sk-toggleable__control:checked~div.sk-toggleable__content {max-height: 200px;max-width: 100%;overflow: auto;}#sk-container-id-10 input.sk-toggleable__control:checked~label.sk-toggleable__label-arrow:before {content: \"▾\";}#sk-container-id-10 div.sk-estimator input.sk-toggleable__control:checked~label.sk-toggleable__label {background-color: #d4ebff;}#sk-container-id-10 div.sk-label input.sk-toggleable__control:checked~label.sk-toggleable__label {background-color: #d4ebff;}#sk-container-id-10 input.sk-hidden--visually {border: 0;clip: rect(1px 1px 1px 1px);clip: rect(1px, 1px, 1px, 1px);height: 1px;margin: -1px;overflow: hidden;padding: 0;position: absolute;width: 1px;}#sk-container-id-10 div.sk-estimator {font-family: monospace;background-color: #f0f8ff;border: 1px dotted black;border-radius: 0.25em;box-sizing: border-box;margin-bottom: 0.5em;}#sk-container-id-10 div.sk-estimator:hover {background-color: #d4ebff;}#sk-container-id-10 div.sk-parallel-item::after {content: \"\";width: 100%;border-bottom: 1px solid gray;flex-grow: 1;}#sk-container-id-10 div.sk-label:hover label.sk-toggleable__label {background-color: #d4ebff;}#sk-container-id-10 div.sk-serial::before {content: \"\";position: absolute;border-left: 1px solid gray;box-sizing: border-box;top: 0;bottom: 0;left: 50%;z-index: 0;}#sk-container-id-10 div.sk-serial {display: flex;flex-direction: column;align-items: center;background-color: white;padding-right: 0.2em;padding-left: 0.2em;position: relative;}#sk-container-id-10 div.sk-item {position: relative;z-index: 1;}#sk-container-id-10 div.sk-parallel {display: flex;align-items: stretch;justify-content: center;background-color: white;position: relative;}#sk-container-id-10 div.sk-item::before, #sk-container-id-10 div.sk-parallel-item::before {content: \"\";position: absolute;border-left: 1px solid gray;box-sizing: border-box;top: 0;bottom: 0;left: 50%;z-index: -1;}#sk-container-id-10 div.sk-parallel-item {display: flex;flex-direction: column;z-index: 1;position: relative;background-color: white;}#sk-container-id-10 div.sk-parallel-item:first-child::after {align-self: flex-end;width: 50%;}#sk-container-id-10 div.sk-parallel-item:last-child::after {align-self: flex-start;width: 50%;}#sk-container-id-10 div.sk-parallel-item:only-child::after {width: 0;}#sk-container-id-10 div.sk-dashed-wrapped {border: 1px dashed gray;margin: 0 0.4em 0.5em 0.4em;box-sizing: border-box;padding-bottom: 0.4em;background-color: white;}#sk-container-id-10 div.sk-label label {font-family: monospace;font-weight: bold;display: inline-block;line-height: 1.2em;}#sk-container-id-10 div.sk-label-container {text-align: center;}#sk-container-id-10 div.sk-container {/* jupyter's `normalize.less` sets `[hidden] { display: none; }` but bootstrap.min.css set `[hidden] { display: none !important; }` so we also need the `!important` here to be able to override the default hidden behavior on the sphinx rendered scikit-learn.org. See: https://github.com/scikit-learn/scikit-learn/issues/21755 */display: inline-block !important;position: relative;}#sk-container-id-10 div.sk-text-repr-fallback {display: none;}</style><div id=\"sk-container-id-10\" class=\"sk-top-container\"><div class=\"sk-text-repr-fallback\"><pre>Ridge(alpha=0.001)</pre><b>In a Jupyter environment, please rerun this cell to show the HTML representation or trust the notebook. <br />On GitHub, the HTML representation is unable to render, please try loading this page with nbviewer.org.</b></div><div class=\"sk-container\" hidden><div class=\"sk-item\"><div class=\"sk-estimator sk-toggleable\"><input class=\"sk-toggleable__control sk-hidden--visually\" id=\"sk-estimator-id-10\" type=\"checkbox\" checked><label for=\"sk-estimator-id-10\" class=\"sk-toggleable__label sk-toggleable__label-arrow\">Ridge</label><div class=\"sk-toggleable__content\"><pre>Ridge(alpha=0.001)</pre></div></div></div></div></div>"
      ],
      "text/plain": [
       "Ridge(alpha=0.001)"
      ]
     },
     "execution_count": 91,
     "metadata": {},
     "output_type": "execute_result"
    }
   ],
   "source": [
    "from sklearn import linear_model\n",
    "model_4= linear_model.Ridge(alpha=0.001)\n",
    "model_4.fit(X_train , y_train)"
   ]
  },
  {
   "cell_type": "code",
   "execution_count": 92,
   "id": "81e3d35b-39b5-414e-89b7-0bd19da20eb9",
   "metadata": {},
   "outputs": [
    {
     "name": "stderr",
     "output_type": "stream",
     "text": [
      "C:\\ProgramData\\anaconda3\\Lib\\site-packages\\sklearn\\base.py:432: UserWarning: X has feature names, but Ridge was fitted without feature names\n",
      "  warnings.warn(\n"
     ]
    },
    {
     "data": {
      "text/plain": [
       "array([10.83203185, 10.85523655, 10.90061707, ..., 11.31701483,\n",
       "       11.75925372, 10.40318262])"
      ]
     },
     "execution_count": 92,
     "metadata": {},
     "output_type": "execute_result"
    }
   ],
   "source": [
    "y_pred_4 = model_4.predict(test_data)\n",
    "y_pred_4"
   ]
  },
  {
   "cell_type": "code",
   "execution_count": 93,
   "id": "2ca46711-3903-4820-b14c-df274700adbd",
   "metadata": {},
   "outputs": [
    {
     "name": "stdout",
     "output_type": "stream",
     "text": [
      "Root Mean Squared Log Error: 0.3214\n"
     ]
    }
   ],
   "source": [
    "rmsle_4 = np.sqrt(mean_squared_log_error(y[:60411], np.maximum(y_pred_4, 0)))  # Taking maximum to avoid negative predictions\n",
    "\n",
    "print(f\"Root Mean Squared Log Error: {rmsle_4:.4f}\")"
   ]
  },
  {
   "cell_type": "code",
   "execution_count": 94,
   "id": "c788cc78-4ca7-4483-b627-eb118928f9ef",
   "metadata": {},
   "outputs": [
    {
     "name": "stdout",
     "output_type": "stream",
     "text": [
      "Training score: 0.6006659695414012\n",
      "Validation score: 0.10078992849754687\n"
     ]
    }
   ],
   "source": [
    "train_score4 = model_4.score(X_train,y_train)\n",
    "val_score4 = model_4.score(X_valid , y_valid)\n",
    "print(\"Training score:\" , train_score4)\n",
    "print(\"Validation score:\" , val_score4)"
   ]
  },
  {
   "cell_type": "code",
   "execution_count": 95,
   "id": "f5c8167a-2f6e-4740-a82b-84902e40ce87",
   "metadata": {},
   "outputs": [],
   "source": [
    "submit_4 = pd.DataFrame({'id': submission.id, 'Rings': y_pred_1})\n",
    "submit_4.to_csv('submit_4.csv', index = False)"
   ]
  },
  {
   "cell_type": "markdown",
   "id": "9b53141a-09bf-4b01-b505-109391a6d477",
   "metadata": {},
   "source": [
    "### 5.Gradient Boosting Regressor"
   ]
  },
  {
   "cell_type": "code",
   "execution_count": 96,
   "id": "eabd0e43-4aa6-442f-ba92-bc6854f55d0b",
   "metadata": {},
   "outputs": [
    {
     "data": {
      "text/html": [
       "<style>#sk-container-id-11 {color: black;background-color: white;}#sk-container-id-11 pre{padding: 0;}#sk-container-id-11 div.sk-toggleable {background-color: white;}#sk-container-id-11 label.sk-toggleable__label {cursor: pointer;display: block;width: 100%;margin-bottom: 0;padding: 0.3em;box-sizing: border-box;text-align: center;}#sk-container-id-11 label.sk-toggleable__label-arrow:before {content: \"▸\";float: left;margin-right: 0.25em;color: #696969;}#sk-container-id-11 label.sk-toggleable__label-arrow:hover:before {color: black;}#sk-container-id-11 div.sk-estimator:hover label.sk-toggleable__label-arrow:before {color: black;}#sk-container-id-11 div.sk-toggleable__content {max-height: 0;max-width: 0;overflow: hidden;text-align: left;background-color: #f0f8ff;}#sk-container-id-11 div.sk-toggleable__content pre {margin: 0.2em;color: black;border-radius: 0.25em;background-color: #f0f8ff;}#sk-container-id-11 input.sk-toggleable__control:checked~div.sk-toggleable__content {max-height: 200px;max-width: 100%;overflow: auto;}#sk-container-id-11 input.sk-toggleable__control:checked~label.sk-toggleable__label-arrow:before {content: \"▾\";}#sk-container-id-11 div.sk-estimator input.sk-toggleable__control:checked~label.sk-toggleable__label {background-color: #d4ebff;}#sk-container-id-11 div.sk-label input.sk-toggleable__control:checked~label.sk-toggleable__label {background-color: #d4ebff;}#sk-container-id-11 input.sk-hidden--visually {border: 0;clip: rect(1px 1px 1px 1px);clip: rect(1px, 1px, 1px, 1px);height: 1px;margin: -1px;overflow: hidden;padding: 0;position: absolute;width: 1px;}#sk-container-id-11 div.sk-estimator {font-family: monospace;background-color: #f0f8ff;border: 1px dotted black;border-radius: 0.25em;box-sizing: border-box;margin-bottom: 0.5em;}#sk-container-id-11 div.sk-estimator:hover {background-color: #d4ebff;}#sk-container-id-11 div.sk-parallel-item::after {content: \"\";width: 100%;border-bottom: 1px solid gray;flex-grow: 1;}#sk-container-id-11 div.sk-label:hover label.sk-toggleable__label {background-color: #d4ebff;}#sk-container-id-11 div.sk-serial::before {content: \"\";position: absolute;border-left: 1px solid gray;box-sizing: border-box;top: 0;bottom: 0;left: 50%;z-index: 0;}#sk-container-id-11 div.sk-serial {display: flex;flex-direction: column;align-items: center;background-color: white;padding-right: 0.2em;padding-left: 0.2em;position: relative;}#sk-container-id-11 div.sk-item {position: relative;z-index: 1;}#sk-container-id-11 div.sk-parallel {display: flex;align-items: stretch;justify-content: center;background-color: white;position: relative;}#sk-container-id-11 div.sk-item::before, #sk-container-id-11 div.sk-parallel-item::before {content: \"\";position: absolute;border-left: 1px solid gray;box-sizing: border-box;top: 0;bottom: 0;left: 50%;z-index: -1;}#sk-container-id-11 div.sk-parallel-item {display: flex;flex-direction: column;z-index: 1;position: relative;background-color: white;}#sk-container-id-11 div.sk-parallel-item:first-child::after {align-self: flex-end;width: 50%;}#sk-container-id-11 div.sk-parallel-item:last-child::after {align-self: flex-start;width: 50%;}#sk-container-id-11 div.sk-parallel-item:only-child::after {width: 0;}#sk-container-id-11 div.sk-dashed-wrapped {border: 1px dashed gray;margin: 0 0.4em 0.5em 0.4em;box-sizing: border-box;padding-bottom: 0.4em;background-color: white;}#sk-container-id-11 div.sk-label label {font-family: monospace;font-weight: bold;display: inline-block;line-height: 1.2em;}#sk-container-id-11 div.sk-label-container {text-align: center;}#sk-container-id-11 div.sk-container {/* jupyter's `normalize.less` sets `[hidden] { display: none; }` but bootstrap.min.css set `[hidden] { display: none !important; }` so we also need the `!important` here to be able to override the default hidden behavior on the sphinx rendered scikit-learn.org. See: https://github.com/scikit-learn/scikit-learn/issues/21755 */display: inline-block !important;position: relative;}#sk-container-id-11 div.sk-text-repr-fallback {display: none;}</style><div id=\"sk-container-id-11\" class=\"sk-top-container\"><div class=\"sk-text-repr-fallback\"><pre>GradientBoostingRegressor(alpha=0.09, learning_rate=0.01, max_depth=10,\n",
       "                          min_samples_split=5, n_estimators=1000)</pre><b>In a Jupyter environment, please rerun this cell to show the HTML representation or trust the notebook. <br />On GitHub, the HTML representation is unable to render, please try loading this page with nbviewer.org.</b></div><div class=\"sk-container\" hidden><div class=\"sk-item\"><div class=\"sk-estimator sk-toggleable\"><input class=\"sk-toggleable__control sk-hidden--visually\" id=\"sk-estimator-id-11\" type=\"checkbox\" checked><label for=\"sk-estimator-id-11\" class=\"sk-toggleable__label sk-toggleable__label-arrow\">GradientBoostingRegressor</label><div class=\"sk-toggleable__content\"><pre>GradientBoostingRegressor(alpha=0.09, learning_rate=0.01, max_depth=10,\n",
       "                          min_samples_split=5, n_estimators=1000)</pre></div></div></div></div></div>"
      ],
      "text/plain": [
       "GradientBoostingRegressor(alpha=0.09, learning_rate=0.01, max_depth=10,\n",
       "                          min_samples_split=5, n_estimators=1000)"
      ]
     },
     "execution_count": 96,
     "metadata": {},
     "output_type": "execute_result"
    }
   ],
   "source": [
    "from sklearn.ensemble import GradientBoostingRegressor\n",
    "model_5 = GradientBoostingRegressor(loss='squared_error', learning_rate=0.01, n_estimators=1000,\n",
    "                                    min_samples_split=5,max_depth=10,alpha=0.09)\n",
    "model_5.fit(X_train,y_train)\n",
    "\n"
   ]
  },
  {
   "cell_type": "code",
   "execution_count": 18,
   "id": "e7d1bdba-0c02-4236-a6d0-fe34b45645c7",
   "metadata": {},
   "outputs": [],
   "source": [
    "y_pred_5 = model_5.predict(test_data)"
   ]
  },
  {
   "cell_type": "code",
   "execution_count": 19,
   "id": "e442b853-7dd9-4510-a790-cc0c43560b68",
   "metadata": {},
   "outputs": [
    {
     "name": "stdout",
     "output_type": "stream",
     "text": [
      "Training score: 0.8411555898176964\n",
      "Validation score: 0.6581063759048695\n"
     ]
    }
   ],
   "source": [
    "train_score5 = model_5.score(X_train,y_train)\n",
    "val_score5 = model_5.score(X_valid , y_valid)\n",
    "print(\"Training score:\" , train_score5)\n",
    "print(\"Validation score:\" , val_score5)"
   ]
  },
  {
   "cell_type": "code",
   "execution_count": 20,
   "id": "814f329d-47b1-4063-9beb-b3b05978a0de",
   "metadata": {},
   "outputs": [],
   "source": [
    "Gradient_boost = pd.DataFrame({'id': submission.id, 'Rings': y_pred_5})\n",
    "Gradient_boost.to_csv('Gradient_boost.csv', index = False)"
   ]
  },
  {
   "cell_type": "code",
   "execution_count": 20,
   "id": "dbaea4bf-bbb8-4a8c-8699-51eb33f1bbde",
   "metadata": {},
   "outputs": [
    {
     "data": {
      "text/plain": [
       "(60411, 2)"
      ]
     },
     "execution_count": 20,
     "metadata": {},
     "output_type": "execute_result"
    }
   ],
   "source": [
    ".shape"
   ]
  },
  {
   "cell_type": "code",
   "execution_count": 36,
   "id": "2ca79512-080c-4233-826d-691599ebd0e6",
   "metadata": {},
   "outputs": [
    {
     "name": "stdout",
     "output_type": "stream",
     "text": [
      "Root Mean Squared Log Error: 0.3798\n"
     ]
    }
   ],
   "source": [
    "rmsle_5 = np.sqrt(mean_squared_log_error(y[:60411], np.maximum(y_pred_5, 0)))  # Taking maximum to avoid negative predictions\n",
    "\n",
    "print(f\"Root Mean Squared Log Error: {rmsle_5:.4f}\")"
   ]
  },
  {
   "cell_type": "markdown",
   "id": "2a1c20dd-7950-40cb-ba1b-b6a79ccdc304",
   "metadata": {},
   "source": [
    "#### 6. XGboost Regressor"
   ]
  },
  {
   "cell_type": "code",
   "execution_count": 25,
   "id": "e5a322ef-f4a7-49ee-8c44-e5c5bcd5f03f",
   "metadata": {},
   "outputs": [],
   "source": [
    "import xgboost as xgb\n",
    "\n",
    "\n",
    "# Initialize XGBoost regressor\n",
    "model_6 = xgb.XGBRegressor(objective='reg:squarederror', n_estimators=1000, learning_rate=0.01,max_depth = 7, eta=0.1, \n",
    "                           subsample=0.7, colsample_bytree=0.8)\n",
    "\n",
    "# Train the model\n",
    "model_6.fit(X_train, y_train)\n",
    "\n",
    "# Make predictions\n",
    "y_pred_6 = model_6.predict(test_data)"
   ]
  },
  {
   "cell_type": "code",
   "execution_count": 35,
   "id": "d5c8e665-a5a5-49a7-aa56-76e5a84e0c74",
   "metadata": {},
   "outputs": [
    {
     "name": "stdout",
     "output_type": "stream",
     "text": [
      "Training score: 0.7243829544678793\n",
      "Validation score: 0.6631722384763301\n"
     ]
    }
   ],
   "source": [
    "train_score6 = model_6.score(X_train,y_train)\n",
    "val_score6 = model_6.score(X_valid , y_valid)\n",
    "print(\"Training score:\" , train_score6)\n",
    "print(\"Validation score:\" , val_score6)"
   ]
  },
  {
   "cell_type": "code",
   "execution_count": 37,
   "id": "ec2cb8a3-33f6-4158-90e5-1c4ee79895ed",
   "metadata": {},
   "outputs": [
    {
     "name": "stdout",
     "output_type": "stream",
     "text": [
      "Root Mean Squared Log Error: 0.3774\n"
     ]
    }
   ],
   "source": [
    "rmsle_6 = np.sqrt(mean_squared_log_error(y[:60411], np.maximum(y_pred_6, 0)))  # Taking maximum to avoid negative predictions\n",
    "\n",
    "print(f\"Root Mean Squared Log Error: {rmsle_6:.4f}\")"
   ]
  },
  {
   "cell_type": "code",
   "execution_count": 26,
   "id": "91a6d117-cd68-4c31-bdae-a7aa29bfe650",
   "metadata": {},
   "outputs": [],
   "source": [
    "Xgboost = pd.DataFrame({'id': submission.id, 'Rings': y_pred_6})\n",
    "Xgboost.to_csv('Xgboost.csv', index = False)"
   ]
  },
  {
   "cell_type": "code",
   "execution_count": 27,
   "id": "c1769882-9c92-4338-8c5f-46d0f6a8df99",
   "metadata": {},
   "outputs": [
    {
     "data": {
      "text/html": [
       "<div>\n",
       "<style scoped>\n",
       "    .dataframe tbody tr th:only-of-type {\n",
       "        vertical-align: middle;\n",
       "    }\n",
       "\n",
       "    .dataframe tbody tr th {\n",
       "        vertical-align: top;\n",
       "    }\n",
       "\n",
       "    .dataframe thead th {\n",
       "        text-align: right;\n",
       "    }\n",
       "</style>\n",
       "<table border=\"1\" class=\"dataframe\">\n",
       "  <thead>\n",
       "    <tr style=\"text-align: right;\">\n",
       "      <th></th>\n",
       "      <th>id</th>\n",
       "      <th>Rings</th>\n",
       "    </tr>\n",
       "  </thead>\n",
       "  <tbody>\n",
       "    <tr>\n",
       "      <th>0</th>\n",
       "      <td>90615</td>\n",
       "      <td>9.890112</td>\n",
       "    </tr>\n",
       "    <tr>\n",
       "      <th>1</th>\n",
       "      <td>90616</td>\n",
       "      <td>9.725107</td>\n",
       "    </tr>\n",
       "    <tr>\n",
       "      <th>2</th>\n",
       "      <td>90617</td>\n",
       "      <td>10.152843</td>\n",
       "    </tr>\n",
       "    <tr>\n",
       "      <th>3</th>\n",
       "      <td>90618</td>\n",
       "      <td>10.317695</td>\n",
       "    </tr>\n",
       "    <tr>\n",
       "      <th>4</th>\n",
       "      <td>90619</td>\n",
       "      <td>7.588178</td>\n",
       "    </tr>\n",
       "  </tbody>\n",
       "</table>\n",
       "</div>"
      ],
      "text/plain": [
       "      id      Rings\n",
       "0  90615   9.890112\n",
       "1  90616   9.725107\n",
       "2  90617  10.152843\n",
       "3  90618  10.317695\n",
       "4  90619   7.588178"
      ]
     },
     "execution_count": 27,
     "metadata": {},
     "output_type": "execute_result"
    }
   ],
   "source": [
    "Xgboost.head()"
   ]
  },
  {
   "cell_type": "code",
   "execution_count": 32,
   "id": "6cdc4683-7a07-4aaf-aca1-9dd2231a79e2",
   "metadata": {},
   "outputs": [],
   "source": [
    "from sklearn.model_selection import cross_val_score\n",
    "scores = cross_val_score(model_6, X_train, y_train, cv=5)"
   ]
  },
  {
   "cell_type": "code",
   "execution_count": 33,
   "id": "9bdc0748-80fa-4f18-afb1-b4c5471b330d",
   "metadata": {},
   "outputs": [
    {
     "data": {
      "text/plain": [
       "array([0.6585794 , 0.66620362, 0.65916533, 0.66987981, 0.66545502])"
      ]
     },
     "execution_count": 33,
     "metadata": {},
     "output_type": "execute_result"
    }
   ],
   "source": [
    "scores"
   ]
  },
  {
   "cell_type": "markdown",
   "id": "db03f0e7-b121-4ccc-a354-bd55143d515f",
   "metadata": {},
   "source": [
    "#### 7. LightGBM"
   ]
  },
  {
   "cell_type": "code",
   "execution_count": 10,
   "id": "4931eecb-afa0-41b5-96c1-1ad84c47a657",
   "metadata": {},
   "outputs": [
    {
     "name": "stdout",
     "output_type": "stream",
     "text": [
      "Requirement already satisfied: lightgbm in c:\\programdata\\anaconda3\\lib\\site-packages (4.3.0)\n",
      "Requirement already satisfied: numpy in c:\\programdata\\anaconda3\\lib\\site-packages (from lightgbm) (1.26.4)\n",
      "Requirement already satisfied: scipy in c:\\programdata\\anaconda3\\lib\\site-packages (from lightgbm) (1.11.4)\n"
     ]
    }
   ],
   "source": [
    "!pip install lightgbm"
   ]
  },
  {
   "cell_type": "code",
   "execution_count": 28,
   "id": "73aefdf9-14a7-4a83-b191-6b5cfc5fe4fc",
   "metadata": {},
   "outputs": [
    {
     "name": "stdout",
     "output_type": "stream",
     "text": [
      "[LightGBM] [Warning] Found whitespace in feature_names, replace with underlines\n",
      "[LightGBM] [Info] Auto-choosing row-wise multi-threading, the overhead of testing was 0.001577 seconds.\n",
      "You can set `force_row_wise=true` to remove the overhead.\n",
      "And if memory is not enough, you can set `force_col_wise=true`.\n",
      "[LightGBM] [Info] Total Bins 1329\n",
      "[LightGBM] [Info] Number of data points in the train set: 60712, number of used features: 8\n",
      "[LightGBM] [Warning] Found whitespace in feature_names, replace with underlines\n",
      "[LightGBM] [Info] Start training from score 9.708064\n"
     ]
    }
   ],
   "source": [
    "import lightgbm as lgbm\n",
    "model_7 =  lgbm.LGBMRegressor(boosting_type='gbdt', num_leaves=31, max_depth=-1, learning_rate=0.01,\n",
    "                              n_estimators=1000)\n",
    "model_7.fit(X_train, y_train,eval_set = (X_valid , y_valid),eval_metric = 'l2')\n",
    "y_pred_7 = model_7.predict(test_data)\n"
   ]
  },
  {
   "cell_type": "code",
   "execution_count": 29,
   "id": "04fc192b-d6b6-4f9a-a105-cb09c27db4ec",
   "metadata": {},
   "outputs": [
    {
     "name": "stdout",
     "output_type": "stream",
     "text": [
      "Training score: 0.6938602253653425\n",
      "Validation score: 0.6593409486195073\n"
     ]
    }
   ],
   "source": [
    "train_score7 = model_7.score(X_train,y_train)\n",
    "val_score7 = model_7.score(X_valid , y_valid)\n",
    "print(\"Training score:\" , train_score7)\n",
    "print(\"Validation score:\" , val_score7)"
   ]
  },
  {
   "cell_type": "code",
   "execution_count": 30,
   "id": "c744c53f-2b95-4529-9747-43fc41089b98",
   "metadata": {},
   "outputs": [],
   "source": [
    "lightgb = pd.DataFrame({'id': submission.id, 'Rings': y_pred_7})\n",
    "lightgb.to_csv('lightgb.csv', index = False)"
   ]
  },
  {
   "cell_type": "code",
   "execution_count": 31,
   "id": "234c2091-51d9-41b1-956e-405155eaa2d7",
   "metadata": {},
   "outputs": [
    {
     "data": {
      "text/html": [
       "<div>\n",
       "<style scoped>\n",
       "    .dataframe tbody tr th:only-of-type {\n",
       "        vertical-align: middle;\n",
       "    }\n",
       "\n",
       "    .dataframe tbody tr th {\n",
       "        vertical-align: top;\n",
       "    }\n",
       "\n",
       "    .dataframe thead th {\n",
       "        text-align: right;\n",
       "    }\n",
       "</style>\n",
       "<table border=\"1\" class=\"dataframe\">\n",
       "  <thead>\n",
       "    <tr style=\"text-align: right;\">\n",
       "      <th></th>\n",
       "      <th>id</th>\n",
       "      <th>Rings</th>\n",
       "    </tr>\n",
       "  </thead>\n",
       "  <tbody>\n",
       "    <tr>\n",
       "      <th>0</th>\n",
       "      <td>90615</td>\n",
       "      <td>9.849242</td>\n",
       "    </tr>\n",
       "    <tr>\n",
       "      <th>1</th>\n",
       "      <td>90616</td>\n",
       "      <td>9.687024</td>\n",
       "    </tr>\n",
       "    <tr>\n",
       "      <th>2</th>\n",
       "      <td>90617</td>\n",
       "      <td>10.148168</td>\n",
       "    </tr>\n",
       "    <tr>\n",
       "      <th>3</th>\n",
       "      <td>90618</td>\n",
       "      <td>10.216908</td>\n",
       "    </tr>\n",
       "    <tr>\n",
       "      <th>4</th>\n",
       "      <td>90619</td>\n",
       "      <td>7.553012</td>\n",
       "    </tr>\n",
       "  </tbody>\n",
       "</table>\n",
       "</div>"
      ],
      "text/plain": [
       "      id      Rings\n",
       "0  90615   9.849242\n",
       "1  90616   9.687024\n",
       "2  90617  10.148168\n",
       "3  90618  10.216908\n",
       "4  90619   7.553012"
      ]
     },
     "execution_count": 31,
     "metadata": {},
     "output_type": "execute_result"
    }
   ],
   "source": [
    "lightgb.head()"
   ]
  },
  {
   "cell_type": "markdown",
   "id": "37f0386a-fd0c-45dc-8e90-7ed07c719f8e",
   "metadata": {},
   "source": [
    "### 8. Catboost Regressor"
   ]
  },
  {
   "cell_type": "code",
   "execution_count": 98,
   "id": "ebc54cdb-1462-4308-b6b2-c5103a453dbd",
   "metadata": {},
   "outputs": [
    {
     "name": "stdout",
     "output_type": "stream",
     "text": [
      "Collecting catboost\n",
      "  Downloading catboost-1.2.3-cp311-cp311-win_amd64.whl.metadata (1.2 kB)\n",
      "Collecting graphviz (from catboost)\n",
      "  Downloading graphviz-0.20.3-py3-none-any.whl.metadata (12 kB)\n",
      "Requirement already satisfied: matplotlib in c:\\programdata\\anaconda3\\lib\\site-packages (from catboost) (3.8.0)\n",
      "Requirement already satisfied: numpy>=1.16.0 in c:\\programdata\\anaconda3\\lib\\site-packages (from catboost) (1.26.4)\n",
      "Requirement already satisfied: pandas>=0.24 in c:\\programdata\\anaconda3\\lib\\site-packages (from catboost) (2.1.4)\n",
      "Requirement already satisfied: scipy in c:\\programdata\\anaconda3\\lib\\site-packages (from catboost) (1.11.4)\n",
      "Requirement already satisfied: plotly in c:\\programdata\\anaconda3\\lib\\site-packages (from catboost) (5.9.0)\n",
      "Requirement already satisfied: six in c:\\programdata\\anaconda3\\lib\\site-packages (from catboost) (1.16.0)\n",
      "Requirement already satisfied: python-dateutil>=2.8.2 in c:\\programdata\\anaconda3\\lib\\site-packages (from pandas>=0.24->catboost) (2.8.2)\n",
      "Requirement already satisfied: pytz>=2020.1 in c:\\programdata\\anaconda3\\lib\\site-packages (from pandas>=0.24->catboost) (2023.3.post1)\n",
      "Requirement already satisfied: tzdata>=2022.1 in c:\\programdata\\anaconda3\\lib\\site-packages (from pandas>=0.24->catboost) (2023.3)\n",
      "Requirement already satisfied: contourpy>=1.0.1 in c:\\programdata\\anaconda3\\lib\\site-packages (from matplotlib->catboost) (1.2.0)\n",
      "Requirement already satisfied: cycler>=0.10 in c:\\programdata\\anaconda3\\lib\\site-packages (from matplotlib->catboost) (0.11.0)\n",
      "Requirement already satisfied: fonttools>=4.22.0 in c:\\programdata\\anaconda3\\lib\\site-packages (from matplotlib->catboost) (4.25.0)\n",
      "Requirement already satisfied: kiwisolver>=1.0.1 in c:\\programdata\\anaconda3\\lib\\site-packages (from matplotlib->catboost) (1.4.4)\n",
      "Requirement already satisfied: packaging>=20.0 in c:\\programdata\\anaconda3\\lib\\site-packages (from matplotlib->catboost) (23.1)\n",
      "Requirement already satisfied: pillow>=6.2.0 in c:\\programdata\\anaconda3\\lib\\site-packages (from matplotlib->catboost) (10.2.0)\n",
      "Requirement already satisfied: pyparsing>=2.3.1 in c:\\programdata\\anaconda3\\lib\\site-packages (from matplotlib->catboost) (3.0.9)\n",
      "Requirement already satisfied: tenacity>=6.2.0 in c:\\programdata\\anaconda3\\lib\\site-packages (from plotly->catboost) (8.2.2)\n",
      "Downloading catboost-1.2.3-cp311-cp311-win_amd64.whl (101.1 MB)\n",
      "   ---------------------------------------- 0.0/101.1 MB ? eta -:--:--\n",
      "   ---------------------------------------- 0.0/101.1 MB 1.9 MB/s eta 0:00:53\n",
      "   ---------------------------------------- 0.1/101.1 MB 1.3 MB/s eta 0:01:18\n",
      "   ---------------------------------------- 0.2/101.1 MB 1.6 MB/s eta 0:01:02\n",
      "   ---------------------------------------- 0.3/101.1 MB 1.5 MB/s eta 0:01:06\n",
      "   ---------------------------------------- 0.3/101.1 MB 1.5 MB/s eta 0:01:08\n",
      "   ---------------------------------------- 0.5/101.1 MB 1.9 MB/s eta 0:00:53\n",
      "   ---------------------------------------- 0.7/101.1 MB 2.4 MB/s eta 0:00:43\n",
      "   ---------------------------------------- 1.0/101.1 MB 3.2 MB/s eta 0:00:32\n",
      "    --------------------------------------- 1.5/101.1 MB 4.0 MB/s eta 0:00:25\n",
      "    --------------------------------------- 2.2/101.1 MB 5.2 MB/s eta 0:00:20\n",
      "    --------------------------------------- 2.3/101.1 MB 4.8 MB/s eta 0:00:21\n",
      "    --------------------------------------- 2.3/101.1 MB 4.8 MB/s eta 0:00:21\n",
      "    --------------------------------------- 2.3/101.1 MB 4.8 MB/s eta 0:00:21\n",
      "   - -------------------------------------- 2.8/101.1 MB 4.9 MB/s eta 0:00:21\n",
      "   - -------------------------------------- 3.1/101.1 MB 5.0 MB/s eta 0:00:20\n",
      "   - -------------------------------------- 3.2/101.1 MB 4.8 MB/s eta 0:00:21\n",
      "   - -------------------------------------- 3.2/101.1 MB 4.8 MB/s eta 0:00:21\n",
      "   - -------------------------------------- 4.0/101.1 MB 5.4 MB/s eta 0:00:18\n",
      "   - -------------------------------------- 4.5/101.1 MB 5.6 MB/s eta 0:00:18\n",
      "   - -------------------------------------- 4.8/101.1 MB 5.7 MB/s eta 0:00:17\n",
      "   - -------------------------------------- 4.9/101.1 MB 5.6 MB/s eta 0:00:18\n",
      "   - -------------------------------------- 4.9/101.1 MB 5.6 MB/s eta 0:00:18\n",
      "   -- ------------------------------------- 5.6/101.1 MB 5.7 MB/s eta 0:00:17\n",
      "   -- ------------------------------------- 5.8/101.1 MB 5.8 MB/s eta 0:00:17\n",
      "   -- ------------------------------------- 5.8/101.1 MB 5.8 MB/s eta 0:00:17\n",
      "   -- ------------------------------------- 6.4/101.1 MB 5.9 MB/s eta 0:00:16\n",
      "   -- ------------------------------------- 6.4/101.1 MB 5.9 MB/s eta 0:00:16\n",
      "   -- ------------------------------------- 6.7/101.1 MB 5.7 MB/s eta 0:00:17\n",
      "   -- ------------------------------------- 6.7/101.1 MB 5.7 MB/s eta 0:00:17\n",
      "   -- ------------------------------------- 7.2/101.1 MB 5.8 MB/s eta 0:00:17\n",
      "   -- ------------------------------------- 7.5/101.1 MB 5.8 MB/s eta 0:00:17\n",
      "   --- ------------------------------------ 7.9/101.1 MB 6.0 MB/s eta 0:00:16\n",
      "   --- ------------------------------------ 8.0/101.1 MB 5.9 MB/s eta 0:00:16\n",
      "   --- ------------------------------------ 8.0/101.1 MB 5.9 MB/s eta 0:00:16\n",
      "   --- ------------------------------------ 8.4/101.1 MB 5.8 MB/s eta 0:00:17\n",
      "   --- ------------------------------------ 8.6/101.1 MB 5.8 MB/s eta 0:00:17\n",
      "   --- ------------------------------------ 8.7/101.1 MB 5.6 MB/s eta 0:00:17\n",
      "   --- ------------------------------------ 8.9/101.1 MB 5.6 MB/s eta 0:00:17\n",
      "   --- ------------------------------------ 9.0/101.1 MB 5.6 MB/s eta 0:00:17\n",
      "   --- ------------------------------------ 9.2/101.1 MB 5.5 MB/s eta 0:00:17\n",
      "   --- ------------------------------------ 9.3/101.1 MB 5.5 MB/s eta 0:00:17\n",
      "   --- ------------------------------------ 9.5/101.1 MB 5.4 MB/s eta 0:00:17\n",
      "   --- ------------------------------------ 9.6/101.1 MB 5.4 MB/s eta 0:00:17\n",
      "   --- ------------------------------------ 9.8/101.1 MB 5.3 MB/s eta 0:00:18\n",
      "   --- ------------------------------------ 9.9/101.1 MB 5.3 MB/s eta 0:00:18\n",
      "   ---- ----------------------------------- 10.1/101.1 MB 5.3 MB/s eta 0:00:18\n",
      "   ---- ----------------------------------- 10.3/101.1 MB 5.3 MB/s eta 0:00:18\n",
      "   ---- ----------------------------------- 10.4/101.1 MB 5.5 MB/s eta 0:00:17\n",
      "   ---- ----------------------------------- 10.6/101.1 MB 5.6 MB/s eta 0:00:17\n",
      "   ---- ----------------------------------- 10.7/101.1 MB 5.7 MB/s eta 0:00:16\n",
      "   ---- ----------------------------------- 10.9/101.1 MB 5.6 MB/s eta 0:00:16\n",
      "   ---- ----------------------------------- 11.1/101.1 MB 5.6 MB/s eta 0:00:17\n",
      "   ---- ----------------------------------- 11.2/101.1 MB 5.5 MB/s eta 0:00:17\n",
      "   ---- ----------------------------------- 11.4/101.1 MB 5.4 MB/s eta 0:00:17\n",
      "   ---- ----------------------------------- 11.6/101.1 MB 5.4 MB/s eta 0:00:17\n",
      "   ---- ----------------------------------- 11.7/101.1 MB 5.3 MB/s eta 0:00:17\n",
      "   ---- ----------------------------------- 11.9/101.1 MB 5.2 MB/s eta 0:00:18\n",
      "   ---- ----------------------------------- 12.0/101.1 MB 5.2 MB/s eta 0:00:18\n",
      "   ---- ----------------------------------- 12.2/101.1 MB 5.1 MB/s eta 0:00:18\n",
      "   ---- ----------------------------------- 12.4/101.1 MB 5.1 MB/s eta 0:00:18\n",
      "   ---- ----------------------------------- 12.6/101.1 MB 5.2 MB/s eta 0:00:17\n",
      "   ----- ---------------------------------- 12.8/101.1 MB 5.1 MB/s eta 0:00:18\n",
      "   ----- ---------------------------------- 13.0/101.1 MB 5.0 MB/s eta 0:00:18\n",
      "   ----- ---------------------------------- 13.2/101.1 MB 5.0 MB/s eta 0:00:18\n",
      "   ----- ---------------------------------- 13.4/101.1 MB 5.0 MB/s eta 0:00:18\n",
      "   ----- ---------------------------------- 13.5/101.1 MB 5.0 MB/s eta 0:00:18\n",
      "   ----- ---------------------------------- 13.7/101.1 MB 4.9 MB/s eta 0:00:18\n",
      "   ----- ---------------------------------- 13.9/101.1 MB 4.9 MB/s eta 0:00:18\n",
      "   ----- ---------------------------------- 14.0/101.1 MB 4.7 MB/s eta 0:00:19\n",
      "   ----- ---------------------------------- 14.3/101.1 MB 4.8 MB/s eta 0:00:19\n",
      "   ----- ---------------------------------- 14.4/101.1 MB 4.7 MB/s eta 0:00:19\n",
      "   ----- ---------------------------------- 14.6/101.1 MB 4.6 MB/s eta 0:00:19\n",
      "   ----- ---------------------------------- 14.8/101.1 MB 4.5 MB/s eta 0:00:19\n",
      "   ----- ---------------------------------- 14.9/101.1 MB 4.5 MB/s eta 0:00:20\n",
      "   ----- ---------------------------------- 15.1/101.1 MB 4.5 MB/s eta 0:00:20\n",
      "   ------ --------------------------------- 15.3/101.1 MB 4.6 MB/s eta 0:00:19\n",
      "   ------ --------------------------------- 15.5/101.1 MB 4.5 MB/s eta 0:00:19\n",
      "   ------ --------------------------------- 15.6/101.1 MB 4.4 MB/s eta 0:00:20\n",
      "   ------ --------------------------------- 15.8/101.1 MB 4.4 MB/s eta 0:00:20\n",
      "   ------ --------------------------------- 16.0/101.1 MB 4.4 MB/s eta 0:00:20\n",
      "   ------ --------------------------------- 16.1/101.1 MB 4.5 MB/s eta 0:00:20\n",
      "   ------ --------------------------------- 16.3/101.1 MB 4.4 MB/s eta 0:00:20\n",
      "   ------ --------------------------------- 16.5/101.1 MB 4.3 MB/s eta 0:00:20\n",
      "   ------ --------------------------------- 16.7/101.1 MB 4.3 MB/s eta 0:00:20\n",
      "   ------ --------------------------------- 16.9/101.1 MB 4.3 MB/s eta 0:00:20\n",
      "   ------ --------------------------------- 17.1/101.1 MB 4.4 MB/s eta 0:00:20\n",
      "   ------ --------------------------------- 17.3/101.1 MB 4.3 MB/s eta 0:00:20\n",
      "   ------ --------------------------------- 17.4/101.1 MB 4.2 MB/s eta 0:00:20\n",
      "   ------ --------------------------------- 17.6/101.1 MB 4.2 MB/s eta 0:00:20\n",
      "   ------- -------------------------------- 17.8/101.1 MB 4.2 MB/s eta 0:00:20\n",
      "   ------- -------------------------------- 18.0/101.1 MB 4.1 MB/s eta 0:00:21\n",
      "   ------- -------------------------------- 18.1/101.1 MB 4.1 MB/s eta 0:00:21\n",
      "   ------- -------------------------------- 18.3/101.1 MB 4.2 MB/s eta 0:00:20\n",
      "   ------- -------------------------------- 18.5/101.1 MB 4.1 MB/s eta 0:00:20\n",
      "   ------- -------------------------------- 18.7/101.1 MB 4.1 MB/s eta 0:00:20\n",
      "   ------- -------------------------------- 18.9/101.1 MB 4.1 MB/s eta 0:00:20\n",
      "   ------- -------------------------------- 19.0/101.1 MB 4.1 MB/s eta 0:00:20\n",
      "   ------- -------------------------------- 19.2/101.1 MB 4.1 MB/s eta 0:00:20\n",
      "   ------- -------------------------------- 19.4/101.1 MB 4.2 MB/s eta 0:00:20\n",
      "   ------- -------------------------------- 19.6/101.1 MB 4.2 MB/s eta 0:00:20\n",
      "   ------- -------------------------------- 19.8/101.1 MB 4.2 MB/s eta 0:00:20\n",
      "   ------- -------------------------------- 19.9/101.1 MB 4.2 MB/s eta 0:00:20\n",
      "   ------- -------------------------------- 20.1/101.1 MB 4.2 MB/s eta 0:00:20\n",
      "   -------- ------------------------------- 20.3/101.1 MB 4.2 MB/s eta 0:00:20\n",
      "   -------- ------------------------------- 20.5/101.1 MB 4.3 MB/s eta 0:00:19\n",
      "   -------- ------------------------------- 20.7/101.1 MB 4.3 MB/s eta 0:00:19\n",
      "   -------- ------------------------------- 20.8/101.1 MB 4.3 MB/s eta 0:00:19\n",
      "   -------- ------------------------------- 21.1/101.1 MB 4.3 MB/s eta 0:00:19\n",
      "   -------- ------------------------------- 21.2/101.1 MB 4.3 MB/s eta 0:00:19\n",
      "   -------- ------------------------------- 21.4/101.1 MB 4.3 MB/s eta 0:00:19\n",
      "   -------- ------------------------------- 21.6/101.1 MB 4.3 MB/s eta 0:00:19\n",
      "   -------- ------------------------------- 21.8/101.1 MB 4.3 MB/s eta 0:00:19\n",
      "   -------- ------------------------------- 22.0/101.1 MB 4.3 MB/s eta 0:00:19\n",
      "   -------- ------------------------------- 22.1/101.1 MB 4.3 MB/s eta 0:00:19\n",
      "   -------- ------------------------------- 22.3/101.1 MB 4.4 MB/s eta 0:00:19\n",
      "   -------- ------------------------------- 22.5/101.1 MB 4.3 MB/s eta 0:00:19\n",
      "   -------- ------------------------------- 22.7/101.1 MB 4.4 MB/s eta 0:00:18\n",
      "   --------- ------------------------------ 22.9/101.1 MB 4.3 MB/s eta 0:00:19\n",
      "   --------- ------------------------------ 23.1/101.1 MB 4.4 MB/s eta 0:00:18\n",
      "   --------- ------------------------------ 23.2/101.1 MB 4.4 MB/s eta 0:00:18\n",
      "   --------- ------------------------------ 23.4/101.1 MB 4.4 MB/s eta 0:00:18\n",
      "   --------- ------------------------------ 23.6/101.1 MB 4.4 MB/s eta 0:00:18\n",
      "   --------- ------------------------------ 23.8/101.1 MB 4.4 MB/s eta 0:00:18\n",
      "   --------- ------------------------------ 24.0/101.1 MB 4.4 MB/s eta 0:00:18\n",
      "   --------- ------------------------------ 24.1/101.1 MB 4.4 MB/s eta 0:00:18\n",
      "   --------- ------------------------------ 24.3/101.1 MB 4.4 MB/s eta 0:00:18\n",
      "   --------- ------------------------------ 24.5/101.1 MB 4.4 MB/s eta 0:00:18\n",
      "   --------- ------------------------------ 24.7/101.1 MB 4.4 MB/s eta 0:00:18\n",
      "   --------- ------------------------------ 24.9/101.1 MB 4.4 MB/s eta 0:00:18\n",
      "   --------- ------------------------------ 25.0/101.1 MB 4.4 MB/s eta 0:00:18\n",
      "   --------- ------------------------------ 25.2/101.1 MB 4.4 MB/s eta 0:00:18\n",
      "   ---------- ----------------------------- 25.4/101.1 MB 4.4 MB/s eta 0:00:18\n",
      "   ---------- ----------------------------- 25.6/101.1 MB 4.5 MB/s eta 0:00:17\n",
      "   ---------- ----------------------------- 25.8/101.1 MB 4.4 MB/s eta 0:00:18\n",
      "   ---------- ----------------------------- 26.0/101.1 MB 4.5 MB/s eta 0:00:17\n",
      "   ---------- ----------------------------- 26.2/101.1 MB 4.4 MB/s eta 0:00:17\n",
      "   ---------- ----------------------------- 26.3/101.1 MB 4.4 MB/s eta 0:00:17\n",
      "   ---------- ----------------------------- 26.5/101.1 MB 4.5 MB/s eta 0:00:17\n",
      "   ---------- ----------------------------- 26.7/101.1 MB 4.4 MB/s eta 0:00:17\n",
      "   ---------- ----------------------------- 26.9/101.1 MB 4.5 MB/s eta 0:00:17\n",
      "   ---------- ----------------------------- 27.1/101.1 MB 4.5 MB/s eta 0:00:17\n",
      "   ---------- ----------------------------- 27.3/101.1 MB 4.5 MB/s eta 0:00:17\n",
      "   ---------- ----------------------------- 27.5/101.1 MB 4.5 MB/s eta 0:00:17\n",
      "   ---------- ----------------------------- 27.6/101.1 MB 4.5 MB/s eta 0:00:17\n",
      "   ----------- ---------------------------- 27.8/101.1 MB 4.5 MB/s eta 0:00:17\n",
      "   ----------- ---------------------------- 28.0/101.1 MB 4.5 MB/s eta 0:00:17\n",
      "   ----------- ---------------------------- 28.2/101.1 MB 4.5 MB/s eta 0:00:17\n",
      "   ----------- ---------------------------- 28.4/101.1 MB 4.5 MB/s eta 0:00:17\n",
      "   ----------- ---------------------------- 28.5/101.1 MB 4.5 MB/s eta 0:00:17\n",
      "   ----------- ---------------------------- 28.8/101.1 MB 4.5 MB/s eta 0:00:17\n",
      "   ----------- ---------------------------- 28.9/101.1 MB 4.5 MB/s eta 0:00:17\n",
      "   ----------- ---------------------------- 29.1/101.1 MB 4.5 MB/s eta 0:00:17\n",
      "   ----------- ---------------------------- 29.3/101.1 MB 4.5 MB/s eta 0:00:17\n",
      "   ----------- ---------------------------- 29.4/101.1 MB 4.5 MB/s eta 0:00:16\n",
      "   ----------- ---------------------------- 29.6/101.1 MB 4.5 MB/s eta 0:00:17\n",
      "   ----------- ---------------------------- 29.8/101.1 MB 4.5 MB/s eta 0:00:16\n",
      "   ----------- ---------------------------- 30.0/101.1 MB 4.5 MB/s eta 0:00:16\n",
      "   ----------- ---------------------------- 30.2/101.1 MB 4.5 MB/s eta 0:00:16\n",
      "   ------------ --------------------------- 30.4/101.1 MB 4.5 MB/s eta 0:00:16\n",
      "   ------------ --------------------------- 30.5/101.1 MB 4.5 MB/s eta 0:00:16\n",
      "   ------------ --------------------------- 30.7/101.1 MB 4.5 MB/s eta 0:00:16\n",
      "   ------------ --------------------------- 30.9/101.1 MB 4.5 MB/s eta 0:00:16\n",
      "   ------------ --------------------------- 31.1/101.1 MB 4.5 MB/s eta 0:00:16\n",
      "   ------------ --------------------------- 31.3/101.1 MB 4.5 MB/s eta 0:00:16\n",
      "   ------------ --------------------------- 31.5/101.1 MB 4.5 MB/s eta 0:00:16\n",
      "   ------------ --------------------------- 31.7/101.1 MB 4.5 MB/s eta 0:00:16\n",
      "   ------------ --------------------------- 31.8/101.1 MB 4.5 MB/s eta 0:00:16\n",
      "   ------------ --------------------------- 32.0/101.1 MB 4.5 MB/s eta 0:00:16\n",
      "   ------------ --------------------------- 32.2/101.1 MB 4.5 MB/s eta 0:00:16\n",
      "   ------------ --------------------------- 32.4/101.1 MB 4.5 MB/s eta 0:00:16\n",
      "   ------------ --------------------------- 32.6/101.1 MB 4.5 MB/s eta 0:00:16\n",
      "   ------------ --------------------------- 32.7/101.1 MB 4.5 MB/s eta 0:00:16\n",
      "   ------------- -------------------------- 32.9/101.1 MB 4.5 MB/s eta 0:00:16\n",
      "   ------------- -------------------------- 33.1/101.1 MB 4.5 MB/s eta 0:00:16\n",
      "   ------------- -------------------------- 33.3/101.1 MB 4.5 MB/s eta 0:00:16\n",
      "   ------------- -------------------------- 33.5/101.1 MB 4.5 MB/s eta 0:00:16\n",
      "   ------------- -------------------------- 33.6/101.1 MB 4.5 MB/s eta 0:00:15\n",
      "   ------------- -------------------------- 33.8/101.1 MB 4.5 MB/s eta 0:00:15\n",
      "   ------------- -------------------------- 34.0/101.1 MB 4.5 MB/s eta 0:00:15\n",
      "   ------------- -------------------------- 34.2/101.1 MB 4.5 MB/s eta 0:00:15\n",
      "   ------------- -------------------------- 34.4/101.1 MB 4.5 MB/s eta 0:00:15\n",
      "   ------------- -------------------------- 34.6/101.1 MB 4.5 MB/s eta 0:00:15\n",
      "   ------------- -------------------------- 34.7/101.1 MB 4.5 MB/s eta 0:00:15\n",
      "   ------------- -------------------------- 34.9/101.1 MB 4.5 MB/s eta 0:00:15\n",
      "   ------------- -------------------------- 35.1/101.1 MB 4.5 MB/s eta 0:00:15\n",
      "   ------------- -------------------------- 35.3/101.1 MB 4.5 MB/s eta 0:00:15\n",
      "   -------------- ------------------------- 35.5/101.1 MB 4.5 MB/s eta 0:00:15\n",
      "   -------------- ------------------------- 35.7/101.1 MB 4.5 MB/s eta 0:00:15\n",
      "   -------------- ------------------------- 35.9/101.1 MB 4.5 MB/s eta 0:00:15\n",
      "   -------------- ------------------------- 36.0/101.1 MB 4.5 MB/s eta 0:00:15\n",
      "   -------------- ------------------------- 36.2/101.1 MB 4.5 MB/s eta 0:00:15\n",
      "   -------------- ------------------------- 36.4/101.1 MB 4.5 MB/s eta 0:00:15\n",
      "   -------------- ------------------------- 36.6/101.1 MB 4.5 MB/s eta 0:00:15\n",
      "   -------------- ------------------------- 36.8/101.1 MB 4.5 MB/s eta 0:00:15\n",
      "   -------------- ------------------------- 37.0/101.1 MB 4.5 MB/s eta 0:00:15\n",
      "   -------------- ------------------------- 37.2/101.1 MB 4.5 MB/s eta 0:00:15\n",
      "   -------------- ------------------------- 37.4/101.1 MB 4.5 MB/s eta 0:00:15\n",
      "   -------------- ------------------------- 37.6/101.1 MB 4.5 MB/s eta 0:00:15\n",
      "   -------------- ------------------------- 37.7/101.1 MB 4.5 MB/s eta 0:00:14\n",
      "   --------------- ------------------------ 37.9/101.1 MB 4.5 MB/s eta 0:00:14\n",
      "   --------------- ------------------------ 38.1/101.1 MB 4.5 MB/s eta 0:00:14\n",
      "   --------------- ------------------------ 38.3/101.1 MB 4.5 MB/s eta 0:00:14\n",
      "   --------------- ------------------------ 38.5/101.1 MB 4.5 MB/s eta 0:00:14\n",
      "   --------------- ------------------------ 38.7/101.1 MB 4.6 MB/s eta 0:00:14\n",
      "   --------------- ------------------------ 38.9/101.1 MB 4.5 MB/s eta 0:00:14\n",
      "   --------------- ------------------------ 39.1/101.1 MB 4.6 MB/s eta 0:00:14\n",
      "   --------------- ------------------------ 39.3/101.1 MB 4.6 MB/s eta 0:00:14\n",
      "   --------------- ------------------------ 39.5/101.1 MB 4.6 MB/s eta 0:00:14\n",
      "   --------------- ------------------------ 39.7/101.1 MB 4.6 MB/s eta 0:00:14\n",
      "   --------------- ------------------------ 39.9/101.1 MB 4.6 MB/s eta 0:00:14\n",
      "   --------------- ------------------------ 40.1/101.1 MB 4.6 MB/s eta 0:00:14\n",
      "   --------------- ------------------------ 40.3/101.1 MB 4.6 MB/s eta 0:00:14\n",
      "   ---------------- ----------------------- 40.5/101.1 MB 4.6 MB/s eta 0:00:14\n",
      "   ---------------- ----------------------- 40.7/101.1 MB 4.6 MB/s eta 0:00:14\n",
      "   ---------------- ----------------------- 40.8/101.1 MB 4.6 MB/s eta 0:00:14\n",
      "   ---------------- ----------------------- 41.0/101.1 MB 4.6 MB/s eta 0:00:14\n",
      "   ---------------- ----------------------- 41.2/101.1 MB 4.6 MB/s eta 0:00:14\n",
      "   ---------------- ----------------------- 41.4/101.1 MB 4.6 MB/s eta 0:00:13\n",
      "   ---------------- ----------------------- 41.6/101.1 MB 4.6 MB/s eta 0:00:13\n",
      "   ---------------- ----------------------- 41.8/101.1 MB 4.6 MB/s eta 0:00:13\n",
      "   ---------------- ----------------------- 42.0/101.1 MB 4.6 MB/s eta 0:00:13\n",
      "   ---------------- ----------------------- 42.2/101.1 MB 4.6 MB/s eta 0:00:13\n",
      "   ---------------- ----------------------- 42.4/101.1 MB 4.6 MB/s eta 0:00:13\n",
      "   ---------------- ----------------------- 42.6/101.1 MB 4.6 MB/s eta 0:00:13\n",
      "   ---------------- ----------------------- 42.8/101.1 MB 4.6 MB/s eta 0:00:13\n",
      "   ----------------- ---------------------- 43.0/101.1 MB 4.7 MB/s eta 0:00:13\n",
      "   ----------------- ---------------------- 43.2/101.1 MB 4.6 MB/s eta 0:00:13\n",
      "   ----------------- ---------------------- 43.4/101.1 MB 4.7 MB/s eta 0:00:13\n",
      "   ----------------- ---------------------- 43.6/101.1 MB 4.7 MB/s eta 0:00:13\n",
      "   ----------------- ---------------------- 43.8/101.1 MB 4.7 MB/s eta 0:00:13\n",
      "   ----------------- ---------------------- 44.0/101.1 MB 4.7 MB/s eta 0:00:13\n",
      "   ----------------- ---------------------- 44.2/101.1 MB 4.7 MB/s eta 0:00:13\n",
      "   ----------------- ---------------------- 44.4/101.1 MB 4.7 MB/s eta 0:00:13\n",
      "   ----------------- ---------------------- 44.6/101.1 MB 4.7 MB/s eta 0:00:12\n",
      "   ----------------- ---------------------- 44.8/101.1 MB 4.7 MB/s eta 0:00:12\n",
      "   ----------------- ---------------------- 45.1/101.1 MB 4.7 MB/s eta 0:00:12\n",
      "   ----------------- ---------------------- 45.3/101.1 MB 4.7 MB/s eta 0:00:12\n",
      "   ------------------ --------------------- 45.5/101.1 MB 4.7 MB/s eta 0:00:12\n",
      "   ------------------ --------------------- 45.7/101.1 MB 4.7 MB/s eta 0:00:12\n",
      "   ------------------ --------------------- 45.8/101.1 MB 4.7 MB/s eta 0:00:12\n",
      "   ------------------ --------------------- 45.8/101.1 MB 4.7 MB/s eta 0:00:12\n",
      "   ------------------ --------------------- 46.2/101.1 MB 4.7 MB/s eta 0:00:12\n",
      "   ------------------ --------------------- 46.2/101.1 MB 4.7 MB/s eta 0:00:12\n",
      "   ------------------ --------------------- 46.3/101.1 MB 4.6 MB/s eta 0:00:12\n",
      "   ------------------ --------------------- 46.7/101.1 MB 4.7 MB/s eta 0:00:12\n",
      "   ------------------ --------------------- 46.8/101.1 MB 4.6 MB/s eta 0:00:12\n",
      "   ------------------ --------------------- 47.0/101.1 MB 4.6 MB/s eta 0:00:12\n",
      "   ------------------ --------------------- 47.1/101.1 MB 4.6 MB/s eta 0:00:12\n",
      "   ------------------ --------------------- 47.3/101.1 MB 4.5 MB/s eta 0:00:12\n",
      "   ------------------ --------------------- 47.5/101.1 MB 4.5 MB/s eta 0:00:12\n",
      "   ------------------ --------------------- 47.7/101.1 MB 4.5 MB/s eta 0:00:12\n",
      "   ------------------ --------------------- 47.9/101.1 MB 4.5 MB/s eta 0:00:12\n",
      "   ------------------- -------------------- 48.0/101.1 MB 4.5 MB/s eta 0:00:12\n",
      "   ------------------- -------------------- 48.2/101.1 MB 4.5 MB/s eta 0:00:12\n",
      "   ------------------- -------------------- 48.3/101.1 MB 4.5 MB/s eta 0:00:12\n",
      "   ------------------- -------------------- 48.5/101.1 MB 4.4 MB/s eta 0:00:12\n",
      "   ------------------- -------------------- 48.6/101.1 MB 4.4 MB/s eta 0:00:12\n",
      "   ------------------- -------------------- 48.8/101.1 MB 4.4 MB/s eta 0:00:12\n",
      "   ------------------- -------------------- 49.0/101.1 MB 4.4 MB/s eta 0:00:12\n",
      "   ------------------- -------------------- 49.2/101.1 MB 4.4 MB/s eta 0:00:12\n",
      "   ------------------- -------------------- 49.3/101.1 MB 4.4 MB/s eta 0:00:12\n",
      "   ------------------- -------------------- 49.4/101.1 MB 4.3 MB/s eta 0:00:12\n",
      "   ------------------- -------------------- 49.6/101.1 MB 4.3 MB/s eta 0:00:12\n",
      "   ------------------- -------------------- 49.8/101.1 MB 4.3 MB/s eta 0:00:12\n",
      "   ------------------- -------------------- 49.9/101.1 MB 4.3 MB/s eta 0:00:12\n",
      "   ------------------- -------------------- 50.1/101.1 MB 4.3 MB/s eta 0:00:12\n",
      "   ------------------- -------------------- 50.3/101.1 MB 4.3 MB/s eta 0:00:12\n",
      "   -------------------- ------------------- 50.6/101.1 MB 4.3 MB/s eta 0:00:12\n",
      "   -------------------- ------------------- 50.7/101.1 MB 4.3 MB/s eta 0:00:12\n",
      "   -------------------- ------------------- 50.9/101.1 MB 4.3 MB/s eta 0:00:12\n",
      "   -------------------- ------------------- 51.1/101.1 MB 4.3 MB/s eta 0:00:12\n",
      "   -------------------- ------------------- 51.2/101.1 MB 4.3 MB/s eta 0:00:12\n",
      "   -------------------- ------------------- 51.4/101.1 MB 4.3 MB/s eta 0:00:12\n",
      "   -------------------- ------------------- 51.6/101.1 MB 4.2 MB/s eta 0:00:12\n",
      "   -------------------- ------------------- 51.8/101.1 MB 4.2 MB/s eta 0:00:12\n",
      "   -------------------- ------------------- 51.9/101.1 MB 4.2 MB/s eta 0:00:12\n",
      "   -------------------- ------------------- 52.1/101.1 MB 4.2 MB/s eta 0:00:12\n",
      "   -------------------- ------------------- 52.3/101.1 MB 4.2 MB/s eta 0:00:12\n",
      "   -------------------- ------------------- 52.4/101.1 MB 4.2 MB/s eta 0:00:12\n",
      "   -------------------- ------------------- 52.6/101.1 MB 4.2 MB/s eta 0:00:12\n",
      "   -------------------- ------------------- 52.8/101.1 MB 4.2 MB/s eta 0:00:12\n",
      "   -------------------- ------------------- 53.0/101.1 MB 4.2 MB/s eta 0:00:12\n",
      "   --------------------- ------------------ 53.1/101.1 MB 4.2 MB/s eta 0:00:12\n",
      "   --------------------- ------------------ 53.3/101.1 MB 4.2 MB/s eta 0:00:12\n",
      "   --------------------- ------------------ 53.5/101.1 MB 4.1 MB/s eta 0:00:12\n",
      "   --------------------- ------------------ 53.7/101.1 MB 4.1 MB/s eta 0:00:12\n",
      "   --------------------- ------------------ 53.9/101.1 MB 4.1 MB/s eta 0:00:12\n",
      "   --------------------- ------------------ 54.0/101.1 MB 4.1 MB/s eta 0:00:12\n",
      "   --------------------- ------------------ 54.2/101.1 MB 4.1 MB/s eta 0:00:12\n",
      "   --------------------- ------------------ 54.4/101.1 MB 4.1 MB/s eta 0:00:12\n",
      "   --------------------- ------------------ 54.6/101.1 MB 4.1 MB/s eta 0:00:12\n",
      "   --------------------- ------------------ 54.9/101.1 MB 4.1 MB/s eta 0:00:12\n",
      "   --------------------- ------------------ 55.1/101.1 MB 4.1 MB/s eta 0:00:12\n",
      "   --------------------- ------------------ 55.3/101.1 MB 4.1 MB/s eta 0:00:12\n",
      "   --------------------- ------------------ 55.6/101.1 MB 4.1 MB/s eta 0:00:12\n",
      "   ---------------------- ----------------- 55.8/101.1 MB 4.1 MB/s eta 0:00:11\n",
      "   ---------------------- ----------------- 56.0/101.1 MB 4.1 MB/s eta 0:00:12\n",
      "   ---------------------- ----------------- 56.2/101.1 MB 4.2 MB/s eta 0:00:11\n",
      "   ---------------------- ----------------- 56.5/101.1 MB 4.2 MB/s eta 0:00:11\n",
      "   ---------------------- ----------------- 56.7/101.1 MB 4.2 MB/s eta 0:00:11\n",
      "   ---------------------- ----------------- 56.9/101.1 MB 4.1 MB/s eta 0:00:11\n",
      "   ---------------------- ----------------- 57.1/101.1 MB 4.2 MB/s eta 0:00:11\n",
      "   ---------------------- ----------------- 57.3/101.1 MB 4.2 MB/s eta 0:00:11\n",
      "   ---------------------- ----------------- 57.5/101.1 MB 4.2 MB/s eta 0:00:11\n",
      "   ---------------------- ----------------- 57.7/101.1 MB 4.3 MB/s eta 0:00:11\n",
      "   ---------------------- ----------------- 57.9/101.1 MB 4.3 MB/s eta 0:00:11\n",
      "   ---------------------- ----------------- 58.1/101.1 MB 4.3 MB/s eta 0:00:10\n",
      "   ----------------------- ---------------- 58.3/101.1 MB 4.3 MB/s eta 0:00:10\n",
      "   ----------------------- ---------------- 58.5/101.1 MB 4.3 MB/s eta 0:00:10\n",
      "   ----------------------- ---------------- 58.7/101.1 MB 4.4 MB/s eta 0:00:10\n",
      "   ----------------------- ---------------- 58.9/101.1 MB 4.4 MB/s eta 0:00:10\n",
      "   ----------------------- ---------------- 59.1/101.1 MB 4.4 MB/s eta 0:00:10\n",
      "   ----------------------- ---------------- 59.3/101.1 MB 4.4 MB/s eta 0:00:10\n",
      "   ----------------------- ---------------- 59.5/101.1 MB 4.5 MB/s eta 0:00:10\n",
      "   ----------------------- ---------------- 59.7/101.1 MB 4.5 MB/s eta 0:00:10\n",
      "   ----------------------- ---------------- 59.9/101.1 MB 4.5 MB/s eta 0:00:10\n",
      "   ----------------------- ---------------- 60.1/101.1 MB 4.5 MB/s eta 0:00:10\n",
      "   ----------------------- ---------------- 60.3/101.1 MB 4.5 MB/s eta 0:00:10\n",
      "   ----------------------- ---------------- 60.5/101.1 MB 4.5 MB/s eta 0:00:09\n",
      "   ------------------------ --------------- 60.7/101.1 MB 4.5 MB/s eta 0:00:09\n",
      "   ------------------------ --------------- 60.9/101.1 MB 4.6 MB/s eta 0:00:09\n",
      "   ------------------------ --------------- 61.1/101.1 MB 4.5 MB/s eta 0:00:09\n",
      "   ------------------------ --------------- 61.3/101.1 MB 4.6 MB/s eta 0:00:09\n",
      "   ------------------------ --------------- 61.5/101.1 MB 4.6 MB/s eta 0:00:09\n",
      "   ------------------------ --------------- 61.7/101.1 MB 4.6 MB/s eta 0:00:09\n",
      "   ------------------------ --------------- 61.9/101.1 MB 4.6 MB/s eta 0:00:09\n",
      "   ------------------------ --------------- 62.1/101.1 MB 4.6 MB/s eta 0:00:09\n",
      "   ------------------------ --------------- 62.3/101.1 MB 4.6 MB/s eta 0:00:09\n",
      "   ------------------------ --------------- 62.5/101.1 MB 4.6 MB/s eta 0:00:09\n",
      "   ------------------------ --------------- 62.7/101.1 MB 4.6 MB/s eta 0:00:09\n",
      "   ------------------------ --------------- 62.9/101.1 MB 4.6 MB/s eta 0:00:09\n",
      "   ------------------------ --------------- 63.1/101.1 MB 4.7 MB/s eta 0:00:09\n",
      "   ------------------------- -------------- 63.3/101.1 MB 4.6 MB/s eta 0:00:09\n",
      "   ------------------------- -------------- 63.5/101.1 MB 4.7 MB/s eta 0:00:09\n",
      "   ------------------------- -------------- 63.7/101.1 MB 4.7 MB/s eta 0:00:08\n",
      "   ------------------------- -------------- 63.9/101.1 MB 4.7 MB/s eta 0:00:08\n",
      "   ------------------------- -------------- 64.1/101.1 MB 4.7 MB/s eta 0:00:08\n",
      "   ------------------------- -------------- 64.2/101.1 MB 4.7 MB/s eta 0:00:08\n",
      "   ------------------------- -------------- 64.4/101.1 MB 4.7 MB/s eta 0:00:08\n",
      "   ------------------------- -------------- 64.6/101.1 MB 4.7 MB/s eta 0:00:08\n",
      "   ------------------------- -------------- 64.8/101.1 MB 4.7 MB/s eta 0:00:08\n",
      "   ------------------------- -------------- 65.0/101.1 MB 4.7 MB/s eta 0:00:08\n",
      "   ------------------------- -------------- 65.2/101.1 MB 4.8 MB/s eta 0:00:08\n",
      "   ------------------------- -------------- 65.5/101.1 MB 4.8 MB/s eta 0:00:08\n",
      "   ------------------------- -------------- 65.6/101.1 MB 4.8 MB/s eta 0:00:08\n",
      "   -------------------------- ------------- 65.9/101.1 MB 4.8 MB/s eta 0:00:08\n",
      "   -------------------------- ------------- 66.0/101.1 MB 4.8 MB/s eta 0:00:08\n",
      "   -------------------------- ------------- 66.3/101.1 MB 4.8 MB/s eta 0:00:08\n",
      "   -------------------------- ------------- 66.5/101.1 MB 4.8 MB/s eta 0:00:08\n",
      "   -------------------------- ------------- 66.8/101.1 MB 4.8 MB/s eta 0:00:08\n",
      "   -------------------------- ------------- 67.0/101.1 MB 4.8 MB/s eta 0:00:08\n",
      "   -------------------------- ------------- 67.3/101.1 MB 4.8 MB/s eta 0:00:08\n",
      "   -------------------------- ------------- 67.5/101.1 MB 4.8 MB/s eta 0:00:07\n",
      "   -------------------------- ------------- 67.7/101.1 MB 4.8 MB/s eta 0:00:07\n",
      "   -------------------------- ------------- 67.9/101.1 MB 4.8 MB/s eta 0:00:07\n",
      "   -------------------------- ------------- 68.1/101.1 MB 4.8 MB/s eta 0:00:07\n",
      "   --------------------------- ------------ 68.3/101.1 MB 4.8 MB/s eta 0:00:07\n",
      "   --------------------------- ------------ 68.5/101.1 MB 4.8 MB/s eta 0:00:07\n",
      "   --------------------------- ------------ 68.7/101.1 MB 4.9 MB/s eta 0:00:07\n",
      "   --------------------------- ------------ 68.9/101.1 MB 4.9 MB/s eta 0:00:07\n",
      "   --------------------------- ------------ 69.1/101.1 MB 4.8 MB/s eta 0:00:07\n",
      "   --------------------------- ------------ 69.3/101.1 MB 4.9 MB/s eta 0:00:07\n",
      "   --------------------------- ------------ 69.6/101.1 MB 4.8 MB/s eta 0:00:07\n",
      "   --------------------------- ------------ 69.8/101.1 MB 4.9 MB/s eta 0:00:07\n",
      "   --------------------------- ------------ 70.0/101.1 MB 4.9 MB/s eta 0:00:07\n",
      "   --------------------------- ------------ 70.2/101.1 MB 4.9 MB/s eta 0:00:07\n",
      "   --------------------------- ------------ 70.4/101.1 MB 4.9 MB/s eta 0:00:07\n",
      "   --------------------------- ------------ 70.6/101.1 MB 4.9 MB/s eta 0:00:07\n",
      "   ---------------------------- ----------- 70.8/101.1 MB 4.9 MB/s eta 0:00:07\n",
      "   ---------------------------- ----------- 71.0/101.1 MB 4.9 MB/s eta 0:00:07\n",
      "   ---------------------------- ----------- 71.2/101.1 MB 4.9 MB/s eta 0:00:07\n",
      "   ---------------------------- ----------- 71.4/101.1 MB 4.9 MB/s eta 0:00:07\n",
      "   ---------------------------- ----------- 71.6/101.1 MB 4.9 MB/s eta 0:00:07\n",
      "   ---------------------------- ----------- 71.8/101.1 MB 4.9 MB/s eta 0:00:06\n",
      "   ---------------------------- ----------- 72.0/101.1 MB 4.9 MB/s eta 0:00:06\n",
      "   ---------------------------- ----------- 72.3/101.1 MB 4.9 MB/s eta 0:00:06\n",
      "   ---------------------------- ----------- 72.5/101.1 MB 4.8 MB/s eta 0:00:06\n",
      "   ---------------------------- ----------- 72.7/101.1 MB 4.8 MB/s eta 0:00:06\n",
      "   ---------------------------- ----------- 73.0/101.1 MB 4.9 MB/s eta 0:00:06\n",
      "   ---------------------------- ----------- 73.2/101.1 MB 4.9 MB/s eta 0:00:06\n",
      "   ----------------------------- ---------- 73.4/101.1 MB 4.9 MB/s eta 0:00:06\n",
      "   ----------------------------- ---------- 73.6/101.1 MB 4.9 MB/s eta 0:00:06\n",
      "   ----------------------------- ---------- 73.8/101.1 MB 4.9 MB/s eta 0:00:06\n",
      "   ----------------------------- ---------- 74.1/101.1 MB 4.8 MB/s eta 0:00:06\n",
      "   ----------------------------- ---------- 74.3/101.1 MB 4.8 MB/s eta 0:00:06\n",
      "   ----------------------------- ---------- 74.6/101.1 MB 4.9 MB/s eta 0:00:06\n",
      "   ----------------------------- ---------- 74.8/101.1 MB 4.9 MB/s eta 0:00:06\n",
      "   ----------------------------- ---------- 75.1/101.1 MB 4.9 MB/s eta 0:00:06\n",
      "   ----------------------------- ---------- 75.2/101.1 MB 4.9 MB/s eta 0:00:06\n",
      "   ----------------------------- ---------- 75.4/101.1 MB 4.9 MB/s eta 0:00:06\n",
      "   ----------------------------- ---------- 75.6/101.1 MB 4.9 MB/s eta 0:00:06\n",
      "   ------------------------------ --------- 75.9/101.1 MB 4.9 MB/s eta 0:00:06\n",
      "   ------------------------------ --------- 76.1/101.1 MB 4.9 MB/s eta 0:00:06\n",
      "   ------------------------------ --------- 76.4/101.1 MB 4.8 MB/s eta 0:00:06\n",
      "   ------------------------------ --------- 76.5/101.1 MB 4.9 MB/s eta 0:00:06\n",
      "   ------------------------------ --------- 76.8/101.1 MB 4.9 MB/s eta 0:00:05\n",
      "   ------------------------------ --------- 77.0/101.1 MB 4.9 MB/s eta 0:00:05\n",
      "   ------------------------------ --------- 77.2/101.1 MB 4.9 MB/s eta 0:00:05\n",
      "   ------------------------------ --------- 77.4/101.1 MB 4.9 MB/s eta 0:00:05\n",
      "   ------------------------------ --------- 77.6/101.1 MB 4.9 MB/s eta 0:00:05\n",
      "   ------------------------------ --------- 77.8/101.1 MB 4.9 MB/s eta 0:00:05\n",
      "   ------------------------------ --------- 78.0/101.1 MB 4.8 MB/s eta 0:00:05\n",
      "   ------------------------------ --------- 78.2/101.1 MB 4.9 MB/s eta 0:00:05\n",
      "   ------------------------------- -------- 78.4/101.1 MB 4.9 MB/s eta 0:00:05\n",
      "   ------------------------------- -------- 78.6/101.1 MB 4.9 MB/s eta 0:00:05\n",
      "   ------------------------------- -------- 78.8/101.1 MB 4.9 MB/s eta 0:00:05\n",
      "   ------------------------------- -------- 79.0/101.1 MB 4.8 MB/s eta 0:00:05\n",
      "   ------------------------------- -------- 79.2/101.1 MB 4.9 MB/s eta 0:00:05\n",
      "   ------------------------------- -------- 79.4/101.1 MB 4.9 MB/s eta 0:00:05\n",
      "   ------------------------------- -------- 79.6/101.1 MB 4.9 MB/s eta 0:00:05\n",
      "   ------------------------------- -------- 79.8/101.1 MB 4.9 MB/s eta 0:00:05\n",
      "   ------------------------------- -------- 80.0/101.1 MB 4.9 MB/s eta 0:00:05\n",
      "   ------------------------------- -------- 80.2/101.1 MB 4.9 MB/s eta 0:00:05\n",
      "   ------------------------------- -------- 80.4/101.1 MB 4.9 MB/s eta 0:00:05\n",
      "   ------------------------------- -------- 80.6/101.1 MB 4.9 MB/s eta 0:00:05\n",
      "   -------------------------------- ------- 80.9/101.1 MB 4.9 MB/s eta 0:00:05\n",
      "   -------------------------------- ------- 81.1/101.1 MB 4.9 MB/s eta 0:00:05\n",
      "   -------------------------------- ------- 81.4/101.1 MB 4.9 MB/s eta 0:00:05\n",
      "   -------------------------------- ------- 81.6/101.1 MB 4.9 MB/s eta 0:00:05\n",
      "   -------------------------------- ------- 81.8/101.1 MB 4.9 MB/s eta 0:00:04\n",
      "   -------------------------------- ------- 82.1/101.1 MB 4.9 MB/s eta 0:00:04\n",
      "   -------------------------------- ------- 82.3/101.1 MB 4.9 MB/s eta 0:00:04\n",
      "   -------------------------------- ------- 82.5/101.1 MB 4.9 MB/s eta 0:00:04\n",
      "   -------------------------------- ------- 82.7/101.1 MB 4.9 MB/s eta 0:00:04\n",
      "   -------------------------------- ------- 82.9/101.1 MB 4.9 MB/s eta 0:00:04\n",
      "   -------------------------------- ------- 83.2/101.1 MB 4.9 MB/s eta 0:00:04\n",
      "   --------------------------------- ------ 83.4/101.1 MB 4.9 MB/s eta 0:00:04\n",
      "   --------------------------------- ------ 83.5/101.1 MB 4.9 MB/s eta 0:00:04\n",
      "   --------------------------------- ------ 83.8/101.1 MB 4.9 MB/s eta 0:00:04\n",
      "   --------------------------------- ------ 84.0/101.1 MB 4.9 MB/s eta 0:00:04\n",
      "   --------------------------------- ------ 84.2/101.1 MB 4.9 MB/s eta 0:00:04\n",
      "   --------------------------------- ------ 84.4/101.1 MB 4.9 MB/s eta 0:00:04\n",
      "   --------------------------------- ------ 84.6/101.1 MB 5.0 MB/s eta 0:00:04\n",
      "   --------------------------------- ------ 84.8/101.1 MB 4.9 MB/s eta 0:00:04\n",
      "   --------------------------------- ------ 85.0/101.1 MB 5.0 MB/s eta 0:00:04\n",
      "   --------------------------------- ------ 85.2/101.1 MB 4.9 MB/s eta 0:00:04\n",
      "   --------------------------------- ------ 85.4/101.1 MB 4.9 MB/s eta 0:00:04\n",
      "   --------------------------------- ------ 85.6/101.1 MB 4.9 MB/s eta 0:00:04\n",
      "   --------------------------------- ------ 85.9/101.1 MB 4.9 MB/s eta 0:00:04\n",
      "   ---------------------------------- ----- 86.1/101.1 MB 5.0 MB/s eta 0:00:04\n",
      "   ---------------------------------- ----- 86.3/101.1 MB 4.9 MB/s eta 0:00:04\n",
      "   ---------------------------------- ----- 86.4/101.1 MB 5.0 MB/s eta 0:00:03\n",
      "   ---------------------------------- ----- 86.7/101.1 MB 5.0 MB/s eta 0:00:03\n",
      "   ---------------------------------- ----- 86.9/101.1 MB 4.9 MB/s eta 0:00:03\n",
      "   ---------------------------------- ----- 87.1/101.1 MB 5.0 MB/s eta 0:00:03\n",
      "   ---------------------------------- ----- 87.3/101.1 MB 5.0 MB/s eta 0:00:03\n",
      "   ---------------------------------- ----- 87.5/101.1 MB 4.9 MB/s eta 0:00:03\n",
      "   ---------------------------------- ----- 87.6/101.1 MB 4.9 MB/s eta 0:00:03\n",
      "   ---------------------------------- ----- 87.9/101.1 MB 5.0 MB/s eta 0:00:03\n",
      "   ---------------------------------- ----- 88.1/101.1 MB 5.0 MB/s eta 0:00:03\n",
      "   ---------------------------------- ----- 88.3/101.1 MB 5.0 MB/s eta 0:00:03\n",
      "   ----------------------------------- ---- 88.6/101.1 MB 5.0 MB/s eta 0:00:03\n",
      "   ----------------------------------- ---- 88.8/101.1 MB 5.0 MB/s eta 0:00:03\n",
      "   ----------------------------------- ---- 89.0/101.1 MB 5.0 MB/s eta 0:00:03\n",
      "   ----------------------------------- ---- 89.3/101.1 MB 5.0 MB/s eta 0:00:03\n",
      "   ----------------------------------- ---- 89.5/101.1 MB 5.0 MB/s eta 0:00:03\n",
      "   ----------------------------------- ---- 89.7/101.1 MB 5.0 MB/s eta 0:00:03\n",
      "   ----------------------------------- ---- 90.0/101.1 MB 5.0 MB/s eta 0:00:03\n",
      "   ----------------------------------- ---- 90.2/101.1 MB 5.0 MB/s eta 0:00:03\n",
      "   ----------------------------------- ---- 90.5/101.1 MB 5.0 MB/s eta 0:00:03\n",
      "   ----------------------------------- ---- 90.8/101.1 MB 5.0 MB/s eta 0:00:03\n",
      "   ------------------------------------ --- 91.0/101.1 MB 5.1 MB/s eta 0:00:02\n",
      "   ------------------------------------ --- 91.2/101.1 MB 5.1 MB/s eta 0:00:02\n",
      "   ------------------------------------ --- 91.4/101.1 MB 5.1 MB/s eta 0:00:02\n",
      "   ------------------------------------ --- 91.7/101.1 MB 5.1 MB/s eta 0:00:02\n",
      "   ------------------------------------ --- 91.9/101.1 MB 5.1 MB/s eta 0:00:02\n",
      "   ------------------------------------ --- 92.1/101.1 MB 5.1 MB/s eta 0:00:02\n",
      "   ------------------------------------ --- 92.4/101.1 MB 5.1 MB/s eta 0:00:02\n",
      "   ------------------------------------ --- 92.7/101.1 MB 5.1 MB/s eta 0:00:02\n",
      "   ------------------------------------ --- 92.9/101.1 MB 5.1 MB/s eta 0:00:02\n",
      "   ------------------------------------ --- 93.1/101.1 MB 5.2 MB/s eta 0:00:02\n",
      "   ------------------------------------ --- 93.4/101.1 MB 5.1 MB/s eta 0:00:02\n",
      "   ------------------------------------- -- 93.6/101.1 MB 5.2 MB/s eta 0:00:02\n",
      "   ------------------------------------- -- 93.9/101.1 MB 5.2 MB/s eta 0:00:02\n",
      "   ------------------------------------- -- 94.1/101.1 MB 5.2 MB/s eta 0:00:02\n",
      "   ------------------------------------- -- 94.3/101.1 MB 5.2 MB/s eta 0:00:02\n",
      "   ------------------------------------- -- 94.6/101.1 MB 5.2 MB/s eta 0:00:02\n",
      "   ------------------------------------- -- 94.8/101.1 MB 5.2 MB/s eta 0:00:02\n",
      "   ------------------------------------- -- 95.1/101.1 MB 5.2 MB/s eta 0:00:02\n",
      "   ------------------------------------- -- 95.4/101.1 MB 5.2 MB/s eta 0:00:02\n",
      "   ------------------------------------- -- 95.6/101.1 MB 5.2 MB/s eta 0:00:02\n",
      "   ------------------------------------- -- 95.8/101.1 MB 5.3 MB/s eta 0:00:01\n",
      "   -------------------------------------- - 96.0/101.1 MB 5.3 MB/s eta 0:00:01\n",
      "   -------------------------------------- - 96.3/101.1 MB 5.3 MB/s eta 0:00:01\n",
      "   -------------------------------------- - 96.5/101.1 MB 5.3 MB/s eta 0:00:01\n",
      "   -------------------------------------- - 96.7/101.1 MB 5.3 MB/s eta 0:00:01\n",
      "   -------------------------------------- - 97.0/101.1 MB 5.3 MB/s eta 0:00:01\n",
      "   -------------------------------------- - 97.2/101.1 MB 5.4 MB/s eta 0:00:01\n",
      "   -------------------------------------- - 97.5/101.1 MB 5.4 MB/s eta 0:00:01\n",
      "   -------------------------------------- - 97.7/101.1 MB 5.4 MB/s eta 0:00:01\n",
      "   -------------------------------------- - 98.0/101.1 MB 5.4 MB/s eta 0:00:01\n",
      "   -------------------------------------- - 98.3/101.1 MB 5.5 MB/s eta 0:00:01\n",
      "   -------------------------------------- - 98.5/101.1 MB 5.5 MB/s eta 0:00:01\n",
      "   ---------------------------------------  98.6/101.1 MB 5.5 MB/s eta 0:00:01\n",
      "   ---------------------------------------  98.6/101.1 MB 5.2 MB/s eta 0:00:01\n",
      "   ---------------------------------------  99.1/101.1 MB 5.4 MB/s eta 0:00:01\n",
      "   ---------------------------------------  99.3/101.1 MB 5.3 MB/s eta 0:00:01\n",
      "   ---------------------------------------  99.5/101.1 MB 5.3 MB/s eta 0:00:01\n",
      "   ---------------------------------------  99.6/101.1 MB 5.3 MB/s eta 0:00:01\n",
      "   ---------------------------------------  99.9/101.1 MB 5.2 MB/s eta 0:00:01\n",
      "   ---------------------------------------  100.1/101.1 MB 5.2 MB/s eta 0:00:01\n",
      "   ---------------------------------------  100.2/101.1 MB 5.2 MB/s eta 0:00:01\n",
      "   ---------------------------------------  100.5/101.1 MB 5.2 MB/s eta 0:00:01\n",
      "   ---------------------------------------  100.7/101.1 MB 5.2 MB/s eta 0:00:01\n",
      "   ---------------------------------------  100.9/101.1 MB 5.2 MB/s eta 0:00:01\n",
      "   ---------------------------------------  101.0/101.1 MB 5.1 MB/s eta 0:00:01\n",
      "   ---------------------------------------  101.0/101.1 MB 5.1 MB/s eta 0:00:01\n",
      "   ---------------------------------------  101.0/101.1 MB 5.1 MB/s eta 0:00:01\n",
      "   ---------------------------------------  101.0/101.1 MB 5.1 MB/s eta 0:00:01\n",
      "   ---------------------------------------  101.0/101.1 MB 5.1 MB/s eta 0:00:01\n",
      "   ---------------------------------------  101.0/101.1 MB 5.1 MB/s eta 0:00:01\n",
      "   ---------------------------------------  101.0/101.1 MB 5.1 MB/s eta 0:00:01\n",
      "   ---------------------------------------  101.0/101.1 MB 5.1 MB/s eta 0:00:01\n",
      "   ---------------------------------------  101.0/101.1 MB 5.1 MB/s eta 0:00:01\n",
      "   ---------------------------------------  101.0/101.1 MB 5.1 MB/s eta 0:00:01\n",
      "   ---------------------------------------  101.0/101.1 MB 5.1 MB/s eta 0:00:01\n",
      "   ---------------------------------------  101.0/101.1 MB 5.1 MB/s eta 0:00:01\n",
      "   ---------------------------------------  101.0/101.1 MB 5.1 MB/s eta 0:00:01\n",
      "   ---------------------------------------  101.0/101.1 MB 5.1 MB/s eta 0:00:01\n",
      "   ---------------------------------------  101.0/101.1 MB 5.1 MB/s eta 0:00:01\n",
      "   ---------------------------------------  101.0/101.1 MB 5.1 MB/s eta 0:00:01\n",
      "   ---------------------------------------  101.0/101.1 MB 5.1 MB/s eta 0:00:01\n",
      "   ---------------------------------------  101.0/101.1 MB 5.1 MB/s eta 0:00:01\n",
      "   ---------------------------------------  101.0/101.1 MB 5.1 MB/s eta 0:00:01\n",
      "   ---------------------------------------  101.0/101.1 MB 5.1 MB/s eta 0:00:01\n",
      "   ---------------------------------------  101.0/101.1 MB 5.1 MB/s eta 0:00:01\n",
      "   ---------------------------------------  101.0/101.1 MB 5.1 MB/s eta 0:00:01\n",
      "   ---------------------------------------  101.0/101.1 MB 5.1 MB/s eta 0:00:01\n",
      "   ---------------------------------------  101.0/101.1 MB 5.1 MB/s eta 0:00:01\n",
      "   ---------------------------------------- 101.1/101.1 MB 3.3 MB/s eta 0:00:00\n",
      "Downloading graphviz-0.20.3-py3-none-any.whl (47 kB)\n",
      "   ---------------------------------------- 0.0/47.1 kB ? eta -:--:--\n",
      "   ---------------------------------- ----- 41.0/47.1 kB ? eta -:--:--\n",
      "   ---------------------------------- ----- 41.0/47.1 kB ? eta -:--:--\n",
      "   ---------------------------------- ----- 41.0/47.1 kB ? eta -:--:--\n",
      "   ---------------------------------- ----- 41.0/47.1 kB ? eta -:--:--\n",
      "   ---------------------------------- ----- 41.0/47.1 kB ? eta -:--:--\n",
      "   ---------------------------------------- 47.1/47.1 kB 157.0 kB/s eta 0:00:00\n",
      "Installing collected packages: graphviz, catboost\n",
      "Successfully installed catboost-1.2.3 graphviz-0.20.3\n"
     ]
    }
   ],
   "source": [
    "!pip install catboost"
   ]
  },
  {
   "cell_type": "code",
   "execution_count": 101,
   "id": "64346241-1f4a-4fee-bdb8-07571871896c",
   "metadata": {},
   "outputs": [],
   "source": [
    "from sklearn.model_selection import GridSearchCV\n",
    "from catboost import CatBoostRegressor"
   ]
  },
  {
   "cell_type": "code",
   "execution_count": 102,
   "id": "ad266c3d-7a62-4c9e-a477-9ac4f11dacbf",
   "metadata": {},
   "outputs": [
    {
     "name": "stderr",
     "output_type": "stream",
     "text": [
      "C:\\ProgramData\\anaconda3\\Lib\\site-packages\\sklearn\\model_selection\\_validation.py:378: FitFailedWarning: \n",
      "7 fits failed out of a total of 36.\n",
      "The score on these train-test partitions for these parameters will be set to nan.\n",
      "If these failures are not expected, you can try to debug them by setting error_score='raise'.\n",
      "\n",
      "Below are more details about the failures:\n",
      "--------------------------------------------------------------------------------\n",
      "7 fits failed with the following error:\n",
      "Traceback (most recent call last):\n",
      "  File \"C:\\ProgramData\\anaconda3\\Lib\\site-packages\\sklearn\\model_selection\\_validation.py\", line 686, in _fit_and_score\n",
      "    estimator.fit(X_train, y_train, **fit_params)\n",
      "  File \"C:\\ProgramData\\anaconda3\\Lib\\site-packages\\catboost\\core.py\", line 5807, in fit\n",
      "    return self._fit(X, y, cat_features, text_features, embedding_features, None, sample_weight, None, None, None, None, baseline,\n",
      "           ^^^^^^^^^^^^^^^^^^^^^^^^^^^^^^^^^^^^^^^^^^^^^^^^^^^^^^^^^^^^^^^^^^^^^^^^^^^^^^^^^^^^^^^^^^^^^^^^^^^^^^^^^^^^^^^^^^^^^^^\n",
      "  File \"C:\\ProgramData\\anaconda3\\Lib\\site-packages\\catboost\\core.py\", line 2396, in _fit\n",
      "    self._train(\n",
      "  File \"C:\\ProgramData\\anaconda3\\Lib\\site-packages\\catboost\\core.py\", line 1776, in _train\n",
      "    self._object._train(train_pool, test_pool, params, allow_clear_pool, init_model._object if init_model else None)\n",
      "  File \"_catboost.pyx\", line 4833, in _catboost._CatBoost._train\n",
      "  File \"_catboost.pyx\", line 4882, in _catboost._CatBoost._train\n",
      "_catboost.CatBoostError: C:/Go_Agent/pipelines/BuildMaster/catboost.git/catboost/libs/train_lib/dir_helper.cpp:20: Can't create train working dir: catboost_info\n",
      "\n",
      "  warnings.warn(some_fits_failed_message, FitFailedWarning)\n",
      "C:\\ProgramData\\anaconda3\\Lib\\site-packages\\sklearn\\model_selection\\_search.py:952: UserWarning: One or more of the test scores are non-finite: [       nan        nan        nan        nan 0.64244855 0.65131569\n",
      " 0.59529614 0.65096105 0.65473684 0.56265012 0.64700933 0.65280979\n",
      " 0.60440137 0.65247597 0.65454935 0.57282481 0.64981    0.65363   ]\n",
      "  warnings.warn(\n"
     ]
    },
    {
     "name": "stdout",
     "output_type": "stream",
     "text": [
      "0:\tlearn: 3.0084674\ttotal: 422ms\tremaining: 1m 23s\n",
      "1:\tlearn: 2.8685084\ttotal: 622ms\tremaining: 1m 1s\n",
      "2:\tlearn: 2.7435731\ttotal: 657ms\tremaining: 43.2s\n",
      "3:\tlearn: 2.6359908\ttotal: 693ms\tremaining: 34s\n",
      "4:\tlearn: 2.5404985\ttotal: 704ms\tremaining: 27.5s\n",
      "5:\tlearn: 2.4585274\ttotal: 714ms\tremaining: 23.1s\n",
      "6:\tlearn: 2.3869963\ttotal: 726ms\tremaining: 20s\n",
      "7:\tlearn: 2.3253698\ttotal: 737ms\tremaining: 17.7s\n",
      "8:\tlearn: 2.2717957\ttotal: 750ms\tremaining: 15.9s\n",
      "9:\tlearn: 2.2282199\ttotal: 761ms\tremaining: 14.5s\n",
      "10:\tlearn: 2.1881551\ttotal: 775ms\tremaining: 13.3s\n",
      "11:\tlearn: 2.1526975\ttotal: 789ms\tremaining: 12.4s\n",
      "12:\tlearn: 2.1232141\ttotal: 824ms\tremaining: 11.9s\n",
      "13:\tlearn: 2.0981090\ttotal: 834ms\tremaining: 11.1s\n",
      "14:\tlearn: 2.0751027\ttotal: 845ms\tremaining: 10.4s\n",
      "15:\tlearn: 2.0548890\ttotal: 857ms\tremaining: 9.86s\n",
      "16:\tlearn: 2.0384562\ttotal: 913ms\tremaining: 9.82s\n",
      "17:\tlearn: 2.0241102\ttotal: 923ms\tremaining: 9.33s\n",
      "18:\tlearn: 2.0101246\ttotal: 946ms\tremaining: 9.01s\n",
      "19:\tlearn: 1.9989180\ttotal: 957ms\tremaining: 8.61s\n",
      "20:\tlearn: 1.9875223\ttotal: 973ms\tremaining: 8.3s\n",
      "21:\tlearn: 1.9776712\ttotal: 985ms\tremaining: 7.97s\n",
      "22:\tlearn: 1.9692300\ttotal: 997ms\tremaining: 7.67s\n",
      "23:\tlearn: 1.9623102\ttotal: 1.01s\tremaining: 7.39s\n",
      "24:\tlearn: 1.9548676\ttotal: 1.02s\tremaining: 7.15s\n",
      "25:\tlearn: 1.9478986\ttotal: 1.03s\tremaining: 6.92s\n",
      "26:\tlearn: 1.9425805\ttotal: 1.04s\tremaining: 6.7s\n",
      "27:\tlearn: 1.9386824\ttotal: 1.06s\tremaining: 6.5s\n",
      "28:\tlearn: 1.9344932\ttotal: 1.07s\tremaining: 6.32s\n",
      "29:\tlearn: 1.9302403\ttotal: 1.08s\tremaining: 6.14s\n",
      "30:\tlearn: 1.9256310\ttotal: 1.09s\tremaining: 5.97s\n",
      "31:\tlearn: 1.9224942\ttotal: 1.11s\tremaining: 5.81s\n",
      "32:\tlearn: 1.9197479\ttotal: 1.12s\tremaining: 5.67s\n",
      "33:\tlearn: 1.9165053\ttotal: 1.17s\tremaining: 5.71s\n",
      "34:\tlearn: 1.9135171\ttotal: 1.18s\tremaining: 5.55s\n",
      "35:\tlearn: 1.9102188\ttotal: 1.19s\tremaining: 5.41s\n",
      "36:\tlearn: 1.9075695\ttotal: 1.2s\tremaining: 5.28s\n",
      "37:\tlearn: 1.9053785\ttotal: 1.21s\tremaining: 5.16s\n",
      "38:\tlearn: 1.9034077\ttotal: 1.22s\tremaining: 5.04s\n",
      "39:\tlearn: 1.9007242\ttotal: 1.23s\tremaining: 4.93s\n",
      "40:\tlearn: 1.8982898\ttotal: 1.25s\tremaining: 4.83s\n",
      "41:\tlearn: 1.8966125\ttotal: 1.26s\tremaining: 4.74s\n",
      "42:\tlearn: 1.8951411\ttotal: 1.27s\tremaining: 4.64s\n",
      "43:\tlearn: 1.8930262\ttotal: 1.28s\tremaining: 4.55s\n",
      "44:\tlearn: 1.8916998\ttotal: 1.29s\tremaining: 4.46s\n",
      "45:\tlearn: 1.8901481\ttotal: 1.31s\tremaining: 4.37s\n",
      "46:\tlearn: 1.8887999\ttotal: 1.32s\tremaining: 4.29s\n",
      "47:\tlearn: 1.8872851\ttotal: 1.33s\tremaining: 4.21s\n",
      "48:\tlearn: 1.8852626\ttotal: 1.34s\tremaining: 4.13s\n",
      "49:\tlearn: 1.8838998\ttotal: 1.35s\tremaining: 4.05s\n",
      "50:\tlearn: 1.8825759\ttotal: 1.36s\tremaining: 3.98s\n",
      "51:\tlearn: 1.8808542\ttotal: 1.38s\tremaining: 3.92s\n",
      "52:\tlearn: 1.8794897\ttotal: 1.39s\tremaining: 3.86s\n",
      "53:\tlearn: 1.8782710\ttotal: 1.4s\tremaining: 3.79s\n",
      "54:\tlearn: 1.8769625\ttotal: 1.41s\tremaining: 3.73s\n",
      "55:\tlearn: 1.8753844\ttotal: 1.43s\tremaining: 3.67s\n",
      "56:\tlearn: 1.8740157\ttotal: 1.44s\tremaining: 3.61s\n",
      "57:\tlearn: 1.8724796\ttotal: 1.47s\tremaining: 3.61s\n",
      "58:\tlearn: 1.8709305\ttotal: 1.48s\tremaining: 3.54s\n",
      "59:\tlearn: 1.8695051\ttotal: 1.53s\tremaining: 3.57s\n",
      "60:\tlearn: 1.8685739\ttotal: 1.54s\tremaining: 3.51s\n",
      "61:\tlearn: 1.8678589\ttotal: 1.55s\tremaining: 3.45s\n",
      "62:\tlearn: 1.8666718\ttotal: 1.56s\tremaining: 3.4s\n",
      "63:\tlearn: 1.8655625\ttotal: 1.58s\tremaining: 3.35s\n",
      "64:\tlearn: 1.8645425\ttotal: 1.63s\tremaining: 3.39s\n",
      "65:\tlearn: 1.8637089\ttotal: 1.67s\tremaining: 3.39s\n",
      "66:\tlearn: 1.8622981\ttotal: 1.68s\tremaining: 3.34s\n",
      "67:\tlearn: 1.8612751\ttotal: 1.7s\tremaining: 3.29s\n",
      "68:\tlearn: 1.8601273\ttotal: 1.71s\tremaining: 3.25s\n",
      "69:\tlearn: 1.8591944\ttotal: 1.75s\tremaining: 3.24s\n",
      "70:\tlearn: 1.8581302\ttotal: 1.76s\tremaining: 3.19s\n",
      "71:\tlearn: 1.8576184\ttotal: 1.77s\tremaining: 3.15s\n",
      "72:\tlearn: 1.8568656\ttotal: 1.78s\tremaining: 3.1s\n",
      "73:\tlearn: 1.8557704\ttotal: 1.8s\tremaining: 3.06s\n",
      "74:\tlearn: 1.8546086\ttotal: 1.81s\tremaining: 3.02s\n",
      "75:\tlearn: 1.8539856\ttotal: 1.83s\tremaining: 2.98s\n",
      "76:\tlearn: 1.8536748\ttotal: 1.84s\tremaining: 2.94s\n",
      "77:\tlearn: 1.8526476\ttotal: 1.91s\tremaining: 2.99s\n",
      "78:\tlearn: 1.8515059\ttotal: 1.92s\tremaining: 2.95s\n",
      "79:\tlearn: 1.8504260\ttotal: 1.93s\tremaining: 2.9s\n",
      "80:\tlearn: 1.8495112\ttotal: 1.94s\tremaining: 2.86s\n",
      "81:\tlearn: 1.8486103\ttotal: 1.96s\tremaining: 2.81s\n",
      "82:\tlearn: 1.8478011\ttotal: 1.97s\tremaining: 2.77s\n",
      "83:\tlearn: 1.8471471\ttotal: 1.98s\tremaining: 2.74s\n",
      "84:\tlearn: 1.8460271\ttotal: 1.99s\tremaining: 2.7s\n",
      "85:\tlearn: 1.8454621\ttotal: 2s\tremaining: 2.66s\n",
      "86:\tlearn: 1.8445800\ttotal: 2.02s\tremaining: 2.62s\n",
      "87:\tlearn: 1.8437975\ttotal: 2.03s\tremaining: 2.58s\n",
      "88:\tlearn: 1.8430557\ttotal: 2.04s\tremaining: 2.54s\n",
      "89:\tlearn: 1.8420982\ttotal: 2.05s\tremaining: 2.51s\n",
      "90:\tlearn: 1.8414656\ttotal: 2.06s\tremaining: 2.47s\n",
      "91:\tlearn: 1.8408331\ttotal: 2.07s\tremaining: 2.44s\n",
      "92:\tlearn: 1.8403312\ttotal: 2.09s\tremaining: 2.4s\n",
      "93:\tlearn: 1.8396916\ttotal: 2.1s\tremaining: 2.37s\n",
      "94:\tlearn: 1.8385949\ttotal: 2.11s\tremaining: 2.33s\n",
      "95:\tlearn: 1.8378819\ttotal: 2.12s\tremaining: 2.3s\n",
      "96:\tlearn: 1.8368338\ttotal: 2.13s\tremaining: 2.27s\n",
      "97:\tlearn: 1.8359267\ttotal: 2.15s\tremaining: 2.23s\n",
      "98:\tlearn: 1.8349931\ttotal: 2.16s\tremaining: 2.21s\n",
      "99:\tlearn: 1.8345268\ttotal: 2.17s\tremaining: 2.17s\n",
      "100:\tlearn: 1.8338573\ttotal: 2.19s\tremaining: 2.15s\n",
      "101:\tlearn: 1.8331129\ttotal: 2.2s\tremaining: 2.12s\n",
      "102:\tlearn: 1.8322314\ttotal: 2.21s\tremaining: 2.08s\n",
      "103:\tlearn: 1.8318013\ttotal: 2.22s\tremaining: 2.05s\n",
      "104:\tlearn: 1.8308886\ttotal: 2.23s\tremaining: 2.02s\n",
      "105:\tlearn: 1.8298724\ttotal: 2.25s\tremaining: 1.99s\n",
      "106:\tlearn: 1.8291284\ttotal: 2.26s\tremaining: 1.96s\n",
      "107:\tlearn: 1.8282034\ttotal: 2.27s\tremaining: 1.94s\n",
      "108:\tlearn: 1.8272328\ttotal: 2.28s\tremaining: 1.91s\n",
      "109:\tlearn: 1.8266719\ttotal: 2.29s\tremaining: 1.88s\n",
      "110:\tlearn: 1.8260977\ttotal: 2.31s\tremaining: 1.85s\n",
      "111:\tlearn: 1.8253342\ttotal: 2.32s\tremaining: 1.82s\n",
      "112:\tlearn: 1.8246220\ttotal: 2.34s\tremaining: 1.8s\n",
      "113:\tlearn: 1.8240256\ttotal: 2.35s\tremaining: 1.77s\n",
      "114:\tlearn: 1.8235204\ttotal: 2.37s\tremaining: 1.75s\n",
      "115:\tlearn: 1.8226863\ttotal: 2.38s\tremaining: 1.72s\n",
      "116:\tlearn: 1.8222342\ttotal: 2.39s\tremaining: 1.7s\n",
      "117:\tlearn: 1.8211650\ttotal: 2.4s\tremaining: 1.67s\n",
      "118:\tlearn: 1.8203592\ttotal: 2.42s\tremaining: 1.65s\n",
      "119:\tlearn: 1.8192866\ttotal: 2.44s\tremaining: 1.63s\n",
      "120:\tlearn: 1.8188940\ttotal: 2.46s\tremaining: 1.61s\n",
      "121:\tlearn: 1.8180623\ttotal: 2.49s\tremaining: 1.59s\n",
      "122:\tlearn: 1.8174903\ttotal: 2.52s\tremaining: 1.58s\n",
      "123:\tlearn: 1.8165624\ttotal: 2.55s\tremaining: 1.56s\n",
      "124:\tlearn: 1.8155460\ttotal: 2.57s\tremaining: 1.54s\n",
      "125:\tlearn: 1.8150480\ttotal: 2.6s\tremaining: 1.52s\n",
      "126:\tlearn: 1.8143215\ttotal: 2.62s\tremaining: 1.5s\n",
      "127:\tlearn: 1.8137218\ttotal: 2.64s\tremaining: 1.49s\n",
      "128:\tlearn: 1.8131162\ttotal: 2.66s\tremaining: 1.47s\n",
      "129:\tlearn: 1.8127836\ttotal: 2.68s\tremaining: 1.45s\n",
      "130:\tlearn: 1.8120230\ttotal: 2.71s\tremaining: 1.43s\n",
      "131:\tlearn: 1.8115411\ttotal: 2.73s\tremaining: 1.41s\n",
      "132:\tlearn: 1.8110919\ttotal: 2.77s\tremaining: 1.4s\n",
      "133:\tlearn: 1.8108427\ttotal: 2.79s\tremaining: 1.37s\n",
      "134:\tlearn: 1.8099256\ttotal: 2.81s\tremaining: 1.35s\n",
      "135:\tlearn: 1.8095992\ttotal: 2.84s\tremaining: 1.34s\n",
      "136:\tlearn: 1.8090341\ttotal: 2.86s\tremaining: 1.31s\n",
      "137:\tlearn: 1.8083639\ttotal: 2.88s\tremaining: 1.29s\n",
      "138:\tlearn: 1.8074268\ttotal: 2.9s\tremaining: 1.27s\n",
      "139:\tlearn: 1.8061748\ttotal: 2.92s\tremaining: 1.25s\n",
      "140:\tlearn: 1.8053309\ttotal: 3.09s\tremaining: 1.29s\n",
      "141:\tlearn: 1.8042250\ttotal: 3.15s\tremaining: 1.29s\n",
      "142:\tlearn: 1.8031586\ttotal: 3.17s\tremaining: 1.26s\n",
      "143:\tlearn: 1.8024619\ttotal: 3.19s\tremaining: 1.24s\n",
      "144:\tlearn: 1.8016330\ttotal: 3.26s\tremaining: 1.24s\n",
      "145:\tlearn: 1.8009718\ttotal: 3.27s\tremaining: 1.21s\n",
      "146:\tlearn: 1.8006094\ttotal: 3.28s\tremaining: 1.18s\n",
      "147:\tlearn: 1.7996873\ttotal: 3.29s\tremaining: 1.16s\n",
      "148:\tlearn: 1.7990190\ttotal: 3.3s\tremaining: 1.13s\n",
      "149:\tlearn: 1.7983018\ttotal: 3.31s\tremaining: 1.1s\n",
      "150:\tlearn: 1.7977834\ttotal: 3.33s\tremaining: 1.08s\n",
      "151:\tlearn: 1.7970113\ttotal: 3.34s\tremaining: 1.05s\n",
      "152:\tlearn: 1.7960626\ttotal: 3.35s\tremaining: 1.03s\n",
      "153:\tlearn: 1.7957068\ttotal: 3.36s\tremaining: 1s\n",
      "154:\tlearn: 1.7948351\ttotal: 3.37s\tremaining: 980ms\n",
      "155:\tlearn: 1.7944639\ttotal: 3.38s\tremaining: 955ms\n",
      "156:\tlearn: 1.7940096\ttotal: 3.4s\tremaining: 931ms\n",
      "157:\tlearn: 1.7935321\ttotal: 3.41s\tremaining: 907ms\n",
      "158:\tlearn: 1.7929813\ttotal: 3.42s\tremaining: 883ms\n",
      "159:\tlearn: 1.7921302\ttotal: 3.44s\tremaining: 860ms\n",
      "160:\tlearn: 1.7919576\ttotal: 3.45s\tremaining: 836ms\n",
      "161:\tlearn: 1.7911416\ttotal: 3.46s\tremaining: 812ms\n",
      "162:\tlearn: 1.7906378\ttotal: 3.47s\tremaining: 789ms\n",
      "163:\tlearn: 1.7895886\ttotal: 3.49s\tremaining: 765ms\n",
      "164:\tlearn: 1.7890712\ttotal: 3.5s\tremaining: 742ms\n",
      "165:\tlearn: 1.7883639\ttotal: 3.51s\tremaining: 719ms\n",
      "166:\tlearn: 1.7877138\ttotal: 3.52s\tremaining: 696ms\n",
      "167:\tlearn: 1.7872351\ttotal: 3.53s\tremaining: 673ms\n",
      "168:\tlearn: 1.7868008\ttotal: 3.54s\tremaining: 650ms\n",
      "169:\tlearn: 1.7865022\ttotal: 3.56s\tremaining: 627ms\n",
      "170:\tlearn: 1.7858723\ttotal: 3.57s\tremaining: 605ms\n",
      "171:\tlearn: 1.7853178\ttotal: 3.58s\tremaining: 583ms\n",
      "172:\tlearn: 1.7844529\ttotal: 3.6s\tremaining: 562ms\n",
      "173:\tlearn: 1.7840524\ttotal: 3.61s\tremaining: 539ms\n",
      "174:\tlearn: 1.7837036\ttotal: 3.62s\tremaining: 517ms\n",
      "175:\tlearn: 1.7835692\ttotal: 3.65s\tremaining: 498ms\n",
      "176:\tlearn: 1.7829138\ttotal: 3.67s\tremaining: 476ms\n",
      "177:\tlearn: 1.7822587\ttotal: 3.68s\tremaining: 454ms\n",
      "178:\tlearn: 1.7818501\ttotal: 3.69s\tremaining: 433ms\n",
      "179:\tlearn: 1.7809645\ttotal: 3.7s\tremaining: 411ms\n",
      "180:\tlearn: 1.7802153\ttotal: 3.71s\tremaining: 389ms\n",
      "181:\tlearn: 1.7792941\ttotal: 3.72s\tremaining: 368ms\n",
      "182:\tlearn: 1.7788241\ttotal: 3.74s\tremaining: 347ms\n",
      "183:\tlearn: 1.7779594\ttotal: 3.75s\tremaining: 326ms\n",
      "184:\tlearn: 1.7775617\ttotal: 3.76s\tremaining: 305ms\n",
      "185:\tlearn: 1.7768642\ttotal: 3.78s\tremaining: 284ms\n",
      "186:\tlearn: 1.7760558\ttotal: 3.79s\tremaining: 264ms\n",
      "187:\tlearn: 1.7750470\ttotal: 3.81s\tremaining: 243ms\n",
      "188:\tlearn: 1.7747641\ttotal: 3.82s\tremaining: 223ms\n",
      "189:\tlearn: 1.7741807\ttotal: 3.84s\tremaining: 202ms\n",
      "190:\tlearn: 1.7737637\ttotal: 3.86s\tremaining: 182ms\n",
      "191:\tlearn: 1.7733850\ttotal: 3.88s\tremaining: 162ms\n",
      "192:\tlearn: 1.7727494\ttotal: 3.9s\tremaining: 141ms\n",
      "193:\tlearn: 1.7725299\ttotal: 3.91s\tremaining: 121ms\n",
      "194:\tlearn: 1.7719568\ttotal: 3.93s\tremaining: 101ms\n",
      "195:\tlearn: 1.7713044\ttotal: 3.95s\tremaining: 80.6ms\n",
      "196:\tlearn: 1.7710985\ttotal: 3.96s\tremaining: 60.3ms\n",
      "197:\tlearn: 1.7705231\ttotal: 3.98s\tremaining: 40.2ms\n",
      "198:\tlearn: 1.7702093\ttotal: 3.99s\tremaining: 20ms\n",
      "199:\tlearn: 1.7697668\ttotal: 4.05s\tremaining: 0us\n"
     ]
    },
    {
     "data": {
      "text/html": [
       "<style>#sk-container-id-12 {color: black;background-color: white;}#sk-container-id-12 pre{padding: 0;}#sk-container-id-12 div.sk-toggleable {background-color: white;}#sk-container-id-12 label.sk-toggleable__label {cursor: pointer;display: block;width: 100%;margin-bottom: 0;padding: 0.3em;box-sizing: border-box;text-align: center;}#sk-container-id-12 label.sk-toggleable__label-arrow:before {content: \"▸\";float: left;margin-right: 0.25em;color: #696969;}#sk-container-id-12 label.sk-toggleable__label-arrow:hover:before {color: black;}#sk-container-id-12 div.sk-estimator:hover label.sk-toggleable__label-arrow:before {color: black;}#sk-container-id-12 div.sk-toggleable__content {max-height: 0;max-width: 0;overflow: hidden;text-align: left;background-color: #f0f8ff;}#sk-container-id-12 div.sk-toggleable__content pre {margin: 0.2em;color: black;border-radius: 0.25em;background-color: #f0f8ff;}#sk-container-id-12 input.sk-toggleable__control:checked~div.sk-toggleable__content {max-height: 200px;max-width: 100%;overflow: auto;}#sk-container-id-12 input.sk-toggleable__control:checked~label.sk-toggleable__label-arrow:before {content: \"▾\";}#sk-container-id-12 div.sk-estimator input.sk-toggleable__control:checked~label.sk-toggleable__label {background-color: #d4ebff;}#sk-container-id-12 div.sk-label input.sk-toggleable__control:checked~label.sk-toggleable__label {background-color: #d4ebff;}#sk-container-id-12 input.sk-hidden--visually {border: 0;clip: rect(1px 1px 1px 1px);clip: rect(1px, 1px, 1px, 1px);height: 1px;margin: -1px;overflow: hidden;padding: 0;position: absolute;width: 1px;}#sk-container-id-12 div.sk-estimator {font-family: monospace;background-color: #f0f8ff;border: 1px dotted black;border-radius: 0.25em;box-sizing: border-box;margin-bottom: 0.5em;}#sk-container-id-12 div.sk-estimator:hover {background-color: #d4ebff;}#sk-container-id-12 div.sk-parallel-item::after {content: \"\";width: 100%;border-bottom: 1px solid gray;flex-grow: 1;}#sk-container-id-12 div.sk-label:hover label.sk-toggleable__label {background-color: #d4ebff;}#sk-container-id-12 div.sk-serial::before {content: \"\";position: absolute;border-left: 1px solid gray;box-sizing: border-box;top: 0;bottom: 0;left: 50%;z-index: 0;}#sk-container-id-12 div.sk-serial {display: flex;flex-direction: column;align-items: center;background-color: white;padding-right: 0.2em;padding-left: 0.2em;position: relative;}#sk-container-id-12 div.sk-item {position: relative;z-index: 1;}#sk-container-id-12 div.sk-parallel {display: flex;align-items: stretch;justify-content: center;background-color: white;position: relative;}#sk-container-id-12 div.sk-item::before, #sk-container-id-12 div.sk-parallel-item::before {content: \"\";position: absolute;border-left: 1px solid gray;box-sizing: border-box;top: 0;bottom: 0;left: 50%;z-index: -1;}#sk-container-id-12 div.sk-parallel-item {display: flex;flex-direction: column;z-index: 1;position: relative;background-color: white;}#sk-container-id-12 div.sk-parallel-item:first-child::after {align-self: flex-end;width: 50%;}#sk-container-id-12 div.sk-parallel-item:last-child::after {align-self: flex-start;width: 50%;}#sk-container-id-12 div.sk-parallel-item:only-child::after {width: 0;}#sk-container-id-12 div.sk-dashed-wrapped {border: 1px dashed gray;margin: 0 0.4em 0.5em 0.4em;box-sizing: border-box;padding-bottom: 0.4em;background-color: white;}#sk-container-id-12 div.sk-label label {font-family: monospace;font-weight: bold;display: inline-block;line-height: 1.2em;}#sk-container-id-12 div.sk-label-container {text-align: center;}#sk-container-id-12 div.sk-container {/* jupyter's `normalize.less` sets `[hidden] { display: none; }` but bootstrap.min.css set `[hidden] { display: none !important; }` so we also need the `!important` here to be able to override the default hidden behavior on the sphinx rendered scikit-learn.org. See: https://github.com/scikit-learn/scikit-learn/issues/21755 */display: inline-block !important;position: relative;}#sk-container-id-12 div.sk-text-repr-fallback {display: none;}</style><div id=\"sk-container-id-12\" class=\"sk-top-container\"><div class=\"sk-text-repr-fallback\"><pre>GridSearchCV(cv=2,\n",
       "             estimator=&lt;catboost.core.CatBoostRegressor object at 0x000002174250A7D0&gt;,\n",
       "             n_jobs=-1,\n",
       "             param_grid={&#x27;depth&#x27;: [6, 8, 10], &#x27;iterations&#x27;: [200, 150],\n",
       "                         &#x27;learning_rate&#x27;: [0.01, 0.05, 0.1]})</pre><b>In a Jupyter environment, please rerun this cell to show the HTML representation or trust the notebook. <br />On GitHub, the HTML representation is unable to render, please try loading this page with nbviewer.org.</b></div><div class=\"sk-container\" hidden><div class=\"sk-item sk-dashed-wrapped\"><div class=\"sk-label-container\"><div class=\"sk-label sk-toggleable\"><input class=\"sk-toggleable__control sk-hidden--visually\" id=\"sk-estimator-id-12\" type=\"checkbox\" ><label for=\"sk-estimator-id-12\" class=\"sk-toggleable__label sk-toggleable__label-arrow\">GridSearchCV</label><div class=\"sk-toggleable__content\"><pre>GridSearchCV(cv=2,\n",
       "             estimator=&lt;catboost.core.CatBoostRegressor object at 0x000002174250A7D0&gt;,\n",
       "             n_jobs=-1,\n",
       "             param_grid={&#x27;depth&#x27;: [6, 8, 10], &#x27;iterations&#x27;: [200, 150],\n",
       "                         &#x27;learning_rate&#x27;: [0.01, 0.05, 0.1]})</pre></div></div></div><div class=\"sk-parallel\"><div class=\"sk-parallel-item\"><div class=\"sk-item\"><div class=\"sk-label-container\"><div class=\"sk-label sk-toggleable\"><input class=\"sk-toggleable__control sk-hidden--visually\" id=\"sk-estimator-id-13\" type=\"checkbox\" ><label for=\"sk-estimator-id-13\" class=\"sk-toggleable__label sk-toggleable__label-arrow\">estimator: CatBoostRegressor</label><div class=\"sk-toggleable__content\"><pre>&lt;catboost.core.CatBoostRegressor object at 0x000002174250A7D0&gt;</pre></div></div></div><div class=\"sk-serial\"><div class=\"sk-item\"><div class=\"sk-estimator sk-toggleable\"><input class=\"sk-toggleable__control sk-hidden--visually\" id=\"sk-estimator-id-14\" type=\"checkbox\" ><label for=\"sk-estimator-id-14\" class=\"sk-toggleable__label sk-toggleable__label-arrow\">CatBoostRegressor</label><div class=\"sk-toggleable__content\"><pre>&lt;catboost.core.CatBoostRegressor object at 0x000002174250A7D0&gt;</pre></div></div></div></div></div></div></div></div></div></div>"
      ],
      "text/plain": [
       "GridSearchCV(cv=2,\n",
       "             estimator=<catboost.core.CatBoostRegressor object at 0x000002174250A7D0>,\n",
       "             n_jobs=-1,\n",
       "             param_grid={'depth': [6, 8, 10], 'iterations': [200, 150],\n",
       "                         'learning_rate': [0.01, 0.05, 0.1]})"
      ]
     },
     "execution_count": 102,
     "metadata": {},
     "output_type": "execute_result"
    }
   ],
   "source": [
    "model = CatBoostRegressor()\n",
    "parameters = {'depth': [6,8,10],\n",
    "              'learning_rate':[0.01 , 0.05 , 0.1],\n",
    "              'iterations': [200,150]}\n",
    "grid = GridSearchCV(estimator = model,\n",
    "                   param_grid = parameters , cv=2,\n",
    "                   n_jobs = -1)\n",
    "grid.fit(X_train,y_train)"
   ]
  },
  {
   "cell_type": "code",
   "execution_count": 103,
   "id": "9e4a80d1-b679-4ecb-b843-6549d4b0df4c",
   "metadata": {},
   "outputs": [
    {
     "data": {
      "text/plain": [
       "{'depth': 8, 'iterations': 200, 'learning_rate': 0.1}"
      ]
     },
     "execution_count": 103,
     "metadata": {},
     "output_type": "execute_result"
    }
   ],
   "source": [
    "grid.best_params_"
   ]
  },
  {
   "cell_type": "code",
   "execution_count": 104,
   "id": "03b34fa9-5fbd-4477-810e-85f6e4e74850",
   "metadata": {},
   "outputs": [
    {
     "name": "stdout",
     "output_type": "stream",
     "text": [
      "0:\tlearn: 3.0084674\ttotal: 14.6ms\tremaining: 2.92s\n",
      "1:\tlearn: 2.8685084\ttotal: 26.8ms\tremaining: 2.65s\n",
      "2:\tlearn: 2.7435731\ttotal: 38.7ms\tremaining: 2.54s\n",
      "3:\tlearn: 2.6359908\ttotal: 54.1ms\tremaining: 2.65s\n",
      "4:\tlearn: 2.5404985\ttotal: 66.4ms\tremaining: 2.59s\n",
      "5:\tlearn: 2.4585274\ttotal: 78.5ms\tremaining: 2.54s\n",
      "6:\tlearn: 2.3869963\ttotal: 90.8ms\tremaining: 2.5s\n",
      "7:\tlearn: 2.3253698\ttotal: 102ms\tremaining: 2.46s\n",
      "8:\tlearn: 2.2717957\ttotal: 114ms\tremaining: 2.43s\n",
      "9:\tlearn: 2.2282199\ttotal: 126ms\tremaining: 2.4s\n",
      "10:\tlearn: 2.1881551\ttotal: 140ms\tremaining: 2.4s\n",
      "11:\tlearn: 2.1526975\ttotal: 151ms\tremaining: 2.37s\n",
      "12:\tlearn: 2.1232141\ttotal: 163ms\tremaining: 2.35s\n",
      "13:\tlearn: 2.0981090\ttotal: 173ms\tremaining: 2.3s\n",
      "14:\tlearn: 2.0751027\ttotal: 184ms\tremaining: 2.27s\n",
      "15:\tlearn: 2.0548890\ttotal: 196ms\tremaining: 2.25s\n",
      "16:\tlearn: 2.0384562\ttotal: 207ms\tremaining: 2.23s\n",
      "17:\tlearn: 2.0241102\ttotal: 219ms\tremaining: 2.21s\n",
      "18:\tlearn: 2.0101246\ttotal: 231ms\tremaining: 2.2s\n",
      "19:\tlearn: 1.9989180\ttotal: 242ms\tremaining: 2.18s\n",
      "20:\tlearn: 1.9875223\ttotal: 256ms\tremaining: 2.18s\n",
      "21:\tlearn: 1.9776712\ttotal: 269ms\tremaining: 2.18s\n",
      "22:\tlearn: 1.9692300\ttotal: 284ms\tremaining: 2.18s\n",
      "23:\tlearn: 1.9623102\ttotal: 294ms\tremaining: 2.15s\n",
      "24:\tlearn: 1.9548676\ttotal: 303ms\tremaining: 2.12s\n",
      "25:\tlearn: 1.9478986\ttotal: 312ms\tremaining: 2.09s\n",
      "26:\tlearn: 1.9425805\ttotal: 321ms\tremaining: 2.06s\n",
      "27:\tlearn: 1.9386824\ttotal: 330ms\tremaining: 2.02s\n",
      "28:\tlearn: 1.9344932\ttotal: 339ms\tremaining: 2s\n",
      "29:\tlearn: 1.9302403\ttotal: 348ms\tremaining: 1.97s\n",
      "30:\tlearn: 1.9256310\ttotal: 359ms\tremaining: 1.96s\n",
      "31:\tlearn: 1.9224942\ttotal: 368ms\tremaining: 1.93s\n",
      "32:\tlearn: 1.9197479\ttotal: 378ms\tremaining: 1.91s\n",
      "33:\tlearn: 1.9165053\ttotal: 388ms\tremaining: 1.9s\n",
      "34:\tlearn: 1.9135171\ttotal: 398ms\tremaining: 1.88s\n",
      "35:\tlearn: 1.9102188\ttotal: 408ms\tremaining: 1.86s\n",
      "36:\tlearn: 1.9075695\ttotal: 417ms\tremaining: 1.84s\n",
      "37:\tlearn: 1.9053785\ttotal: 427ms\tremaining: 1.82s\n",
      "38:\tlearn: 1.9034077\ttotal: 437ms\tremaining: 1.8s\n",
      "39:\tlearn: 1.9007242\ttotal: 447ms\tremaining: 1.79s\n",
      "40:\tlearn: 1.8982898\ttotal: 456ms\tremaining: 1.77s\n",
      "41:\tlearn: 1.8966125\ttotal: 468ms\tremaining: 1.76s\n",
      "42:\tlearn: 1.8951411\ttotal: 478ms\tremaining: 1.75s\n",
      "43:\tlearn: 1.8930262\ttotal: 489ms\tremaining: 1.73s\n",
      "44:\tlearn: 1.8916998\ttotal: 497ms\tremaining: 1.71s\n",
      "45:\tlearn: 1.8901481\ttotal: 507ms\tremaining: 1.7s\n",
      "46:\tlearn: 1.8887999\ttotal: 516ms\tremaining: 1.68s\n",
      "47:\tlearn: 1.8872851\ttotal: 526ms\tremaining: 1.67s\n",
      "48:\tlearn: 1.8852626\ttotal: 539ms\tremaining: 1.66s\n",
      "49:\tlearn: 1.8838998\ttotal: 551ms\tremaining: 1.65s\n",
      "50:\tlearn: 1.8825759\ttotal: 562ms\tremaining: 1.64s\n",
      "51:\tlearn: 1.8808542\ttotal: 574ms\tremaining: 1.63s\n",
      "52:\tlearn: 1.8794897\ttotal: 585ms\tremaining: 1.62s\n",
      "53:\tlearn: 1.8782710\ttotal: 596ms\tremaining: 1.61s\n",
      "54:\tlearn: 1.8769625\ttotal: 608ms\tremaining: 1.6s\n",
      "55:\tlearn: 1.8753844\ttotal: 621ms\tremaining: 1.6s\n",
      "56:\tlearn: 1.8740157\ttotal: 632ms\tremaining: 1.58s\n",
      "57:\tlearn: 1.8724796\ttotal: 643ms\tremaining: 1.57s\n",
      "58:\tlearn: 1.8709305\ttotal: 656ms\tremaining: 1.57s\n",
      "59:\tlearn: 1.8695051\ttotal: 669ms\tremaining: 1.56s\n",
      "60:\tlearn: 1.8685739\ttotal: 694ms\tremaining: 1.58s\n",
      "61:\tlearn: 1.8678589\ttotal: 705ms\tremaining: 1.57s\n",
      "62:\tlearn: 1.8666718\ttotal: 716ms\tremaining: 1.56s\n",
      "63:\tlearn: 1.8655625\ttotal: 727ms\tremaining: 1.54s\n",
      "64:\tlearn: 1.8645425\ttotal: 737ms\tremaining: 1.53s\n",
      "65:\tlearn: 1.8637089\ttotal: 749ms\tremaining: 1.52s\n",
      "66:\tlearn: 1.8622981\ttotal: 761ms\tremaining: 1.51s\n",
      "67:\tlearn: 1.8612751\ttotal: 770ms\tremaining: 1.5s\n",
      "68:\tlearn: 1.8601273\ttotal: 779ms\tremaining: 1.48s\n",
      "69:\tlearn: 1.8591944\ttotal: 789ms\tremaining: 1.47s\n",
      "70:\tlearn: 1.8581302\ttotal: 797ms\tremaining: 1.45s\n",
      "71:\tlearn: 1.8576184\ttotal: 807ms\tremaining: 1.43s\n",
      "72:\tlearn: 1.8568656\ttotal: 817ms\tremaining: 1.42s\n",
      "73:\tlearn: 1.8557704\ttotal: 826ms\tremaining: 1.41s\n",
      "74:\tlearn: 1.8546086\ttotal: 837ms\tremaining: 1.39s\n",
      "75:\tlearn: 1.8539856\ttotal: 846ms\tremaining: 1.38s\n",
      "76:\tlearn: 1.8536748\ttotal: 857ms\tremaining: 1.37s\n",
      "77:\tlearn: 1.8526476\ttotal: 869ms\tremaining: 1.36s\n",
      "78:\tlearn: 1.8515059\ttotal: 884ms\tremaining: 1.35s\n",
      "79:\tlearn: 1.8504260\ttotal: 895ms\tremaining: 1.34s\n",
      "80:\tlearn: 1.8495112\ttotal: 905ms\tremaining: 1.33s\n",
      "81:\tlearn: 1.8486103\ttotal: 913ms\tremaining: 1.31s\n",
      "82:\tlearn: 1.8478011\ttotal: 923ms\tremaining: 1.3s\n",
      "83:\tlearn: 1.8471471\ttotal: 932ms\tremaining: 1.29s\n",
      "84:\tlearn: 1.8460271\ttotal: 945ms\tremaining: 1.28s\n",
      "85:\tlearn: 1.8454621\ttotal: 956ms\tremaining: 1.27s\n",
      "86:\tlearn: 1.8445800\ttotal: 965ms\tremaining: 1.25s\n",
      "87:\tlearn: 1.8437975\ttotal: 976ms\tremaining: 1.24s\n",
      "88:\tlearn: 1.8430557\ttotal: 985ms\tremaining: 1.23s\n",
      "89:\tlearn: 1.8420982\ttotal: 994ms\tremaining: 1.22s\n",
      "90:\tlearn: 1.8414656\ttotal: 1s\tremaining: 1.2s\n",
      "91:\tlearn: 1.8408331\ttotal: 1.01s\tremaining: 1.19s\n",
      "92:\tlearn: 1.8403312\ttotal: 1.02s\tremaining: 1.18s\n",
      "93:\tlearn: 1.8396916\ttotal: 1.03s\tremaining: 1.16s\n",
      "94:\tlearn: 1.8385949\ttotal: 1.04s\tremaining: 1.15s\n",
      "95:\tlearn: 1.8378819\ttotal: 1.05s\tremaining: 1.14s\n",
      "96:\tlearn: 1.8368338\ttotal: 1.06s\tremaining: 1.13s\n",
      "97:\tlearn: 1.8359267\ttotal: 1.07s\tremaining: 1.11s\n",
      "98:\tlearn: 1.8349931\ttotal: 1.08s\tremaining: 1.1s\n",
      "99:\tlearn: 1.8345268\ttotal: 1.09s\tremaining: 1.09s\n",
      "100:\tlearn: 1.8338573\ttotal: 1.1s\tremaining: 1.08s\n",
      "101:\tlearn: 1.8331129\ttotal: 1.11s\tremaining: 1.07s\n",
      "102:\tlearn: 1.8322314\ttotal: 1.12s\tremaining: 1.05s\n",
      "103:\tlearn: 1.8318013\ttotal: 1.13s\tremaining: 1.04s\n",
      "104:\tlearn: 1.8308886\ttotal: 1.14s\tremaining: 1.03s\n",
      "105:\tlearn: 1.8298724\ttotal: 1.15s\tremaining: 1.02s\n",
      "106:\tlearn: 1.8291284\ttotal: 1.16s\tremaining: 1s\n",
      "107:\tlearn: 1.8282034\ttotal: 1.17s\tremaining: 994ms\n",
      "108:\tlearn: 1.8272328\ttotal: 1.18s\tremaining: 982ms\n",
      "109:\tlearn: 1.8266719\ttotal: 1.19s\tremaining: 970ms\n",
      "110:\tlearn: 1.8260977\ttotal: 1.19s\tremaining: 958ms\n",
      "111:\tlearn: 1.8253342\ttotal: 1.21s\tremaining: 948ms\n",
      "112:\tlearn: 1.8246220\ttotal: 1.22s\tremaining: 936ms\n",
      "113:\tlearn: 1.8240256\ttotal: 1.22s\tremaining: 924ms\n",
      "114:\tlearn: 1.8235204\ttotal: 1.23s\tremaining: 912ms\n",
      "115:\tlearn: 1.8226863\ttotal: 1.24s\tremaining: 901ms\n",
      "116:\tlearn: 1.8222342\ttotal: 1.25s\tremaining: 890ms\n",
      "117:\tlearn: 1.8211650\ttotal: 1.26s\tremaining: 879ms\n",
      "118:\tlearn: 1.8203592\ttotal: 1.27s\tremaining: 868ms\n",
      "119:\tlearn: 1.8192866\ttotal: 1.29s\tremaining: 858ms\n",
      "120:\tlearn: 1.8188940\ttotal: 1.34s\tremaining: 877ms\n",
      "121:\tlearn: 1.8180623\ttotal: 1.36s\tremaining: 871ms\n",
      "122:\tlearn: 1.8174903\ttotal: 1.37s\tremaining: 861ms\n",
      "123:\tlearn: 1.8165624\ttotal: 1.39s\tremaining: 849ms\n",
      "124:\tlearn: 1.8155460\ttotal: 1.4s\tremaining: 838ms\n",
      "125:\tlearn: 1.8150480\ttotal: 1.41s\tremaining: 826ms\n",
      "126:\tlearn: 1.8143215\ttotal: 1.42s\tremaining: 814ms\n",
      "127:\tlearn: 1.8137218\ttotal: 1.43s\tremaining: 802ms\n",
      "128:\tlearn: 1.8131162\ttotal: 1.44s\tremaining: 790ms\n",
      "129:\tlearn: 1.8127836\ttotal: 1.44s\tremaining: 778ms\n",
      "130:\tlearn: 1.8120230\ttotal: 1.46s\tremaining: 767ms\n",
      "131:\tlearn: 1.8115411\ttotal: 1.47s\tremaining: 755ms\n",
      "132:\tlearn: 1.8110919\ttotal: 1.47s\tremaining: 743ms\n",
      "133:\tlearn: 1.8108427\ttotal: 1.48s\tremaining: 731ms\n",
      "134:\tlearn: 1.8099256\ttotal: 1.51s\tremaining: 726ms\n",
      "135:\tlearn: 1.8095992\ttotal: 1.52s\tremaining: 713ms\n",
      "136:\tlearn: 1.8090341\ttotal: 1.53s\tremaining: 703ms\n",
      "137:\tlearn: 1.8083639\ttotal: 1.54s\tremaining: 692ms\n",
      "138:\tlearn: 1.8074268\ttotal: 1.55s\tremaining: 681ms\n",
      "139:\tlearn: 1.8061748\ttotal: 1.56s\tremaining: 669ms\n",
      "140:\tlearn: 1.8053309\ttotal: 1.57s\tremaining: 657ms\n",
      "141:\tlearn: 1.8042250\ttotal: 1.58s\tremaining: 646ms\n",
      "142:\tlearn: 1.8031586\ttotal: 1.59s\tremaining: 635ms\n",
      "143:\tlearn: 1.8024619\ttotal: 1.6s\tremaining: 624ms\n",
      "144:\tlearn: 1.8016330\ttotal: 1.61s\tremaining: 612ms\n",
      "145:\tlearn: 1.8009718\ttotal: 1.62s\tremaining: 600ms\n",
      "146:\tlearn: 1.8006094\ttotal: 1.63s\tremaining: 589ms\n",
      "147:\tlearn: 1.7996873\ttotal: 1.64s\tremaining: 577ms\n",
      "148:\tlearn: 1.7990190\ttotal: 1.65s\tremaining: 566ms\n",
      "149:\tlearn: 1.7983018\ttotal: 1.67s\tremaining: 555ms\n",
      "150:\tlearn: 1.7977834\ttotal: 1.68s\tremaining: 544ms\n",
      "151:\tlearn: 1.7970113\ttotal: 1.69s\tremaining: 532ms\n",
      "152:\tlearn: 1.7960626\ttotal: 1.7s\tremaining: 522ms\n",
      "153:\tlearn: 1.7957068\ttotal: 1.71s\tremaining: 512ms\n",
      "154:\tlearn: 1.7948351\ttotal: 1.73s\tremaining: 501ms\n",
      "155:\tlearn: 1.7944639\ttotal: 1.74s\tremaining: 490ms\n",
      "156:\tlearn: 1.7940096\ttotal: 1.75s\tremaining: 479ms\n",
      "157:\tlearn: 1.7935321\ttotal: 1.76s\tremaining: 468ms\n",
      "158:\tlearn: 1.7929813\ttotal: 1.77s\tremaining: 456ms\n",
      "159:\tlearn: 1.7921302\ttotal: 1.78s\tremaining: 445ms\n",
      "160:\tlearn: 1.7919576\ttotal: 1.79s\tremaining: 434ms\n",
      "161:\tlearn: 1.7911416\ttotal: 1.8s\tremaining: 423ms\n",
      "162:\tlearn: 1.7906378\ttotal: 1.81s\tremaining: 412ms\n",
      "163:\tlearn: 1.7895886\ttotal: 1.83s\tremaining: 401ms\n",
      "164:\tlearn: 1.7890712\ttotal: 1.83s\tremaining: 389ms\n",
      "165:\tlearn: 1.7883639\ttotal: 1.86s\tremaining: 381ms\n",
      "166:\tlearn: 1.7877138\ttotal: 1.87s\tremaining: 369ms\n",
      "167:\tlearn: 1.7872351\ttotal: 1.88s\tremaining: 357ms\n",
      "168:\tlearn: 1.7868008\ttotal: 1.89s\tremaining: 346ms\n",
      "169:\tlearn: 1.7865022\ttotal: 1.89s\tremaining: 334ms\n",
      "170:\tlearn: 1.7858723\ttotal: 1.9s\tremaining: 323ms\n",
      "171:\tlearn: 1.7853178\ttotal: 1.91s\tremaining: 311ms\n",
      "172:\tlearn: 1.7844529\ttotal: 1.92s\tremaining: 300ms\n",
      "173:\tlearn: 1.7840524\ttotal: 1.93s\tremaining: 289ms\n",
      "174:\tlearn: 1.7837036\ttotal: 1.94s\tremaining: 278ms\n",
      "175:\tlearn: 1.7835692\ttotal: 1.95s\tremaining: 266ms\n",
      "176:\tlearn: 1.7829138\ttotal: 1.96s\tremaining: 255ms\n",
      "177:\tlearn: 1.7822587\ttotal: 1.97s\tremaining: 244ms\n",
      "178:\tlearn: 1.7818501\ttotal: 1.98s\tremaining: 232ms\n",
      "179:\tlearn: 1.7809645\ttotal: 1.99s\tremaining: 221ms\n",
      "180:\tlearn: 1.7802153\ttotal: 2s\tremaining: 210ms\n",
      "181:\tlearn: 1.7792941\ttotal: 2.01s\tremaining: 199ms\n",
      "182:\tlearn: 1.7788241\ttotal: 2.02s\tremaining: 187ms\n",
      "183:\tlearn: 1.7779594\ttotal: 2.03s\tremaining: 176ms\n",
      "184:\tlearn: 1.7775617\ttotal: 2.04s\tremaining: 165ms\n",
      "185:\tlearn: 1.7768642\ttotal: 2.05s\tremaining: 154ms\n",
      "186:\tlearn: 1.7760558\ttotal: 2.06s\tremaining: 143ms\n",
      "187:\tlearn: 1.7750470\ttotal: 2.06s\tremaining: 132ms\n",
      "188:\tlearn: 1.7747641\ttotal: 2.07s\tremaining: 121ms\n",
      "189:\tlearn: 1.7741807\ttotal: 2.08s\tremaining: 110ms\n",
      "190:\tlearn: 1.7737637\ttotal: 2.09s\tremaining: 98.6ms\n",
      "191:\tlearn: 1.7733850\ttotal: 2.1s\tremaining: 87.6ms\n",
      "192:\tlearn: 1.7727494\ttotal: 2.11s\tremaining: 76.6ms\n",
      "193:\tlearn: 1.7725299\ttotal: 2.12s\tremaining: 65.7ms\n",
      "194:\tlearn: 1.7719568\ttotal: 2.13s\tremaining: 54.8ms\n",
      "195:\tlearn: 1.7713044\ttotal: 2.15s\tremaining: 43.8ms\n",
      "196:\tlearn: 1.7710985\ttotal: 2.15s\tremaining: 32.8ms\n",
      "197:\tlearn: 1.7705231\ttotal: 2.16s\tremaining: 21.8ms\n",
      "198:\tlearn: 1.7702093\ttotal: 2.17s\tremaining: 10.9ms\n",
      "199:\tlearn: 1.7697668\ttotal: 2.18s\tremaining: 0us\n"
     ]
    },
    {
     "data": {
      "text/plain": [
       "<catboost.core.CatBoostRegressor at 0x21743e45950>"
      ]
     },
     "execution_count": 104,
     "metadata": {},
     "output_type": "execute_result"
    }
   ],
   "source": [
    "model_8 = CatBoostRegressor(depth = 8 , iterations = 200 , learning_rate = 0.1)\n",
    "model_8.fit(X_train,y_train)"
   ]
  },
  {
   "cell_type": "code",
   "execution_count": 106,
   "id": "6e26b75c-f692-4804-a315-aeeb88e0b171",
   "metadata": {},
   "outputs": [],
   "source": [
    "test_data = scaler.fit_transform(test_data)"
   ]
  },
  {
   "cell_type": "code",
   "execution_count": 107,
   "id": "237121be-36e4-4f2d-b62c-8e1604135c41",
   "metadata": {},
   "outputs": [
    {
     "data": {
      "text/plain": [
       "array([[ 1.19030653,  1.08472313,  0.74935358, ...,  1.35772434,\n",
       "         1.42058358,  0.57288709],\n",
       "       [ 1.19030653,  0.53203837,  0.59545832, ...,  0.67218583,\n",
       "         0.49722834,  0.37646943],\n",
       "       [ 1.19030653,  0.36198152,  0.18507096, ...,  0.05520117,\n",
       "         0.14972906,  0.1107279 ],\n",
       "       ...,\n",
       "       [-0.07089855,  0.6170668 ,  0.39026464, ...,  0.25351767,\n",
       "         0.3036216 ,  0.2994429 ],\n",
       "       [-1.33210363,  1.21226577,  1.26233779, ...,  1.21082323,\n",
       "         1.86736838,  1.60889394],\n",
       "       [-1.33210363, -0.74338801, -0.63570377, ..., -0.92413956,\n",
       "        -0.77859046, -1.04467008]])"
      ]
     },
     "execution_count": 107,
     "metadata": {},
     "output_type": "execute_result"
    }
   ],
   "source": [
    "test_data"
   ]
  },
  {
   "cell_type": "code",
   "execution_count": 108,
   "id": "aa9f5186-1c6a-4324-9504-b532a1459ea2",
   "metadata": {},
   "outputs": [],
   "source": [
    "y_pred_8 = model_8.predict(test_data)"
   ]
  },
  {
   "cell_type": "code",
   "execution_count": 109,
   "id": "9bb381fb-c2ad-47b0-b11b-7e4ef351b993",
   "metadata": {},
   "outputs": [
    {
     "data": {
      "text/plain": [
       "array([ 9.39642707,  9.80348662, 10.12645821, ..., 12.12335518,\n",
       "       13.18912194,  9.64037322])"
      ]
     },
     "execution_count": 109,
     "metadata": {},
     "output_type": "execute_result"
    }
   ],
   "source": [
    "y_pred_8"
   ]
  },
  {
   "cell_type": "code",
   "execution_count": 110,
   "id": "5605ce4b-d310-4ea9-93b8-19e0fc962edb",
   "metadata": {},
   "outputs": [
    {
     "name": "stdout",
     "output_type": "stream",
     "text": [
      "Training score: 0.6888994909994421\n",
      "Validation score: 0.0992766754052089\n"
     ]
    }
   ],
   "source": [
    "train_score8 = model_8.score(X_train,y_train)\n",
    "val_score8 = model_8.score(X_valid , y_valid)\n",
    "print(\"Training score:\" , train_score8)\n",
    "print(\"Validation score:\" , val_score8)"
   ]
  },
  {
   "cell_type": "code",
   "execution_count": 111,
   "id": "089fec37-034b-4a63-9641-3e2476a9b448",
   "metadata": {},
   "outputs": [],
   "source": [
    "catboost = pd.DataFrame({'id': submission.id, 'Rings': y_pred_8})\n",
    "catboost.to_csv('catboost.csv', index = False)"
   ]
  },
  {
   "cell_type": "code",
   "execution_count": 112,
   "id": "5f433c34-d648-4de5-a95e-b603c4740341",
   "metadata": {},
   "outputs": [
    {
     "data": {
      "text/html": [
       "<div>\n",
       "<style scoped>\n",
       "    .dataframe tbody tr th:only-of-type {\n",
       "        vertical-align: middle;\n",
       "    }\n",
       "\n",
       "    .dataframe tbody tr th {\n",
       "        vertical-align: top;\n",
       "    }\n",
       "\n",
       "    .dataframe thead th {\n",
       "        text-align: right;\n",
       "    }\n",
       "</style>\n",
       "<table border=\"1\" class=\"dataframe\">\n",
       "  <thead>\n",
       "    <tr style=\"text-align: right;\">\n",
       "      <th></th>\n",
       "      <th>id</th>\n",
       "      <th>Rings</th>\n",
       "    </tr>\n",
       "  </thead>\n",
       "  <tbody>\n",
       "    <tr>\n",
       "      <th>0</th>\n",
       "      <td>90615</td>\n",
       "      <td>9.396427</td>\n",
       "    </tr>\n",
       "    <tr>\n",
       "      <th>1</th>\n",
       "      <td>90616</td>\n",
       "      <td>9.803487</td>\n",
       "    </tr>\n",
       "    <tr>\n",
       "      <th>2</th>\n",
       "      <td>90617</td>\n",
       "      <td>10.126458</td>\n",
       "    </tr>\n",
       "    <tr>\n",
       "      <th>3</th>\n",
       "      <td>90618</td>\n",
       "      <td>9.990716</td>\n",
       "    </tr>\n",
       "    <tr>\n",
       "      <th>4</th>\n",
       "      <td>90619</td>\n",
       "      <td>7.629881</td>\n",
       "    </tr>\n",
       "  </tbody>\n",
       "</table>\n",
       "</div>"
      ],
      "text/plain": [
       "      id      Rings\n",
       "0  90615   9.396427\n",
       "1  90616   9.803487\n",
       "2  90617  10.126458\n",
       "3  90618   9.990716\n",
       "4  90619   7.629881"
      ]
     },
     "execution_count": 112,
     "metadata": {},
     "output_type": "execute_result"
    }
   ],
   "source": [
    "catboost.head()"
   ]
  },
  {
   "cell_type": "code",
   "execution_count": null,
   "id": "912846c9-8951-4d18-836f-353f9d00be5b",
   "metadata": {},
   "outputs": [],
   "source": []
  }
 ],
 "metadata": {
  "kernelspec": {
   "display_name": "Python 3 (ipykernel)",
   "language": "python",
   "name": "python3"
  },
  "language_info": {
   "codemirror_mode": {
    "name": "ipython",
    "version": 3
   },
   "file_extension": ".py",
   "mimetype": "text/x-python",
   "name": "python",
   "nbconvert_exporter": "python",
   "pygments_lexer": "ipython3",
   "version": "3.11.7"
  }
 },
 "nbformat": 4,
 "nbformat_minor": 5
}
