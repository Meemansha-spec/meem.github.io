{
  "nbformat": 4,
  "nbformat_minor": 0,
  "metadata": {
    "colab": {
      "name": "Coursera_01_NLP.ipynb",
      "provenance": [],
      "collapsed_sections": [],
      "toc_visible": true,
      "include_colab_link": true
    },
    "kernelspec": {
      "name": "python3",
      "display_name": "Python 3"
    },
    "accelerator": "GPU"
  },
  "cells": [
    {
      "cell_type": "markdown",
      "metadata": {
        "id": "view-in-github",
        "colab_type": "text"
      },
      "source": [
        "<a href=\"https://colab.research.google.com/github/Meemansha-spec/meem.github.io/blob/master/Coursera_01_NLP.ipynb\" target=\"_parent\"><img src=\"https://colab.research.google.com/assets/colab-badge.svg\" alt=\"Open In Colab\"/></a>"
      ]
    },
    {
      "cell_type": "markdown",
      "metadata": {
        "id": "Gj8ERDhGJFFf"
      },
      "source": [
        "### Lets start with Natural Language processing\n",
        "- https://www.tensorflow.org/api_docs/python/tf/keras/preprocessing/text/Tokenizer"
      ]
    },
    {
      "cell_type": "code",
      "metadata": {
        "colab": {
          "base_uri": "https://localhost:8080/"
        },
        "id": "GlzLtO5bJLfs",
        "outputId": "078e12b0-389e-435e-b657-1d6ea768f3aa"
      },
      "source": [
        "import tensorflow as tf\n",
        "import keras \n",
        "from tensorflow.keras.preprocessing.text import Tokenizer\n",
        "from tensorflow.keras.preprocessing.sequence import pad_sequences\n",
        "\n",
        "sentences = [\"Hogwarts is my home\",\"Tom Marvolo Riddle\",\"The best witch of our age\",\"The chosen one\"]\n",
        "\n",
        "tokenizer = Tokenizer(num_words=100,\n",
        "                    filters='!\"#$%&()*+,-./:;<=>?@[\\\\]^_`{|}~\\t\\n',\n",
        "                    lower=True, split=' ', char_level=False, oov_token=None,\n",
        "                    document_count=0)\n",
        "tokenizer.fit_on_texts(sentences)\n",
        "word_index = tokenizer.word_index\n",
        "word_index\n",
        "\n",
        "sequences = tokenizer.texts_to_sequences(sentences)\n",
        "sequences"
      ],
      "execution_count": 16,
      "outputs": [
        {
          "output_type": "execute_result",
          "data": {
            "text/plain": [
              "[[2, 3, 4, 5], [6, 7, 8], [1, 9, 10, 11, 12, 13], [1, 14, 15]]"
            ]
          },
          "metadata": {
            "tags": []
          },
          "execution_count": 16
        }
      ]
    },
    {
      "cell_type": "code",
      "metadata": {
        "id": "5fD0sX4DL89u"
      },
      "source": [
        "padded_outputs = pad_sequences(sequences,padding = \"post\")"
      ],
      "execution_count": 18,
      "outputs": []
    },
    {
      "cell_type": "code",
      "metadata": {
        "colab": {
          "base_uri": "https://localhost:8080/"
        },
        "id": "S4qLJ3rjNi7M",
        "outputId": "4ea22942-f539-40cd-e77e-6c428d8bcd1b"
      },
      "source": [
        "padded_outputs"
      ],
      "execution_count": 19,
      "outputs": [
        {
          "output_type": "execute_result",
          "data": {
            "text/plain": [
              "array([[ 2,  3,  4,  5,  0,  0],\n",
              "       [ 6,  7,  8,  0,  0,  0],\n",
              "       [ 1,  9, 10, 11, 12, 13],\n",
              "       [ 1, 14, 15,  0,  0,  0]], dtype=int32)"
            ]
          },
          "metadata": {
            "tags": []
          },
          "execution_count": 19
        }
      ]
    },
    {
      "cell_type": "code",
      "metadata": {
        "id": "-biPv4M3Nnsb"
      },
      "source": [
        ""
      ],
      "execution_count": null,
      "outputs": []
    }
  ]
}